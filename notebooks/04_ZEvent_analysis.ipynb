{
 "cells": [
  {
   "cell_type": "markdown",
   "id": "7c85a7d5",
   "metadata": {},
   "source": [
    "# Analyse Approfondie de ZEvent 2025"
   ]
  },
  {
   "cell_type": "markdown",
   "id": "1c3ccb3c",
   "metadata": {},
   "source": [
    "## Plan d'Analyse\n",
    "\n",
    "1.  **Introduction :**\n",
    "    *   Présentation rapide du ZEvent et du jeu de données.\n",
    "    *   Objectifs de l'analyse.\n",
    "\n",
    "2.  **Chargement et Prétraitement des Données :**\n",
    "    *   Charger tous les jeux de données nettoyés dans des DataFrames pandas.\n",
    "    *   Effectuer le nettoyage et le prétraitement nécessaires (conversion des types de données, gestion des valeurs manquantes, fusion des jeux de données).\n",
    "\n",
    "3.  **Analyse Exploratoire des Données (EDA) :**\n",
    "    *   **Statistiques Globales de l'Événement :**\n",
    "        *   Total des dons.\n",
    "        *   Total des spectateurs au fil du temps.\n",
    "        *   Pic de spectateurs.\n",
    "        *   Nombre de streamers participants.\n",
    "    *   **Analyse des Streamers :**\n",
    "        *   Top streamers par dons, spectateurs moyens et pic de spectateurs.\n",
    "        *   Distribution des dons et des spectateurs parmi les streamers.\n",
    "        *   Corrélation entre les spectateurs et les dons.\n",
    "        *   Analyse de l'efficacité des streamers (dons par heure, dons par follower).\n",
    "    *   **Analyse Temporelle :**\n",
    "        *   Évolution des dons et des spectateurs sur la durée de l'événement.\n",
    "        *   Identifier les moments clés (pics de dons/spectateurs) et les corréler avec le planning de l'événement.\n",
    "    *   **Analyse des Objectifs de Dons :**\n",
    "        *   Analyser les objectifs de dons : atteints ou non.\n",
    "        *   Relation entre les objectifs de dons et la popularité des streamers.\n",
    "\n",
    "4.  **Analyse Approfondie & Ingénierie de Caractéristiques :**\n",
    "    *   Créer de nouvelles caractéristiques, telles que `dons_par_spectateur`.\n",
    "    *   Segmenter les streamers en paliers (par exemple, top-tier, mid-tier, émergents) et comparer leurs performances.\n",
    "    *   Analyser l'impact des événements du planning officiel du ZEvent sur l'audience et les dons.\n",
    "\n",
    "5.  **Visualisations :**\n",
    "    *   Créer une variété de graphiques pour illustrer les résultats :\n",
    "        *   Graphiques linéaires pour les données temporelles (dons, spectateurs).\n",
    "        *   Diagrammes à barres pour comparer les streamers.\n",
    "        *   Nuages de points pour montrer les corrélations.\n",
    "        *   Histogrammes et boîtes à moustaches for les distributions.\n",
    "        *   Diagrammes circulaires pour la complétion des objectifs de dons.\n",
    "        *   Un tableau de bord interactif résumant les métriques clés.\n",
    "\n",
    "6.  **Conclusion :**\n",
    "    *   Résumer les principales conclusions de l'analyse.\n",
    "    *   Fournir des aperçus et des points à retenir des données du ZEvent 2025.\n",
    "    *   Suggérer des domaines potentiels pour une analyse future."
   ]
  },
  {
   "cell_type": "code",
   "execution_count": 1,
   "id": "1cdf265a",
   "metadata": {},
   "outputs": [],
   "source": [
    "import pandas as pd\n",
    "import numpy as np\n",
    "import matplotlib.pyplot as plt\n",
    "import seaborn as sns\n",
    "import plotly.express as px\n",
    "import os\n",
    "\n",
    "# Options d'affichage\n",
    "pd.set_option('display.max_columns', None)\n",
    "sns.set_theme(style=\"whitegrid\")\n",
    "plt.rcParams['figure.figsize'] = (12, 6)"
   ]
  },
  {
   "cell_type": "markdown",
   "id": "12a291b3",
   "metadata": {},
   "source": [
    "## 2. Chargement et Prétraitement des Données"
   ]
  },
  {
   "cell_type": "code",
   "execution_count": 2,
   "id": "c1c4a042",
   "metadata": {},
   "outputs": [
    {
     "name": "stdout",
     "output_type": "stream",
     "text": [
      "Tous les fichiers ont été chargés avec succès.\n",
      "Aperçu des objectifs de dons :\n"
     ]
    },
    {
     "data": {
      "application/vnd.microsoft.datawrangler.viewer.v0+json": {
       "columns": [
        {
         "name": "index",
         "rawType": "int64",
         "type": "integer"
        },
        {
         "name": "id",
         "rawType": "object",
         "type": "string"
        },
        {
         "name": "participation_id",
         "rawType": "object",
         "type": "string"
        },
        {
         "name": "name",
         "rawType": "object",
         "type": "string"
        },
        {
         "name": "category",
         "rawType": "object",
         "type": "string"
        },
        {
         "name": "amount",
         "rawType": "float64",
         "type": "float"
        },
        {
         "name": "accomplished",
         "rawType": "bool",
         "type": "boolean"
        },
        {
         "name": "links",
         "rawType": "object",
         "type": "string"
        },
        {
         "name": "streamer_id",
         "rawType": "object",
         "type": "string"
        },
        {
         "name": "streamer_name",
         "rawType": "object",
         "type": "string"
        },
        {
         "name": "streamer_login",
         "rawType": "object",
         "type": "string"
        }
       ],
       "ref": "a6a36974-c913-4d00-9fc4-d44d53f52bda",
       "rows": [
        [
         "0",
         "56dbd192-e0ec-437d-94ae-2fd9fa520a61",
         "3f847d41-2642-48a4-8b04-f8fe65fc7c7d",
         "No cut sans top 200",
         "simple",
         "100.0",
         "True",
         "['https://x.com/Ouahleouff_Just/status/1964112866128064922']",
         "1ebf92c6-3c34-4062-b3e6-eeae7edc0942",
         "0uahleouff",
         "0uahleouff"
        ],
        [
         "1",
         "f0744c0d-f88f-4fa0-8e70-e70f0067fceb",
         "3f847d41-2642-48a4-8b04-f8fe65fc7c7d",
         "Deck aléatoire chaque défaite = 20€ (5 games)",
         "simple",
         "250.0",
         "False",
         "[]",
         "1ebf92c6-3c34-4062-b3e6-eeae7edc0942",
         "0uahleouff",
         "0uahleouff"
        ],
        [
         "2",
         "1838b005-ea33-4900-baac-e1f4c2326fb2",
         "3f847d41-2642-48a4-8b04-f8fe65fc7c7d",
         "Participer à la CLASHTAX",
         "simple",
         "500.0",
         "False",
         "[]",
         "1ebf92c6-3c34-4062-b3e6-eeae7edc0942",
         "0uahleouff",
         "0uahleouff"
        ],
        [
         "3",
         "56374439-88ec-4327-8df6-1da8b9b8d499",
         "3f847d41-2642-48a4-8b04-f8fe65fc7c7d",
         "5 ranked Valo (1 mort = 2€)",
         "simple",
         "750.0",
         "False",
         "[]",
         "1ebf92c6-3c34-4062-b3e6-eeae7edc0942",
         "0uahleouff",
         "0uahleouff"
        ],
        [
         "4",
         "c6fc3b52-0652-4177-bb7f-c0123c8f0da4",
         "3f847d41-2642-48a4-8b04-f8fe65fc7c7d",
         "Photo avant/après (muscu)",
         "simple",
         "1000.0",
         "False",
         "[]",
         "1ebf92c6-3c34-4062-b3e6-eeae7edc0942",
         "0uahleouff",
         "0uahleouff"
        ]
       ],
       "shape": {
        "columns": 10,
        "rows": 5
       }
      },
      "text/html": [
       "<div>\n",
       "<style scoped>\n",
       "    .dataframe tbody tr th:only-of-type {\n",
       "        vertical-align: middle;\n",
       "    }\n",
       "\n",
       "    .dataframe tbody tr th {\n",
       "        vertical-align: top;\n",
       "    }\n",
       "\n",
       "    .dataframe thead th {\n",
       "        text-align: right;\n",
       "    }\n",
       "</style>\n",
       "<table border=\"1\" class=\"dataframe\">\n",
       "  <thead>\n",
       "    <tr style=\"text-align: right;\">\n",
       "      <th></th>\n",
       "      <th>id</th>\n",
       "      <th>participation_id</th>\n",
       "      <th>name</th>\n",
       "      <th>category</th>\n",
       "      <th>amount</th>\n",
       "      <th>accomplished</th>\n",
       "      <th>links</th>\n",
       "      <th>streamer_id</th>\n",
       "      <th>streamer_name</th>\n",
       "      <th>streamer_login</th>\n",
       "    </tr>\n",
       "  </thead>\n",
       "  <tbody>\n",
       "    <tr>\n",
       "      <th>0</th>\n",
       "      <td>56dbd192-e0ec-437d-94ae-2fd9fa520a61</td>\n",
       "      <td>3f847d41-2642-48a4-8b04-f8fe65fc7c7d</td>\n",
       "      <td>No cut sans top 200</td>\n",
       "      <td>simple</td>\n",
       "      <td>100.0</td>\n",
       "      <td>True</td>\n",
       "      <td>['https://x.com/Ouahleouff_Just/status/1964112...</td>\n",
       "      <td>1ebf92c6-3c34-4062-b3e6-eeae7edc0942</td>\n",
       "      <td>0uahleouff</td>\n",
       "      <td>0uahleouff</td>\n",
       "    </tr>\n",
       "    <tr>\n",
       "      <th>1</th>\n",
       "      <td>f0744c0d-f88f-4fa0-8e70-e70f0067fceb</td>\n",
       "      <td>3f847d41-2642-48a4-8b04-f8fe65fc7c7d</td>\n",
       "      <td>Deck aléatoire chaque défaite = 20€ (5 games)</td>\n",
       "      <td>simple</td>\n",
       "      <td>250.0</td>\n",
       "      <td>False</td>\n",
       "      <td>[]</td>\n",
       "      <td>1ebf92c6-3c34-4062-b3e6-eeae7edc0942</td>\n",
       "      <td>0uahleouff</td>\n",
       "      <td>0uahleouff</td>\n",
       "    </tr>\n",
       "    <tr>\n",
       "      <th>2</th>\n",
       "      <td>1838b005-ea33-4900-baac-e1f4c2326fb2</td>\n",
       "      <td>3f847d41-2642-48a4-8b04-f8fe65fc7c7d</td>\n",
       "      <td>Participer à la CLASHTAX</td>\n",
       "      <td>simple</td>\n",
       "      <td>500.0</td>\n",
       "      <td>False</td>\n",
       "      <td>[]</td>\n",
       "      <td>1ebf92c6-3c34-4062-b3e6-eeae7edc0942</td>\n",
       "      <td>0uahleouff</td>\n",
       "      <td>0uahleouff</td>\n",
       "    </tr>\n",
       "    <tr>\n",
       "      <th>3</th>\n",
       "      <td>56374439-88ec-4327-8df6-1da8b9b8d499</td>\n",
       "      <td>3f847d41-2642-48a4-8b04-f8fe65fc7c7d</td>\n",
       "      <td>5 ranked Valo (1 mort = 2€)</td>\n",
       "      <td>simple</td>\n",
       "      <td>750.0</td>\n",
       "      <td>False</td>\n",
       "      <td>[]</td>\n",
       "      <td>1ebf92c6-3c34-4062-b3e6-eeae7edc0942</td>\n",
       "      <td>0uahleouff</td>\n",
       "      <td>0uahleouff</td>\n",
       "    </tr>\n",
       "    <tr>\n",
       "      <th>4</th>\n",
       "      <td>c6fc3b52-0652-4177-bb7f-c0123c8f0da4</td>\n",
       "      <td>3f847d41-2642-48a4-8b04-f8fe65fc7c7d</td>\n",
       "      <td>Photo avant/après (muscu)</td>\n",
       "      <td>simple</td>\n",
       "      <td>1000.0</td>\n",
       "      <td>False</td>\n",
       "      <td>[]</td>\n",
       "      <td>1ebf92c6-3c34-4062-b3e6-eeae7edc0942</td>\n",
       "      <td>0uahleouff</td>\n",
       "      <td>0uahleouff</td>\n",
       "    </tr>\n",
       "  </tbody>\n",
       "</table>\n",
       "</div>"
      ],
      "text/plain": [
       "                                     id                      participation_id  \\\n",
       "0  56dbd192-e0ec-437d-94ae-2fd9fa520a61  3f847d41-2642-48a4-8b04-f8fe65fc7c7d   \n",
       "1  f0744c0d-f88f-4fa0-8e70-e70f0067fceb  3f847d41-2642-48a4-8b04-f8fe65fc7c7d   \n",
       "2  1838b005-ea33-4900-baac-e1f4c2326fb2  3f847d41-2642-48a4-8b04-f8fe65fc7c7d   \n",
       "3  56374439-88ec-4327-8df6-1da8b9b8d499  3f847d41-2642-48a4-8b04-f8fe65fc7c7d   \n",
       "4  c6fc3b52-0652-4177-bb7f-c0123c8f0da4  3f847d41-2642-48a4-8b04-f8fe65fc7c7d   \n",
       "\n",
       "                                            name category  amount  \\\n",
       "0                            No cut sans top 200   simple   100.0   \n",
       "1  Deck aléatoire chaque défaite = 20€ (5 games)   simple   250.0   \n",
       "2                       Participer à la CLASHTAX   simple   500.0   \n",
       "3                    5 ranked Valo (1 mort = 2€)   simple   750.0   \n",
       "4                      Photo avant/après (muscu)   simple  1000.0   \n",
       "\n",
       "   accomplished                                              links  \\\n",
       "0          True  ['https://x.com/Ouahleouff_Just/status/1964112...   \n",
       "1         False                                                 []   \n",
       "2         False                                                 []   \n",
       "3         False                                                 []   \n",
       "4         False                                                 []   \n",
       "\n",
       "                            streamer_id streamer_name streamer_login  \n",
       "0  1ebf92c6-3c34-4062-b3e6-eeae7edc0942    0uahleouff     0uahleouff  \n",
       "1  1ebf92c6-3c34-4062-b3e6-eeae7edc0942    0uahleouff     0uahleouff  \n",
       "2  1ebf92c6-3c34-4062-b3e6-eeae7edc0942    0uahleouff     0uahleouff  \n",
       "3  1ebf92c6-3c34-4062-b3e6-eeae7edc0942    0uahleouff     0uahleouff  \n",
       "4  1ebf92c6-3c34-4062-b3e6-eeae7edc0942    0uahleouff     0uahleouff  "
      ]
     },
     "metadata": {},
     "output_type": "display_data"
    },
    {
     "name": "stdout",
     "output_type": "stream",
     "text": [
      "\n",
      "Aperçu du planning de l'événement :\n"
     ]
    },
    {
     "data": {
      "application/vnd.microsoft.datawrangler.viewer.v0+json": {
       "columns": [
        {
         "name": "index",
         "rawType": "int64",
         "type": "integer"
        },
        {
         "name": "id",
         "rawType": "object",
         "type": "string"
        },
        {
         "name": "name",
         "rawType": "object",
         "type": "string"
        },
        {
         "name": "start_date",
         "rawType": "object",
         "type": "string"
        },
        {
         "name": "end_date",
         "rawType": "object",
         "type": "string"
        },
        {
         "name": "description",
         "rawType": "object",
         "type": "unknown"
        },
        {
         "name": "participants",
         "rawType": "object",
         "type": "string"
        },
        {
         "name": "day",
         "rawType": "object",
         "type": "string"
        }
       ],
       "ref": "7b852856-2428-4f37-a097-8dcce732b8ec",
       "rows": [
        [
         "0",
         "bb5d2165-06c4-4c59-8b01-4f74b2e2e949",
         "Concert",
         "2025-09-04T18:00:00Z",
         "2025-09-04T21:50:00Z",
         "Au Zénith de Montpellier avec : IAM, Alonzo, Carbonne, l’Orchestre Curieux avec LittleBigWhale et PV Nova, ainsi que Lorien Testard et Alice Duport-Percier de Clair Obscur: Expédition 33.",
         "{'host': ['435283ba-af21-41c5-8230-5a8055508ec1'], 'participant': []}",
         "2025-09-04"
        ],
        [
         "1",
         "7a4298da-0a29-47c7-a046-f4e6472e75f5",
         "Lancement ZEVENT",
         "2025-09-05T16:00:00Z",
         "2025-09-05T16:10:00Z",
         null,
         "{'participant': [], 'host': ['dec5b2e1-63e0-4747-82a3-bfbf71a09304']}",
         "2025-09-05"
        ],
        [
         "2",
         "0a04ac88-808b-4fe2-9bd3-8dbade1365ad",
         "Ouverture ZEVENT/Place",
         "2025-09-05T16:15:00Z",
         "2025-09-05T16:30:00Z",
         "https://place.zevent.fr/ pour placer des pixels !",
         "{'host': [], 'participant': []}",
         "2025-09-05"
        ],
        [
         "3",
         "f8e6a22a-f349-4ea3-a677-d486f651d56e",
         "Lancement Twitch Plays Pokémon",
         "2025-09-05T16:15:00Z",
         "2025-09-05T16:30:00Z",
         null,
         "{'host': ['b5401fdd-990a-4137-8f7f-0ca977b026c5'], 'participant': []}",
         "2025-09-05"
        ],
        [
         "4",
         "1b1bd9c6-caad-40ed-ab76-b20b2ebedd57",
         "Mise en vente Cartes collector",
         "2025-09-05T17:00:00Z",
         "2025-09-05T17:15:00Z",
         "Rendez-vous sur https://boutique.zevent.fr/ pour acheter l'une des 20 000 cartes collector !",
         "{'host': ['435283ba-af21-41c5-8230-5a8055508ec1'], 'participant': []}",
         "2025-09-05"
        ]
       ],
       "shape": {
        "columns": 7,
        "rows": 5
       }
      },
      "text/html": [
       "<div>\n",
       "<style scoped>\n",
       "    .dataframe tbody tr th:only-of-type {\n",
       "        vertical-align: middle;\n",
       "    }\n",
       "\n",
       "    .dataframe tbody tr th {\n",
       "        vertical-align: top;\n",
       "    }\n",
       "\n",
       "    .dataframe thead th {\n",
       "        text-align: right;\n",
       "    }\n",
       "</style>\n",
       "<table border=\"1\" class=\"dataframe\">\n",
       "  <thead>\n",
       "    <tr style=\"text-align: right;\">\n",
       "      <th></th>\n",
       "      <th>id</th>\n",
       "      <th>name</th>\n",
       "      <th>start_date</th>\n",
       "      <th>end_date</th>\n",
       "      <th>description</th>\n",
       "      <th>participants</th>\n",
       "      <th>day</th>\n",
       "    </tr>\n",
       "  </thead>\n",
       "  <tbody>\n",
       "    <tr>\n",
       "      <th>0</th>\n",
       "      <td>bb5d2165-06c4-4c59-8b01-4f74b2e2e949</td>\n",
       "      <td>Concert</td>\n",
       "      <td>2025-09-04T18:00:00Z</td>\n",
       "      <td>2025-09-04T21:50:00Z</td>\n",
       "      <td>Au Zénith de Montpellier avec : IAM, Alonzo, C...</td>\n",
       "      <td>{'host': ['435283ba-af21-41c5-8230-5a8055508ec...</td>\n",
       "      <td>2025-09-04</td>\n",
       "    </tr>\n",
       "    <tr>\n",
       "      <th>1</th>\n",
       "      <td>7a4298da-0a29-47c7-a046-f4e6472e75f5</td>\n",
       "      <td>Lancement ZEVENT</td>\n",
       "      <td>2025-09-05T16:00:00Z</td>\n",
       "      <td>2025-09-05T16:10:00Z</td>\n",
       "      <td>NaN</td>\n",
       "      <td>{'participant': [], 'host': ['dec5b2e1-63e0-47...</td>\n",
       "      <td>2025-09-05</td>\n",
       "    </tr>\n",
       "    <tr>\n",
       "      <th>2</th>\n",
       "      <td>0a04ac88-808b-4fe2-9bd3-8dbade1365ad</td>\n",
       "      <td>Ouverture ZEVENT/Place</td>\n",
       "      <td>2025-09-05T16:15:00Z</td>\n",
       "      <td>2025-09-05T16:30:00Z</td>\n",
       "      <td>https://place.zevent.fr/ pour placer des pixels !</td>\n",
       "      <td>{'host': [], 'participant': []}</td>\n",
       "      <td>2025-09-05</td>\n",
       "    </tr>\n",
       "    <tr>\n",
       "      <th>3</th>\n",
       "      <td>f8e6a22a-f349-4ea3-a677-d486f651d56e</td>\n",
       "      <td>Lancement Twitch Plays Pokémon</td>\n",
       "      <td>2025-09-05T16:15:00Z</td>\n",
       "      <td>2025-09-05T16:30:00Z</td>\n",
       "      <td>NaN</td>\n",
       "      <td>{'host': ['b5401fdd-990a-4137-8f7f-0ca977b026c...</td>\n",
       "      <td>2025-09-05</td>\n",
       "    </tr>\n",
       "    <tr>\n",
       "      <th>4</th>\n",
       "      <td>1b1bd9c6-caad-40ed-ab76-b20b2ebedd57</td>\n",
       "      <td>Mise en vente Cartes collector</td>\n",
       "      <td>2025-09-05T17:00:00Z</td>\n",
       "      <td>2025-09-05T17:15:00Z</td>\n",
       "      <td>Rendez-vous sur https://boutique.zevent.fr/ po...</td>\n",
       "      <td>{'host': ['435283ba-af21-41c5-8230-5a8055508ec...</td>\n",
       "      <td>2025-09-05</td>\n",
       "    </tr>\n",
       "  </tbody>\n",
       "</table>\n",
       "</div>"
      ],
      "text/plain": [
       "                                     id                            name  \\\n",
       "0  bb5d2165-06c4-4c59-8b01-4f74b2e2e949                         Concert   \n",
       "1  7a4298da-0a29-47c7-a046-f4e6472e75f5                Lancement ZEVENT   \n",
       "2  0a04ac88-808b-4fe2-9bd3-8dbade1365ad          Ouverture ZEVENT/Place   \n",
       "3  f8e6a22a-f349-4ea3-a677-d486f651d56e  Lancement Twitch Plays Pokémon   \n",
       "4  1b1bd9c6-caad-40ed-ab76-b20b2ebedd57  Mise en vente Cartes collector   \n",
       "\n",
       "             start_date              end_date  \\\n",
       "0  2025-09-04T18:00:00Z  2025-09-04T21:50:00Z   \n",
       "1  2025-09-05T16:00:00Z  2025-09-05T16:10:00Z   \n",
       "2  2025-09-05T16:15:00Z  2025-09-05T16:30:00Z   \n",
       "3  2025-09-05T16:15:00Z  2025-09-05T16:30:00Z   \n",
       "4  2025-09-05T17:00:00Z  2025-09-05T17:15:00Z   \n",
       "\n",
       "                                         description  \\\n",
       "0  Au Zénith de Montpellier avec : IAM, Alonzo, C...   \n",
       "1                                                NaN   \n",
       "2  https://place.zevent.fr/ pour placer des pixels !   \n",
       "3                                                NaN   \n",
       "4  Rendez-vous sur https://boutique.zevent.fr/ po...   \n",
       "\n",
       "                                        participants         day  \n",
       "0  {'host': ['435283ba-af21-41c5-8230-5a8055508ec...  2025-09-04  \n",
       "1  {'participant': [], 'host': ['dec5b2e1-63e0-47...  2025-09-05  \n",
       "2                    {'host': [], 'participant': []}  2025-09-05  \n",
       "3  {'host': ['b5401fdd-990a-4137-8f7f-0ca977b026c...  2025-09-05  \n",
       "4  {'host': ['435283ba-af21-41c5-8230-5a8055508ec...  2025-09-05  "
      ]
     },
     "metadata": {},
     "output_type": "display_data"
    },
    {
     "name": "stdout",
     "output_type": "stream",
     "text": [
      "\n",
      "Aperçu des données des streamers :\n"
     ]
    },
    {
     "data": {
      "application/vnd.microsoft.datawrangler.viewer.v0+json": {
       "columns": [
        {
         "name": "index",
         "rawType": "int64",
         "type": "integer"
        },
        {
         "name": "twitch_login",
         "rawType": "object",
         "type": "string"
        },
        {
         "name": "name",
         "rawType": "object",
         "type": "string"
        },
        {
         "name": "channel_name",
         "rawType": "object",
         "type": "string"
        },
        {
         "name": "total_donations",
         "rawType": "float64",
         "type": "float"
        },
        {
         "name": "total_viewers_max",
         "rawType": "object",
         "type": "string"
        },
        {
         "name": "duration_seconds",
         "rawType": "float64",
         "type": "float"
        },
        {
         "name": "donations_final",
         "rawType": "float64",
         "type": "float"
        },
        {
         "name": "donations_start",
         "rawType": "float64",
         "type": "float"
        },
        {
         "name": "avg_viewers_zevent",
         "rawType": "float64",
         "type": "float"
        },
        {
         "name": "peak_viewers_zevent",
         "rawType": "float64",
         "type": "float"
        },
        {
         "name": "watch_time_hours",
         "rawType": "float64",
         "type": "float"
        },
        {
         "name": "stream_time_hours",
         "rawType": "float64",
         "type": "float"
        },
        {
         "name": "peak_viewers_twitch",
         "rawType": "float64",
         "type": "float"
        },
        {
         "name": "avg_viewers_twitch",
         "rawType": "float64",
         "type": "float"
        },
        {
         "name": "followers",
         "rawType": "float64",
         "type": "float"
        },
        {
         "name": "is_partnered",
         "rawType": "bool",
         "type": "boolean"
        },
        {
         "name": "is_mature",
         "rawType": "bool",
         "type": "boolean"
        },
        {
         "name": "language",
         "rawType": "object",
         "type": "string"
        },
        {
         "name": "avg_watch_per_stream_hour",
         "rawType": "float64",
         "type": "float"
        },
        {
         "name": "global_rank",
         "rawType": "float64",
         "type": "float"
        },
        {
         "name": "rank_in_page",
         "rawType": "float64",
         "type": "float"
        },
        {
         "name": "page",
         "rawType": "float64",
         "type": "float"
        },
        {
         "name": "donations_per_hour",
         "rawType": "float64",
         "type": "float"
        },
        {
         "name": "donations_per_follower",
         "rawType": "float64",
         "type": "float"
        },
        {
         "name": "twitch_efficiency",
         "rawType": "float64",
         "type": "float"
        },
        {
         "name": "donations_rank",
         "rawType": "int64",
         "type": "integer"
        }
       ],
       "ref": "2c58ff01-cfee-4e59-a908-ebb44942c40e",
       "rows": [
        [
         "0",
         "domingo",
         "Domingo",
         "Domingo",
         "1479669.67",
         "[1757285973691, 259237.0]",
         "2179.0",
         "1478062.67",
         "7492.9",
         "50170.68468468468",
         "259237.0",
         "2471463.0",
         "37.0",
         "253936.0",
         "66796.0",
         "1953343.0",
         "True",
         "False",
         "French",
         "66796.2972972973",
         "1.0",
         "1.0",
         "1.0",
         "2444612.5800826065",
         "0.7575063212144513",
         "66796.2972972973",
         "1"
        ],
        [
         "1",
         "antoinedaniel",
         "AntoineDaniel",
         "AntoineDaniel",
         "1218838.44",
         "[1757285973691, 111700.0]",
         "2288.0",
         "1218396.44",
         "9899.63",
         "30841.93693693693",
         "111700.0",
         "1459780.0",
         "38.5",
         "87263.0",
         "37916.0",
         "1093801.0",
         "True",
         "True",
         "French",
         "37916.36363636364",
         "2.0",
         "2.0",
         "1.0",
         "1917752.7902097905",
         "1.1143146148156748",
         "37916.36363636364",
         "2"
        ],
        [
         "2",
         "zerator",
         "ZeratoR",
         "ZeratoR",
         "1154211.58",
         "[1757285973691, 171999.0]",
         "2319.0",
         "1150918.53",
         "10386.36",
         "20444.37837837838",
         "171999.0",
         "923890.25",
         "39.75",
         "132082.0",
         "23243.0",
         "1628114.0",
         "True",
         "False",
         "French",
         "23242.522012578615",
         "5.0",
         "5.0",
         "1.0",
         "1791790.2923674",
         "0.7089255297847694",
         "23242.522012578615",
         "3"
        ],
        [
         "3",
         "angledroit",
         "AngleDroit",
         "AngleDroit",
         "568758.58",
         "[1757285973691, 17484.0]",
         "2184.0",
         "568653.58",
         "53940.19",
         "3946.963963963964",
         "17484.0",
         "175574.0",
         "36.75",
         "14651.0",
         "4778.0",
         "279521.0",
         "True",
         "False",
         "French",
         "4777.523809523809",
         "20.0",
         "20.0",
         "1.0",
         "937514.1428571428",
         "2.034761538489058",
         "4777.523809523809",
         "4"
        ],
        [
         "4",
         "mastu",
         "Mastu",
         "Mastu",
         "553537.29",
         "[1757285973691, 77795.0]",
         "1823.0",
         "553328.29",
         "6985.5",
         "18061.81081081081",
         "77795.0",
         "832882.75",
         "31.0",
         "69973.0",
         "26867.0",
         "1350788.0",
         "True",
         "False",
         "French",
         "26867.18548387097",
         "7.0",
         "7.0",
         "1.0",
         "1093107.1003839823",
         "0.4097884271995309",
         "26867.18548387097",
         "5"
        ]
       ],
       "shape": {
        "columns": 26,
        "rows": 5
       }
      },
      "text/html": [
       "<div>\n",
       "<style scoped>\n",
       "    .dataframe tbody tr th:only-of-type {\n",
       "        vertical-align: middle;\n",
       "    }\n",
       "\n",
       "    .dataframe tbody tr th {\n",
       "        vertical-align: top;\n",
       "    }\n",
       "\n",
       "    .dataframe thead th {\n",
       "        text-align: right;\n",
       "    }\n",
       "</style>\n",
       "<table border=\"1\" class=\"dataframe\">\n",
       "  <thead>\n",
       "    <tr style=\"text-align: right;\">\n",
       "      <th></th>\n",
       "      <th>twitch_login</th>\n",
       "      <th>name</th>\n",
       "      <th>channel_name</th>\n",
       "      <th>total_donations</th>\n",
       "      <th>total_viewers_max</th>\n",
       "      <th>duration_seconds</th>\n",
       "      <th>donations_final</th>\n",
       "      <th>donations_start</th>\n",
       "      <th>avg_viewers_zevent</th>\n",
       "      <th>peak_viewers_zevent</th>\n",
       "      <th>watch_time_hours</th>\n",
       "      <th>stream_time_hours</th>\n",
       "      <th>peak_viewers_twitch</th>\n",
       "      <th>avg_viewers_twitch</th>\n",
       "      <th>followers</th>\n",
       "      <th>is_partnered</th>\n",
       "      <th>is_mature</th>\n",
       "      <th>language</th>\n",
       "      <th>avg_watch_per_stream_hour</th>\n",
       "      <th>global_rank</th>\n",
       "      <th>rank_in_page</th>\n",
       "      <th>page</th>\n",
       "      <th>donations_per_hour</th>\n",
       "      <th>donations_per_follower</th>\n",
       "      <th>twitch_efficiency</th>\n",
       "      <th>donations_rank</th>\n",
       "    </tr>\n",
       "  </thead>\n",
       "  <tbody>\n",
       "    <tr>\n",
       "      <th>0</th>\n",
       "      <td>domingo</td>\n",
       "      <td>Domingo</td>\n",
       "      <td>Domingo</td>\n",
       "      <td>1479669.67</td>\n",
       "      <td>[1757285973691, 259237.0]</td>\n",
       "      <td>2179.0</td>\n",
       "      <td>1478062.67</td>\n",
       "      <td>7492.90</td>\n",
       "      <td>50170.684685</td>\n",
       "      <td>259237.0</td>\n",
       "      <td>2471463.00</td>\n",
       "      <td>37.00</td>\n",
       "      <td>253936.0</td>\n",
       "      <td>66796.0</td>\n",
       "      <td>1953343.0</td>\n",
       "      <td>True</td>\n",
       "      <td>False</td>\n",
       "      <td>French</td>\n",
       "      <td>66796.297297</td>\n",
       "      <td>1.0</td>\n",
       "      <td>1.0</td>\n",
       "      <td>1.0</td>\n",
       "      <td>2.444613e+06</td>\n",
       "      <td>0.757506</td>\n",
       "      <td>66796.297297</td>\n",
       "      <td>1</td>\n",
       "    </tr>\n",
       "    <tr>\n",
       "      <th>1</th>\n",
       "      <td>antoinedaniel</td>\n",
       "      <td>AntoineDaniel</td>\n",
       "      <td>AntoineDaniel</td>\n",
       "      <td>1218838.44</td>\n",
       "      <td>[1757285973691, 111700.0]</td>\n",
       "      <td>2288.0</td>\n",
       "      <td>1218396.44</td>\n",
       "      <td>9899.63</td>\n",
       "      <td>30841.936937</td>\n",
       "      <td>111700.0</td>\n",
       "      <td>1459780.00</td>\n",
       "      <td>38.50</td>\n",
       "      <td>87263.0</td>\n",
       "      <td>37916.0</td>\n",
       "      <td>1093801.0</td>\n",
       "      <td>True</td>\n",
       "      <td>True</td>\n",
       "      <td>French</td>\n",
       "      <td>37916.363636</td>\n",
       "      <td>2.0</td>\n",
       "      <td>2.0</td>\n",
       "      <td>1.0</td>\n",
       "      <td>1.917753e+06</td>\n",
       "      <td>1.114315</td>\n",
       "      <td>37916.363636</td>\n",
       "      <td>2</td>\n",
       "    </tr>\n",
       "    <tr>\n",
       "      <th>2</th>\n",
       "      <td>zerator</td>\n",
       "      <td>ZeratoR</td>\n",
       "      <td>ZeratoR</td>\n",
       "      <td>1154211.58</td>\n",
       "      <td>[1757285973691, 171999.0]</td>\n",
       "      <td>2319.0</td>\n",
       "      <td>1150918.53</td>\n",
       "      <td>10386.36</td>\n",
       "      <td>20444.378378</td>\n",
       "      <td>171999.0</td>\n",
       "      <td>923890.25</td>\n",
       "      <td>39.75</td>\n",
       "      <td>132082.0</td>\n",
       "      <td>23243.0</td>\n",
       "      <td>1628114.0</td>\n",
       "      <td>True</td>\n",
       "      <td>False</td>\n",
       "      <td>French</td>\n",
       "      <td>23242.522013</td>\n",
       "      <td>5.0</td>\n",
       "      <td>5.0</td>\n",
       "      <td>1.0</td>\n",
       "      <td>1.791790e+06</td>\n",
       "      <td>0.708926</td>\n",
       "      <td>23242.522013</td>\n",
       "      <td>3</td>\n",
       "    </tr>\n",
       "    <tr>\n",
       "      <th>3</th>\n",
       "      <td>angledroit</td>\n",
       "      <td>AngleDroit</td>\n",
       "      <td>AngleDroit</td>\n",
       "      <td>568758.58</td>\n",
       "      <td>[1757285973691, 17484.0]</td>\n",
       "      <td>2184.0</td>\n",
       "      <td>568653.58</td>\n",
       "      <td>53940.19</td>\n",
       "      <td>3946.963964</td>\n",
       "      <td>17484.0</td>\n",
       "      <td>175574.00</td>\n",
       "      <td>36.75</td>\n",
       "      <td>14651.0</td>\n",
       "      <td>4778.0</td>\n",
       "      <td>279521.0</td>\n",
       "      <td>True</td>\n",
       "      <td>False</td>\n",
       "      <td>French</td>\n",
       "      <td>4777.523810</td>\n",
       "      <td>20.0</td>\n",
       "      <td>20.0</td>\n",
       "      <td>1.0</td>\n",
       "      <td>9.375141e+05</td>\n",
       "      <td>2.034762</td>\n",
       "      <td>4777.523810</td>\n",
       "      <td>4</td>\n",
       "    </tr>\n",
       "    <tr>\n",
       "      <th>4</th>\n",
       "      <td>mastu</td>\n",
       "      <td>Mastu</td>\n",
       "      <td>Mastu</td>\n",
       "      <td>553537.29</td>\n",
       "      <td>[1757285973691, 77795.0]</td>\n",
       "      <td>1823.0</td>\n",
       "      <td>553328.29</td>\n",
       "      <td>6985.50</td>\n",
       "      <td>18061.810811</td>\n",
       "      <td>77795.0</td>\n",
       "      <td>832882.75</td>\n",
       "      <td>31.00</td>\n",
       "      <td>69973.0</td>\n",
       "      <td>26867.0</td>\n",
       "      <td>1350788.0</td>\n",
       "      <td>True</td>\n",
       "      <td>False</td>\n",
       "      <td>French</td>\n",
       "      <td>26867.185484</td>\n",
       "      <td>7.0</td>\n",
       "      <td>7.0</td>\n",
       "      <td>1.0</td>\n",
       "      <td>1.093107e+06</td>\n",
       "      <td>0.409788</td>\n",
       "      <td>26867.185484</td>\n",
       "      <td>5</td>\n",
       "    </tr>\n",
       "  </tbody>\n",
       "</table>\n",
       "</div>"
      ],
      "text/plain": [
       "    twitch_login           name   channel_name  total_donations  \\\n",
       "0        domingo        Domingo        Domingo       1479669.67   \n",
       "1  antoinedaniel  AntoineDaniel  AntoineDaniel       1218838.44   \n",
       "2        zerator        ZeratoR        ZeratoR       1154211.58   \n",
       "3     angledroit     AngleDroit     AngleDroit        568758.58   \n",
       "4          mastu          Mastu          Mastu        553537.29   \n",
       "\n",
       "           total_viewers_max  duration_seconds  donations_final  \\\n",
       "0  [1757285973691, 259237.0]            2179.0       1478062.67   \n",
       "1  [1757285973691, 111700.0]            2288.0       1218396.44   \n",
       "2  [1757285973691, 171999.0]            2319.0       1150918.53   \n",
       "3   [1757285973691, 17484.0]            2184.0        568653.58   \n",
       "4   [1757285973691, 77795.0]            1823.0        553328.29   \n",
       "\n",
       "   donations_start  avg_viewers_zevent  peak_viewers_zevent  watch_time_hours  \\\n",
       "0          7492.90        50170.684685             259237.0        2471463.00   \n",
       "1          9899.63        30841.936937             111700.0        1459780.00   \n",
       "2         10386.36        20444.378378             171999.0         923890.25   \n",
       "3         53940.19         3946.963964              17484.0         175574.00   \n",
       "4          6985.50        18061.810811              77795.0         832882.75   \n",
       "\n",
       "   stream_time_hours  peak_viewers_twitch  avg_viewers_twitch  followers  \\\n",
       "0              37.00             253936.0             66796.0  1953343.0   \n",
       "1              38.50              87263.0             37916.0  1093801.0   \n",
       "2              39.75             132082.0             23243.0  1628114.0   \n",
       "3              36.75              14651.0              4778.0   279521.0   \n",
       "4              31.00              69973.0             26867.0  1350788.0   \n",
       "\n",
       "   is_partnered  is_mature language  avg_watch_per_stream_hour  global_rank  \\\n",
       "0          True      False   French               66796.297297          1.0   \n",
       "1          True       True   French               37916.363636          2.0   \n",
       "2          True      False   French               23242.522013          5.0   \n",
       "3          True      False   French                4777.523810         20.0   \n",
       "4          True      False   French               26867.185484          7.0   \n",
       "\n",
       "   rank_in_page  page  donations_per_hour  donations_per_follower  \\\n",
       "0           1.0   1.0        2.444613e+06                0.757506   \n",
       "1           2.0   1.0        1.917753e+06                1.114315   \n",
       "2           5.0   1.0        1.791790e+06                0.708926   \n",
       "3          20.0   1.0        9.375141e+05                2.034762   \n",
       "4           7.0   1.0        1.093107e+06                0.409788   \n",
       "\n",
       "   twitch_efficiency  donations_rank  \n",
       "0       66796.297297               1  \n",
       "1       37916.363636               2  \n",
       "2       23242.522013               3  \n",
       "3        4777.523810               4  \n",
       "4       26867.185484               5  "
      ]
     },
     "metadata": {},
     "output_type": "display_data"
    },
    {
     "name": "stdout",
     "output_type": "stream",
     "text": [
      "\n",
      "Aperçu de l'évolution des dons :\n"
     ]
    },
    {
     "data": {
      "application/vnd.microsoft.datawrangler.viewer.v0+json": {
       "columns": [
        {
         "name": "index",
         "rawType": "int64",
         "type": "integer"
        },
        {
         "name": "timestamp",
         "rawType": "int64",
         "type": "integer"
        },
        {
         "name": "donations",
         "rawType": "float64",
         "type": "float"
        },
        {
         "name": "datetime",
         "rawType": "object",
         "type": "string"
        }
       ],
       "ref": "ac48c2a9-8a54-4921-8493-de967371b8ae",
       "rows": [
        [
         "0",
         "1757286000000",
         "16172355.24",
         "2025-09-07 23:00:00"
        ],
        [
         "1",
         "1757284200000",
         "15873545.5",
         "2025-09-07 22:30:00"
        ],
        [
         "2",
         "1757282400000",
         "15512122.12",
         "2025-09-07 22:00:00"
        ],
        [
         "3",
         "1757280600000",
         "13883837.38",
         "2025-09-07 21:30:00"
        ],
        [
         "4",
         "1757278800000",
         "13234789.65",
         "2025-09-07 21:00:00"
        ]
       ],
       "shape": {
        "columns": 3,
        "rows": 5
       }
      },
      "text/html": [
       "<div>\n",
       "<style scoped>\n",
       "    .dataframe tbody tr th:only-of-type {\n",
       "        vertical-align: middle;\n",
       "    }\n",
       "\n",
       "    .dataframe tbody tr th {\n",
       "        vertical-align: top;\n",
       "    }\n",
       "\n",
       "    .dataframe thead th {\n",
       "        text-align: right;\n",
       "    }\n",
       "</style>\n",
       "<table border=\"1\" class=\"dataframe\">\n",
       "  <thead>\n",
       "    <tr style=\"text-align: right;\">\n",
       "      <th></th>\n",
       "      <th>timestamp</th>\n",
       "      <th>donations</th>\n",
       "      <th>datetime</th>\n",
       "    </tr>\n",
       "  </thead>\n",
       "  <tbody>\n",
       "    <tr>\n",
       "      <th>0</th>\n",
       "      <td>1757286000000</td>\n",
       "      <td>16172355.24</td>\n",
       "      <td>2025-09-07 23:00:00</td>\n",
       "    </tr>\n",
       "    <tr>\n",
       "      <th>1</th>\n",
       "      <td>1757284200000</td>\n",
       "      <td>15873545.50</td>\n",
       "      <td>2025-09-07 22:30:00</td>\n",
       "    </tr>\n",
       "    <tr>\n",
       "      <th>2</th>\n",
       "      <td>1757282400000</td>\n",
       "      <td>15512122.12</td>\n",
       "      <td>2025-09-07 22:00:00</td>\n",
       "    </tr>\n",
       "    <tr>\n",
       "      <th>3</th>\n",
       "      <td>1757280600000</td>\n",
       "      <td>13883837.38</td>\n",
       "      <td>2025-09-07 21:30:00</td>\n",
       "    </tr>\n",
       "    <tr>\n",
       "      <th>4</th>\n",
       "      <td>1757278800000</td>\n",
       "      <td>13234789.65</td>\n",
       "      <td>2025-09-07 21:00:00</td>\n",
       "    </tr>\n",
       "  </tbody>\n",
       "</table>\n",
       "</div>"
      ],
      "text/plain": [
       "       timestamp    donations             datetime\n",
       "0  1757286000000  16172355.24  2025-09-07 23:00:00\n",
       "1  1757284200000  15873545.50  2025-09-07 22:30:00\n",
       "2  1757282400000  15512122.12  2025-09-07 22:00:00\n",
       "3  1757280600000  13883837.38  2025-09-07 21:30:00\n",
       "4  1757278800000  13234789.65  2025-09-07 21:00:00"
      ]
     },
     "metadata": {},
     "output_type": "display_data"
    },
    {
     "name": "stdout",
     "output_type": "stream",
     "text": [
      "\n",
      "Aperçu de l'évolution des spectateurs :\n"
     ]
    },
    {
     "data": {
      "application/vnd.microsoft.datawrangler.viewer.v0+json": {
       "columns": [
        {
         "name": "index",
         "rawType": "int64",
         "type": "integer"
        },
        {
         "name": "timestamp",
         "rawType": "int64",
         "type": "integer"
        },
        {
         "name": "viewers",
         "rawType": "float64",
         "type": "float"
        },
        {
         "name": "datetime",
         "rawType": "object",
         "type": "string"
        }
       ],
       "ref": "0f63acaa-8141-45b4-9966-357491636ff9",
       "rows": [
        [
         "0",
         "1757088000000",
         "0.0",
         "2025-09-05 16:00:00"
        ],
        [
         "1",
         "1757089800000",
         "348195.0",
         "2025-09-05 16:30:00"
        ],
        [
         "2",
         "1757091600000",
         "386638.0",
         "2025-09-05 17:00:00"
        ],
        [
         "3",
         "1757093400000",
         "414189.0",
         "2025-09-05 17:30:00"
        ],
        [
         "4",
         "1757095200000",
         "417488.0",
         "2025-09-05 18:00:00"
        ]
       ],
       "shape": {
        "columns": 3,
        "rows": 5
       }
      },
      "text/html": [
       "<div>\n",
       "<style scoped>\n",
       "    .dataframe tbody tr th:only-of-type {\n",
       "        vertical-align: middle;\n",
       "    }\n",
       "\n",
       "    .dataframe tbody tr th {\n",
       "        vertical-align: top;\n",
       "    }\n",
       "\n",
       "    .dataframe thead th {\n",
       "        text-align: right;\n",
       "    }\n",
       "</style>\n",
       "<table border=\"1\" class=\"dataframe\">\n",
       "  <thead>\n",
       "    <tr style=\"text-align: right;\">\n",
       "      <th></th>\n",
       "      <th>timestamp</th>\n",
       "      <th>viewers</th>\n",
       "      <th>datetime</th>\n",
       "    </tr>\n",
       "  </thead>\n",
       "  <tbody>\n",
       "    <tr>\n",
       "      <th>0</th>\n",
       "      <td>1757088000000</td>\n",
       "      <td>0.0</td>\n",
       "      <td>2025-09-05 16:00:00</td>\n",
       "    </tr>\n",
       "    <tr>\n",
       "      <th>1</th>\n",
       "      <td>1757089800000</td>\n",
       "      <td>348195.0</td>\n",
       "      <td>2025-09-05 16:30:00</td>\n",
       "    </tr>\n",
       "    <tr>\n",
       "      <th>2</th>\n",
       "      <td>1757091600000</td>\n",
       "      <td>386638.0</td>\n",
       "      <td>2025-09-05 17:00:00</td>\n",
       "    </tr>\n",
       "    <tr>\n",
       "      <th>3</th>\n",
       "      <td>1757093400000</td>\n",
       "      <td>414189.0</td>\n",
       "      <td>2025-09-05 17:30:00</td>\n",
       "    </tr>\n",
       "    <tr>\n",
       "      <th>4</th>\n",
       "      <td>1757095200000</td>\n",
       "      <td>417488.0</td>\n",
       "      <td>2025-09-05 18:00:00</td>\n",
       "    </tr>\n",
       "  </tbody>\n",
       "</table>\n",
       "</div>"
      ],
      "text/plain": [
       "       timestamp   viewers             datetime\n",
       "0  1757088000000       0.0  2025-09-05 16:00:00\n",
       "1  1757089800000  348195.0  2025-09-05 16:30:00\n",
       "2  1757091600000  386638.0  2025-09-05 17:00:00\n",
       "3  1757093400000  414189.0  2025-09-05 17:30:00\n",
       "4  1757095200000  417488.0  2025-09-05 18:00:00"
      ]
     },
     "metadata": {},
     "output_type": "display_data"
    }
   ],
   "source": [
    "# Définir les chemins vers les fichiers de données\n",
    "DATA_DIR = '../data/clean'\n",
    "\n",
    "# Chemins pour les événements\n",
    "donation_goals_path = os.path.join(DATA_DIR, 'events/donation_goals.csv')\n",
    "event_schedule_path = os.path.join(DATA_DIR, 'events/event_schedule.csv')\n",
    "\n",
    "# Chemins pour les streamers\n",
    "streamers_path = os.path.join(DATA_DIR, 'streamers/zevent_sullygnome_enriched.csv')\n",
    "\n",
    "# Chemins pour les données temporelles\n",
    "donations_evolution_path = os.path.join(DATA_DIR, 'temporal/donations_evolution.csv')\n",
    "viewers_evolution_path = os.path.join(DATA_DIR, 'temporal/viewers_evolution.csv')\n",
    "\n",
    "# Charger les jeux de données\n",
    "try:\n",
    "    donation_goals = pd.read_csv(donation_goals_path)\n",
    "    event_schedule = pd.read_csv(event_schedule_path)\n",
    "    streamers = pd.read_csv(streamers_path)\n",
    "    donations_evolution = pd.read_csv(donations_evolution_path)\n",
    "    viewers_evolution = pd.read_csv(viewers_evolution_path)\n",
    "    \n",
    "    print(\"Tous les fichiers ont été chargés avec succès.\")\n",
    "except FileNotFoundError as e:\n",
    "    print(f\"Erreur de chargement de fichier : {e}\")\n",
    "\n",
    "# Afficher les premières lignes de chaque dataframe pour vérifier\n",
    "print(\"Aperçu des objectifs de dons :\")\n",
    "display(donation_goals.head())\n",
    "print(\"\\nAperçu du planning de l'événement :\")\n",
    "display(event_schedule.head())\n",
    "print(\"\\nAperçu des données des streamers :\")\n",
    "display(streamers.head())\n",
    "print(\"\\nAperçu de l'évolution des dons :\")\n",
    "display(donations_evolution.head())\n",
    "print(\"\\nAperçu de l'évolution des spectateurs :\")\n",
    "display(viewers_evolution.head())"
   ]
  },
  {
   "cell_type": "markdown",
   "id": "64fdc495",
   "metadata": {},
   "source": [
    "### Prétraitement et Nettoyage des Données"
   ]
  },
  {
   "cell_type": "code",
   "execution_count": 3,
   "id": "affdc1cb",
   "metadata": {},
   "outputs": [
    {
     "name": "stdout",
     "output_type": "stream",
     "text": [
      "Informations sur les données des streamers :\n",
      "<class 'pandas.core.frame.DataFrame'>\n",
      "RangeIndex: 316 entries, 0 to 315\n",
      "Data columns (total 26 columns):\n",
      " #   Column                     Non-Null Count  Dtype  \n",
      "---  ------                     --------------  -----  \n",
      " 0   twitch_login               316 non-null    object \n",
      " 1   name                       316 non-null    object \n",
      " 2   channel_name               316 non-null    object \n",
      " 3   total_donations            316 non-null    float64\n",
      " 4   total_viewers_max          316 non-null    object \n",
      " 5   duration_seconds           316 non-null    float64\n",
      " 6   donations_final            316 non-null    float64\n",
      " 7   donations_start            316 non-null    float64\n",
      " 8   avg_viewers_zevent         316 non-null    float64\n",
      " 9   peak_viewers_zevent        316 non-null    float64\n",
      " 10  watch_time_hours           316 non-null    float64\n",
      " 11  stream_time_hours          316 non-null    float64\n",
      " 12  peak_viewers_twitch        316 non-null    float64\n",
      " 13  avg_viewers_twitch         316 non-null    float64\n",
      " 14  followers                  316 non-null    float64\n",
      " 15  is_partnered               316 non-null    bool   \n",
      " 16  is_mature                  316 non-null    bool   \n",
      " 17  language                   316 non-null    object \n",
      " 18  avg_watch_per_stream_hour  316 non-null    float64\n",
      " 19  global_rank                316 non-null    float64\n",
      " 20  rank_in_page               316 non-null    float64\n",
      " 21  page                       316 non-null    float64\n",
      " 22  donations_per_hour         316 non-null    float64\n",
      " 23  donations_per_follower     316 non-null    float64\n",
      " 24  twitch_efficiency          316 non-null    float64\n",
      " 25  donations_rank             316 non-null    int64  \n",
      "dtypes: bool(2), float64(18), int64(1), object(5)\n",
      "memory usage: 60.0+ KB\n",
      "\n",
      "Informations sur l'évolution des dons :\n",
      "<class 'pandas.core.frame.DataFrame'>\n",
      "RangeIndex: 110 entries, 0 to 109\n",
      "Data columns (total 3 columns):\n",
      " #   Column     Non-Null Count  Dtype         \n",
      "---  ------     --------------  -----         \n",
      " 0   timestamp  110 non-null    int64         \n",
      " 1   donations  110 non-null    float64       \n",
      " 2   datetime   110 non-null    datetime64[ns]\n",
      "dtypes: datetime64[ns](1), float64(1), int64(1)\n",
      "memory usage: 2.7 KB\n",
      "\n",
      "Informations sur l'évolution des spectateurs :\n",
      "<class 'pandas.core.frame.DataFrame'>\n",
      "RangeIndex: 111 entries, 0 to 110\n",
      "Data columns (total 3 columns):\n",
      " #   Column     Non-Null Count  Dtype         \n",
      "---  ------     --------------  -----         \n",
      " 0   timestamp  111 non-null    int64         \n",
      " 1   viewers    111 non-null    float64       \n",
      " 2   datetime   111 non-null    datetime64[ns]\n",
      "dtypes: datetime64[ns](1), float64(1), int64(1)\n",
      "memory usage: 2.7 KB\n"
     ]
    },
    {
     "name": "stderr",
     "output_type": "stream",
     "text": [
      "C:\\Users\\Linwë\\AppData\\Local\\Temp\\ipykernel_19720\\3696770416.py:9: FutureWarning: A value is trying to be set on a copy of a DataFrame or Series through chained assignment using an inplace method.\n",
      "The behavior will change in pandas 3.0. This inplace method will never work because the intermediate object on which we are setting values always behaves as a copy.\n",
      "\n",
      "For example, when doing 'df[col].method(value, inplace=True)', try using 'df.method({col: value}, inplace=True)' or df[col] = df[col].method(value) instead, to perform the operation inplace on the original object.\n",
      "\n",
      "\n",
      "  streamers['donations_per_hour'].fillna(0, inplace=True)\n",
      "C:\\Users\\Linwë\\AppData\\Local\\Temp\\ipykernel_19720\\3696770416.py:10: FutureWarning: A value is trying to be set on a copy of a DataFrame or Series through chained assignment using an inplace method.\n",
      "The behavior will change in pandas 3.0. This inplace method will never work because the intermediate object on which we are setting values always behaves as a copy.\n",
      "\n",
      "For example, when doing 'df[col].method(value, inplace=True)', try using 'df.method({col: value}, inplace=True)' or df[col] = df[col].method(value) instead, to perform the operation inplace on the original object.\n",
      "\n",
      "\n",
      "  streamers['donations_per_follower'].fillna(0, inplace=True)\n"
     ]
    }
   ],
   "source": [
    "# Conversion des colonnes de date en datetime\n",
    "donations_evolution['datetime'] = pd.to_datetime(donations_evolution['datetime'])\n",
    "viewers_evolution['datetime'] = pd.to_datetime(viewers_evolution['datetime'])\n",
    "event_schedule['start_date'] = pd.to_datetime(event_schedule['start_date'])\n",
    "event_schedule['end_date'] = pd.to_datetime(event_schedule['end_date'])\n",
    "\n",
    "# Nettoyage des données des streamers\n",
    "streamers.rename(columns={'avg_viewers_zevent': 'avg_viewers_zevent', 'peak_viewers_zevent': 'peak_viewers_zevent'}, inplace=True)\n",
    "streamers['donations_per_hour'].fillna(0, inplace=True)\n",
    "streamers['donations_per_follower'].fillna(0, inplace=True)\n",
    "\n",
    "# Remplacer les infinis par NaN, puis par 0\n",
    "streamers.replace([np.inf, -np.inf], np.nan, inplace=True)\n",
    "streamers.fillna(0, inplace=True)\n",
    "\n",
    "# Afficher les informations sur les dataframes pour vérifier les types et les valeurs nulles\n",
    "print(\"Informations sur les données des streamers :\")\n",
    "streamers.info()\n",
    "print(\"\\nInformations sur l'évolution des dons :\")\n",
    "donations_evolution.info()\n",
    "print(\"\\nInformations sur l'évolution des spectateurs :\")\n",
    "viewers_evolution.info()"
   ]
  },
  {
   "cell_type": "markdown",
   "id": "deb00570",
   "metadata": {},
   "source": [
    "## 3. Analyse Exploratoire des Données (EDA)\n",
    "\n",
    "### Statistiques Globales de l'Événement"
   ]
  },
  {
   "cell_type": "code",
   "execution_count": 4,
   "id": "fde23034",
   "metadata": {},
   "outputs": [
    {
     "name": "stdout",
     "output_type": "stream",
     "text": [
      "Total des dons récoltés : 16,172,355.24 €\n",
      "Pic de spectateurs simultanés : 752,185\n",
      "Nombre total de streamers participants : 316\n"
     ]
    },
    {
     "data": {
      "application/vnd.plotly.v1+json": {
       "config": {
        "plotlyServerURL": "https://plot.ly"
       },
       "data": [
        {
         "hovertemplate": "Date=%{x}<br>Dons (en millions €)=%{y}<extra></extra>",
         "legendgroup": "",
         "line": {
          "color": "#636efa",
          "dash": "solid"
         },
         "marker": {
          "symbol": "circle"
         },
         "mode": "lines",
         "name": "",
         "orientation": "v",
         "showlegend": false,
         "type": "scatter",
         "x": [
          "2025-09-07T23:00:00.000000000",
          "2025-09-07T22:30:00.000000000",
          "2025-09-07T22:00:00.000000000",
          "2025-09-07T21:30:00.000000000",
          "2025-09-07T21:00:00.000000000",
          "2025-09-07T20:30:00.000000000",
          "2025-09-07T20:00:00.000000000",
          "2025-09-07T19:30:00.000000000",
          "2025-09-07T19:00:00.000000000",
          "2025-09-07T18:30:00.000000000",
          "2025-09-07T18:00:00.000000000",
          "2025-09-07T17:30:00.000000000",
          "2025-09-07T17:00:00.000000000",
          "2025-09-07T16:30:00.000000000",
          "2025-09-07T16:00:00.000000000",
          "2025-09-07T15:30:00.000000000",
          "2025-09-07T15:00:00.000000000",
          "2025-09-07T14:30:00.000000000",
          "2025-09-07T14:00:00.000000000",
          "2025-09-07T13:30:00.000000000",
          "2025-09-07T13:00:00.000000000",
          "2025-09-07T12:30:00.000000000",
          "2025-09-07T12:00:00.000000000",
          "2025-09-07T11:30:00.000000000",
          "2025-09-07T11:00:00.000000000",
          "2025-09-07T10:30:00.000000000",
          "2025-09-07T10:00:00.000000000",
          "2025-09-07T09:30:00.000000000",
          "2025-09-07T09:00:00.000000000",
          "2025-09-07T08:30:00.000000000",
          "2025-09-07T08:00:00.000000000",
          "2025-09-07T07:30:00.000000000",
          "2025-09-07T07:00:00.000000000",
          "2025-09-07T06:30:00.000000000",
          "2025-09-07T06:00:00.000000000",
          "2025-09-07T05:30:00.000000000",
          "2025-09-07T05:00:00.000000000",
          "2025-09-07T04:30:00.000000000",
          "2025-09-07T04:00:00.000000000",
          "2025-09-07T03:30:00.000000000",
          "2025-09-07T03:00:00.000000000",
          "2025-09-07T02:30:00.000000000",
          "2025-09-07T02:00:00.000000000",
          "2025-09-07T01:30:00.000000000",
          "2025-09-07T01:00:00.000000000",
          "2025-09-07T00:30:00.000000000",
          "2025-09-07T00:00:00.000000000",
          "2025-09-06T23:30:00.000000000",
          "2025-09-06T23:00:00.000000000",
          "2025-09-06T22:30:00.000000000",
          "2025-09-06T22:00:00.000000000",
          "2025-09-06T21:30:00.000000000",
          "2025-09-06T21:00:00.000000000",
          "2025-09-06T20:30:00.000000000",
          "2025-09-06T20:00:00.000000000",
          "2025-09-06T19:30:00.000000000",
          "2025-09-06T19:00:00.000000000",
          "2025-09-06T18:30:00.000000000",
          "2025-09-06T18:00:00.000000000",
          "2025-09-06T17:30:00.000000000",
          "2025-09-06T17:00:00.000000000",
          "2025-09-06T16:30:00.000000000",
          "2025-09-06T16:00:00.000000000",
          "2025-09-06T15:30:00.000000000",
          "2025-09-06T15:00:00.000000000",
          "2025-09-06T14:30:00.000000000",
          "2025-09-06T14:00:00.000000000",
          "2025-09-06T13:30:00.000000000",
          "2025-09-06T13:00:00.000000000",
          "2025-09-06T12:30:00.000000000",
          "2025-09-06T12:00:00.000000000",
          "2025-09-06T11:30:00.000000000",
          "2025-09-06T11:00:00.000000000",
          "2025-09-06T10:30:00.000000000",
          "2025-09-06T10:00:00.000000000",
          "2025-09-06T09:30:00.000000000",
          "2025-09-06T09:00:00.000000000",
          "2025-09-06T08:30:00.000000000",
          "2025-09-06T08:00:00.000000000",
          "2025-09-06T07:30:00.000000000",
          "2025-09-06T07:00:00.000000000",
          "2025-09-06T06:30:00.000000000",
          "2025-09-06T06:00:00.000000000",
          "2025-09-06T05:30:00.000000000",
          "2025-09-06T05:00:00.000000000",
          "2025-09-06T04:30:00.000000000",
          "2025-09-06T04:00:00.000000000",
          "2025-09-06T03:30:00.000000000",
          "2025-09-06T03:00:00.000000000",
          "2025-09-06T02:30:00.000000000",
          "2025-09-06T02:00:00.000000000",
          "2025-09-06T01:30:00.000000000",
          "2025-09-06T01:00:00.000000000",
          "2025-09-06T00:30:00.000000000",
          "2025-09-06T00:00:00.000000000",
          "2025-09-05T23:30:00.000000000",
          "2025-09-05T23:00:00.000000000",
          "2025-09-05T22:30:00.000000000",
          "2025-09-05T22:00:00.000000000",
          "2025-09-05T21:30:00.000000000",
          "2025-09-05T21:00:00.000000000",
          "2025-09-05T20:30:00.000000000",
          "2025-09-05T20:00:00.000000000",
          "2025-09-05T19:30:00.000000000",
          "2025-09-05T19:00:00.000000000",
          "2025-09-05T18:30:00.000000000",
          "2025-09-05T18:00:00.000000000",
          "2025-09-05T17:30:00.000000000",
          "2025-09-05T17:00:00.000000000",
          "2025-09-05T16:30:00.000000000"
         ],
         "xaxis": "x",
         "y": {
          "bdata": "exSuZ6jYbkEAAAAwwUZuQT0K10NHlm1Bw/UorDd7akHNzMy0TD5pQa5H4WJ55GdB7FG4fmwFZ0HXo3C950FmQeF6FIZyp2VBKVyPwldWZEGF61FIj91iQa5H4RJKO2JBw/UoTCrQYUE9CteDWpBhQQAAAEiyW2FBKVyP2lYBYUF7FK5/J6BgQR+F69E/RWBBXI/CpftfX0EAAABQE0ZeQdejcJ2WtV1BpHA9ejBxXUGamZlpDCxdQeF6FI7061xBpHA9enaWXEEfhetB3ClcQSlcj+Lxn1tB9ihcn4ZhW0GuR+GaRUVbQSlcj4KhKltBrkfhKlkMW0FI4XoEDPxaQfYoXH8A7lpBAAAAoAHjWkEAAACgkdxaQQAAAKD82VpBAAAAIBHXWkE9CtcD+dRaQbgehTtp0VpBzczMLGfLWkEUrkexendaQc3MzJz0SFpBFK5H8VRFWkEfhevBjzxaQbgehXs8MVpBZmZmtiscWkFcj8JFV89ZQT0K18OEnllBexSuZ8MiWUE9CtezVwFZQRSuRxHY3FhBSOF6xCZGUEEzMzNztetPQXE9CpeTW09BUrgehXUST0HD9Shc6LpOQR+F6/GHbU5B9ihc78URTkEUrkeBI9FNQexRuP5j10xBhetRuOzhSEEAAABAumdIQSlcj8IzRUdBhetR2Jw1RkEK16OQbOREQVK4HoUKYURBCtejUBDKQ0GF61G4aGpDQR+F65FstUJBuB6Fq0CjQUFxPQpXRftAQTMzMzPiikBBZmZmJh8MQEH2KFwPGII/Qc3MzAyi8T5BCtejcJtSPkGamZnZvbQ9QVyPwvW/JT1BzczMTE3GPEFcj8J1SVM8QcP1KNzZHTxBmpmZGQsAPEE9CtfjNtk7QXsUrgcyzjtBUrgeBS/HO0FSuB4FErw7QZqZmVkMrDtBmpmZWcWfO0HNzMwM2Yk7QSlcj4KPdjtBCtejsEMxO0EfheuRo7I6QXsUrkdseTpBcT0K12hXOkFcj8K13iI6QYXrUbgnwDlBmpmZmW0KOUFxPQqX2mc4QexRuN4WsjdBrkfhen4UNkEAAAAAzSg1QVyPwvVS9TNBpHA9yozHMkEzMzPzKz8xQTMzM7MpBy9BhetROI8VLEFI4XoUh10pQQrXo/C0MyZBhetRuF3BIEF7FK5H48EWQQ==",
          "dtype": "f8"
         },
         "yaxis": "y"
        }
       ],
       "layout": {
        "legend": {
         "tracegroupgap": 0
        },
        "template": {
         "data": {
          "bar": [
           {
            "error_x": {
             "color": "#2a3f5f"
            },
            "error_y": {
             "color": "#2a3f5f"
            },
            "marker": {
             "line": {
              "color": "#E5ECF6",
              "width": 0.5
             },
             "pattern": {
              "fillmode": "overlay",
              "size": 10,
              "solidity": 0.2
             }
            },
            "type": "bar"
           }
          ],
          "barpolar": [
           {
            "marker": {
             "line": {
              "color": "#E5ECF6",
              "width": 0.5
             },
             "pattern": {
              "fillmode": "overlay",
              "size": 10,
              "solidity": 0.2
             }
            },
            "type": "barpolar"
           }
          ],
          "carpet": [
           {
            "aaxis": {
             "endlinecolor": "#2a3f5f",
             "gridcolor": "white",
             "linecolor": "white",
             "minorgridcolor": "white",
             "startlinecolor": "#2a3f5f"
            },
            "baxis": {
             "endlinecolor": "#2a3f5f",
             "gridcolor": "white",
             "linecolor": "white",
             "minorgridcolor": "white",
             "startlinecolor": "#2a3f5f"
            },
            "type": "carpet"
           }
          ],
          "choropleth": [
           {
            "colorbar": {
             "outlinewidth": 0,
             "ticks": ""
            },
            "type": "choropleth"
           }
          ],
          "contour": [
           {
            "colorbar": {
             "outlinewidth": 0,
             "ticks": ""
            },
            "colorscale": [
             [
              0,
              "#0d0887"
             ],
             [
              0.1111111111111111,
              "#46039f"
             ],
             [
              0.2222222222222222,
              "#7201a8"
             ],
             [
              0.3333333333333333,
              "#9c179e"
             ],
             [
              0.4444444444444444,
              "#bd3786"
             ],
             [
              0.5555555555555556,
              "#d8576b"
             ],
             [
              0.6666666666666666,
              "#ed7953"
             ],
             [
              0.7777777777777778,
              "#fb9f3a"
             ],
             [
              0.8888888888888888,
              "#fdca26"
             ],
             [
              1,
              "#f0f921"
             ]
            ],
            "type": "contour"
           }
          ],
          "contourcarpet": [
           {
            "colorbar": {
             "outlinewidth": 0,
             "ticks": ""
            },
            "type": "contourcarpet"
           }
          ],
          "heatmap": [
           {
            "colorbar": {
             "outlinewidth": 0,
             "ticks": ""
            },
            "colorscale": [
             [
              0,
              "#0d0887"
             ],
             [
              0.1111111111111111,
              "#46039f"
             ],
             [
              0.2222222222222222,
              "#7201a8"
             ],
             [
              0.3333333333333333,
              "#9c179e"
             ],
             [
              0.4444444444444444,
              "#bd3786"
             ],
             [
              0.5555555555555556,
              "#d8576b"
             ],
             [
              0.6666666666666666,
              "#ed7953"
             ],
             [
              0.7777777777777778,
              "#fb9f3a"
             ],
             [
              0.8888888888888888,
              "#fdca26"
             ],
             [
              1,
              "#f0f921"
             ]
            ],
            "type": "heatmap"
           }
          ],
          "histogram": [
           {
            "marker": {
             "pattern": {
              "fillmode": "overlay",
              "size": 10,
              "solidity": 0.2
             }
            },
            "type": "histogram"
           }
          ],
          "histogram2d": [
           {
            "colorbar": {
             "outlinewidth": 0,
             "ticks": ""
            },
            "colorscale": [
             [
              0,
              "#0d0887"
             ],
             [
              0.1111111111111111,
              "#46039f"
             ],
             [
              0.2222222222222222,
              "#7201a8"
             ],
             [
              0.3333333333333333,
              "#9c179e"
             ],
             [
              0.4444444444444444,
              "#bd3786"
             ],
             [
              0.5555555555555556,
              "#d8576b"
             ],
             [
              0.6666666666666666,
              "#ed7953"
             ],
             [
              0.7777777777777778,
              "#fb9f3a"
             ],
             [
              0.8888888888888888,
              "#fdca26"
             ],
             [
              1,
              "#f0f921"
             ]
            ],
            "type": "histogram2d"
           }
          ],
          "histogram2dcontour": [
           {
            "colorbar": {
             "outlinewidth": 0,
             "ticks": ""
            },
            "colorscale": [
             [
              0,
              "#0d0887"
             ],
             [
              0.1111111111111111,
              "#46039f"
             ],
             [
              0.2222222222222222,
              "#7201a8"
             ],
             [
              0.3333333333333333,
              "#9c179e"
             ],
             [
              0.4444444444444444,
              "#bd3786"
             ],
             [
              0.5555555555555556,
              "#d8576b"
             ],
             [
              0.6666666666666666,
              "#ed7953"
             ],
             [
              0.7777777777777778,
              "#fb9f3a"
             ],
             [
              0.8888888888888888,
              "#fdca26"
             ],
             [
              1,
              "#f0f921"
             ]
            ],
            "type": "histogram2dcontour"
           }
          ],
          "mesh3d": [
           {
            "colorbar": {
             "outlinewidth": 0,
             "ticks": ""
            },
            "type": "mesh3d"
           }
          ],
          "parcoords": [
           {
            "line": {
             "colorbar": {
              "outlinewidth": 0,
              "ticks": ""
             }
            },
            "type": "parcoords"
           }
          ],
          "pie": [
           {
            "automargin": true,
            "type": "pie"
           }
          ],
          "scatter": [
           {
            "fillpattern": {
             "fillmode": "overlay",
             "size": 10,
             "solidity": 0.2
            },
            "type": "scatter"
           }
          ],
          "scatter3d": [
           {
            "line": {
             "colorbar": {
              "outlinewidth": 0,
              "ticks": ""
             }
            },
            "marker": {
             "colorbar": {
              "outlinewidth": 0,
              "ticks": ""
             }
            },
            "type": "scatter3d"
           }
          ],
          "scattercarpet": [
           {
            "marker": {
             "colorbar": {
              "outlinewidth": 0,
              "ticks": ""
             }
            },
            "type": "scattercarpet"
           }
          ],
          "scattergeo": [
           {
            "marker": {
             "colorbar": {
              "outlinewidth": 0,
              "ticks": ""
             }
            },
            "type": "scattergeo"
           }
          ],
          "scattergl": [
           {
            "marker": {
             "colorbar": {
              "outlinewidth": 0,
              "ticks": ""
             }
            },
            "type": "scattergl"
           }
          ],
          "scattermap": [
           {
            "marker": {
             "colorbar": {
              "outlinewidth": 0,
              "ticks": ""
             }
            },
            "type": "scattermap"
           }
          ],
          "scattermapbox": [
           {
            "marker": {
             "colorbar": {
              "outlinewidth": 0,
              "ticks": ""
             }
            },
            "type": "scattermapbox"
           }
          ],
          "scatterpolar": [
           {
            "marker": {
             "colorbar": {
              "outlinewidth": 0,
              "ticks": ""
             }
            },
            "type": "scatterpolar"
           }
          ],
          "scatterpolargl": [
           {
            "marker": {
             "colorbar": {
              "outlinewidth": 0,
              "ticks": ""
             }
            },
            "type": "scatterpolargl"
           }
          ],
          "scatterternary": [
           {
            "marker": {
             "colorbar": {
              "outlinewidth": 0,
              "ticks": ""
             }
            },
            "type": "scatterternary"
           }
          ],
          "surface": [
           {
            "colorbar": {
             "outlinewidth": 0,
             "ticks": ""
            },
            "colorscale": [
             [
              0,
              "#0d0887"
             ],
             [
              0.1111111111111111,
              "#46039f"
             ],
             [
              0.2222222222222222,
              "#7201a8"
             ],
             [
              0.3333333333333333,
              "#9c179e"
             ],
             [
              0.4444444444444444,
              "#bd3786"
             ],
             [
              0.5555555555555556,
              "#d8576b"
             ],
             [
              0.6666666666666666,
              "#ed7953"
             ],
             [
              0.7777777777777778,
              "#fb9f3a"
             ],
             [
              0.8888888888888888,
              "#fdca26"
             ],
             [
              1,
              "#f0f921"
             ]
            ],
            "type": "surface"
           }
          ],
          "table": [
           {
            "cells": {
             "fill": {
              "color": "#EBF0F8"
             },
             "line": {
              "color": "white"
             }
            },
            "header": {
             "fill": {
              "color": "#C8D4E3"
             },
             "line": {
              "color": "white"
             }
            },
            "type": "table"
           }
          ]
         },
         "layout": {
          "annotationdefaults": {
           "arrowcolor": "#2a3f5f",
           "arrowhead": 0,
           "arrowwidth": 1
          },
          "autotypenumbers": "strict",
          "coloraxis": {
           "colorbar": {
            "outlinewidth": 0,
            "ticks": ""
           }
          },
          "colorscale": {
           "diverging": [
            [
             0,
             "#8e0152"
            ],
            [
             0.1,
             "#c51b7d"
            ],
            [
             0.2,
             "#de77ae"
            ],
            [
             0.3,
             "#f1b6da"
            ],
            [
             0.4,
             "#fde0ef"
            ],
            [
             0.5,
             "#f7f7f7"
            ],
            [
             0.6,
             "#e6f5d0"
            ],
            [
             0.7,
             "#b8e186"
            ],
            [
             0.8,
             "#7fbc41"
            ],
            [
             0.9,
             "#4d9221"
            ],
            [
             1,
             "#276419"
            ]
           ],
           "sequential": [
            [
             0,
             "#0d0887"
            ],
            [
             0.1111111111111111,
             "#46039f"
            ],
            [
             0.2222222222222222,
             "#7201a8"
            ],
            [
             0.3333333333333333,
             "#9c179e"
            ],
            [
             0.4444444444444444,
             "#bd3786"
            ],
            [
             0.5555555555555556,
             "#d8576b"
            ],
            [
             0.6666666666666666,
             "#ed7953"
            ],
            [
             0.7777777777777778,
             "#fb9f3a"
            ],
            [
             0.8888888888888888,
             "#fdca26"
            ],
            [
             1,
             "#f0f921"
            ]
           ],
           "sequentialminus": [
            [
             0,
             "#0d0887"
            ],
            [
             0.1111111111111111,
             "#46039f"
            ],
            [
             0.2222222222222222,
             "#7201a8"
            ],
            [
             0.3333333333333333,
             "#9c179e"
            ],
            [
             0.4444444444444444,
             "#bd3786"
            ],
            [
             0.5555555555555556,
             "#d8576b"
            ],
            [
             0.6666666666666666,
             "#ed7953"
            ],
            [
             0.7777777777777778,
             "#fb9f3a"
            ],
            [
             0.8888888888888888,
             "#fdca26"
            ],
            [
             1,
             "#f0f921"
            ]
           ]
          },
          "colorway": [
           "#636efa",
           "#EF553B",
           "#00cc96",
           "#ab63fa",
           "#FFA15A",
           "#19d3f3",
           "#FF6692",
           "#B6E880",
           "#FF97FF",
           "#FECB52"
          ],
          "font": {
           "color": "#2a3f5f"
          },
          "geo": {
           "bgcolor": "white",
           "lakecolor": "white",
           "landcolor": "#E5ECF6",
           "showlakes": true,
           "showland": true,
           "subunitcolor": "white"
          },
          "hoverlabel": {
           "align": "left"
          },
          "hovermode": "closest",
          "mapbox": {
           "style": "light"
          },
          "paper_bgcolor": "white",
          "plot_bgcolor": "#E5ECF6",
          "polar": {
           "angularaxis": {
            "gridcolor": "white",
            "linecolor": "white",
            "ticks": ""
           },
           "bgcolor": "#E5ECF6",
           "radialaxis": {
            "gridcolor": "white",
            "linecolor": "white",
            "ticks": ""
           }
          },
          "scene": {
           "xaxis": {
            "backgroundcolor": "#E5ECF6",
            "gridcolor": "white",
            "gridwidth": 2,
            "linecolor": "white",
            "showbackground": true,
            "ticks": "",
            "zerolinecolor": "white"
           },
           "yaxis": {
            "backgroundcolor": "#E5ECF6",
            "gridcolor": "white",
            "gridwidth": 2,
            "linecolor": "white",
            "showbackground": true,
            "ticks": "",
            "zerolinecolor": "white"
           },
           "zaxis": {
            "backgroundcolor": "#E5ECF6",
            "gridcolor": "white",
            "gridwidth": 2,
            "linecolor": "white",
            "showbackground": true,
            "ticks": "",
            "zerolinecolor": "white"
           }
          },
          "shapedefaults": {
           "line": {
            "color": "#2a3f5f"
           }
          },
          "ternary": {
           "aaxis": {
            "gridcolor": "white",
            "linecolor": "white",
            "ticks": ""
           },
           "baxis": {
            "gridcolor": "white",
            "linecolor": "white",
            "ticks": ""
           },
           "bgcolor": "#E5ECF6",
           "caxis": {
            "gridcolor": "white",
            "linecolor": "white",
            "ticks": ""
           }
          },
          "title": {
           "x": 0.05
          },
          "xaxis": {
           "automargin": true,
           "gridcolor": "white",
           "linecolor": "white",
           "ticks": "",
           "title": {
            "standoff": 15
           },
           "zerolinecolor": "white",
           "zerolinewidth": 2
          },
          "yaxis": {
           "automargin": true,
           "gridcolor": "white",
           "linecolor": "white",
           "ticks": "",
           "title": {
            "standoff": 15
           },
           "zerolinecolor": "white",
           "zerolinewidth": 2
          }
         }
        },
        "title": {
         "text": "Évolution du Total des Dons au Fil du Temps"
        },
        "xaxis": {
         "anchor": "y",
         "domain": [
          0,
          1
         ],
         "title": {
          "text": "Date"
         }
        },
        "yaxis": {
         "anchor": "x",
         "domain": [
          0,
          1
         ],
         "title": {
          "text": "Dons (en millions €)"
         }
        }
       }
      }
     },
     "metadata": {},
     "output_type": "display_data"
    },
    {
     "data": {
      "application/vnd.plotly.v1+json": {
       "config": {
        "plotlyServerURL": "https://plot.ly"
       },
       "data": [
        {
         "hovertemplate": "Date=%{x}<br>Nombre de Spectateurs=%{y}<extra></extra>",
         "legendgroup": "",
         "line": {
          "color": "#636efa",
          "dash": "solid"
         },
         "marker": {
          "symbol": "circle"
         },
         "mode": "lines",
         "name": "",
         "orientation": "v",
         "showlegend": false,
         "type": "scatter",
         "x": [
          "2025-09-05T16:00:00.000000000",
          "2025-09-05T16:30:00.000000000",
          "2025-09-05T17:00:00.000000000",
          "2025-09-05T17:30:00.000000000",
          "2025-09-05T18:00:00.000000000",
          "2025-09-05T18:30:00.000000000",
          "2025-09-05T19:00:00.000000000",
          "2025-09-05T19:30:00.000000000",
          "2025-09-05T20:00:00.000000000",
          "2025-09-05T20:30:00.000000000",
          "2025-09-05T21:00:00.000000000",
          "2025-09-05T21:30:00.000000000",
          "2025-09-05T22:00:00.000000000",
          "2025-09-05T22:30:00.000000000",
          "2025-09-05T23:00:00.000000000",
          "2025-09-05T23:30:00.000000000",
          "2025-09-06T00:00:00.000000000",
          "2025-09-06T00:30:00.000000000",
          "2025-09-06T01:00:00.000000000",
          "2025-09-06T01:30:00.000000000",
          "2025-09-06T02:00:00.000000000",
          "2025-09-06T02:30:00.000000000",
          "2025-09-06T03:00:00.000000000",
          "2025-09-06T03:30:00.000000000",
          "2025-09-06T04:00:00.000000000",
          "2025-09-06T04:30:00.000000000",
          "2025-09-06T05:00:00.000000000",
          "2025-09-06T05:30:00.000000000",
          "2025-09-06T06:00:00.000000000",
          "2025-09-06T06:30:00.000000000",
          "2025-09-06T07:00:00.000000000",
          "2025-09-06T07:30:00.000000000",
          "2025-09-06T08:00:00.000000000",
          "2025-09-06T08:30:00.000000000",
          "2025-09-06T09:00:00.000000000",
          "2025-09-06T09:30:00.000000000",
          "2025-09-06T10:00:00.000000000",
          "2025-09-06T10:30:00.000000000",
          "2025-09-06T11:00:00.000000000",
          "2025-09-06T11:30:00.000000000",
          "2025-09-06T12:00:00.000000000",
          "2025-09-06T12:30:00.000000000",
          "2025-09-06T13:00:00.000000000",
          "2025-09-06T13:30:00.000000000",
          "2025-09-06T14:00:00.000000000",
          "2025-09-06T14:30:00.000000000",
          "2025-09-06T15:00:00.000000000",
          "2025-09-06T15:30:00.000000000",
          "2025-09-06T16:00:00.000000000",
          "2025-09-06T16:30:00.000000000",
          "2025-09-06T17:00:00.000000000",
          "2025-09-06T17:30:00.000000000",
          "2025-09-06T18:00:00.000000000",
          "2025-09-06T18:30:00.000000000",
          "2025-09-06T19:00:00.000000000",
          "2025-09-06T19:30:00.000000000",
          "2025-09-06T20:00:00.000000000",
          "2025-09-06T20:30:00.000000000",
          "2025-09-06T21:00:00.000000000",
          "2025-09-06T21:30:00.000000000",
          "2025-09-06T22:00:00.000000000",
          "2025-09-06T22:30:00.000000000",
          "2025-09-06T23:00:00.000000000",
          "2025-09-06T23:30:00.000000000",
          "2025-09-07T00:00:00.000000000",
          "2025-09-07T00:30:00.000000000",
          "2025-09-07T01:00:00.000000000",
          "2025-09-07T01:30:00.000000000",
          "2025-09-07T02:00:00.000000000",
          "2025-09-07T02:30:00.000000000",
          "2025-09-07T03:00:00.000000000",
          "2025-09-07T03:30:00.000000000",
          "2025-09-07T04:00:00.000000000",
          "2025-09-07T04:30:00.000000000",
          "2025-09-07T05:00:00.000000000",
          "2025-09-07T05:30:00.000000000",
          "2025-09-07T06:00:00.000000000",
          "2025-09-07T06:30:00.000000000",
          "2025-09-07T07:00:00.000000000",
          "2025-09-07T07:30:00.000000000",
          "2025-09-07T08:00:00.000000000",
          "2025-09-07T08:30:00.000000000",
          "2025-09-07T09:00:00.000000000",
          "2025-09-07T09:30:00.000000000",
          "2025-09-07T10:00:00.000000000",
          "2025-09-07T10:30:00.000000000",
          "2025-09-07T11:00:00.000000000",
          "2025-09-07T11:30:00.000000000",
          "2025-09-07T12:00:00.000000000",
          "2025-09-07T12:30:00.000000000",
          "2025-09-07T13:00:00.000000000",
          "2025-09-07T13:30:00.000000000",
          "2025-09-07T14:00:00.000000000",
          "2025-09-07T14:30:00.000000000",
          "2025-09-07T15:00:00.000000000",
          "2025-09-07T15:30:00.000000000",
          "2025-09-07T16:00:00.000000000",
          "2025-09-07T16:30:00.000000000",
          "2025-09-07T17:00:00.000000000",
          "2025-09-07T17:30:00.000000000",
          "2025-09-07T18:00:00.000000000",
          "2025-09-07T18:30:00.000000000",
          "2025-09-07T19:00:00.000000000",
          "2025-09-07T19:30:00.000000000",
          "2025-09-07T20:00:00.000000000",
          "2025-09-07T20:30:00.000000000",
          "2025-09-07T21:00:00.000000000",
          "2025-09-07T21:30:00.000000000",
          "2025-09-07T22:00:00.000000000",
          "2025-09-07T22:30:00.000000000",
          "2025-09-07T23:00:00.000000000"
         ],
         "xaxis": "x",
         "y": {
          "bdata": "AAAAAAAAAAAAAAAAjEAVQQAAAAA4mRdBAAAAALRHGUEAAAAAQHsZQQAAAAAoWRlBAAAAAHiuG0EAAAAANFgcQQAAAACQOBxBAAAAAKwBHEEAAAAApBccQQAAAADI3xtBAAAAAIDbGkEAAAAAsLsYQQAAAABI8RRBAAAAAKBjE0EAAAAAuKARQQAAAAD4UAxBAAAAAHijBUEAAAAAcJoCQQAAAACAwvlAAAAAAHAb9kAAAAAA4N7yQAAAAABgoe9AAAAAAIDk6EAAAAAAwO/jQAAAAADgL+VAAAAAAMB14kAAAAAAIK/kQAAAAACABOlAAAAAAMBY7EAAAAAAYJHxQAAAAADw4PdAAAAAABAf/kAAAAAAkJ0DQQAAAAAINAhBAAAAAGgjDEEAAAAAyO8OQQAAAADsMhBBAAAAACA4EkEAAAAAJFITQQAAAABgFxVBAAAAAEANFkEAAAAANGAXQQAAAABQbRZBAAAAAOQ4F0EAAAAAnGEXQQAAAADMohZBAAAAAIwYGEEAAAAA0G4YQQAAAAAUqxdBAAAAAJQ9GEEAAAAA4CoZQQAAAABQXBlBAAAAABwDGkEAAAAAkIIaQQAAAAAEuhtBAAAAAIjlG0EAAAAAgN4dQQAAAADwixxBAAAAAED+G0EAAAAAgMMZQQAAAABE0RhBAAAAAFSjF0EAAAAAXAkVQQAAAADEoRJBAAAAAOjyDEEAAAAAsHUIQQAAAADQ9gNBAAAAAMAs/0AAAAAAUGz6QAAAAACwcvdAAAAAAKAd60AAAAAAwJ/jQAAAAABg5uFAAAAAAAAc4UAAAAAAoIPhQAAAAABA3+RAAAAAAGBc6kAAAAAA4C3yQAAAAAAg+vdAAAAAAKiVAEEAAAAAwDIEQQAAAADYTQdBAAAAAMhBCkEAAAAAOLEQQQAAAACU7hNBAAAAAJzPFkEAAAAArGQYQQAAAAAsjxlBAAAAALjjGUEAAAAA3CUaQQAAAABoBhpBAAAAABAaG0EAAAAAsNUaQQAAAAAwiRpBAAAAALxvG0EAAAAAtCwbQQAAAADwehxBAAAAAIxlHEEAAAAAaAQgQQAAAADwpiJBAAAAADBlI0EAAAAASKcjQQAAAAAomyVBAAAAABRBJkEAAAAAcvQmQQAAAACS8iZBAAAAAPAmJkEAAAAA0AYlQQAAAACw8CJB",
          "dtype": "f8"
         },
         "yaxis": "y"
        }
       ],
       "layout": {
        "legend": {
         "tracegroupgap": 0
        },
        "template": {
         "data": {
          "bar": [
           {
            "error_x": {
             "color": "#2a3f5f"
            },
            "error_y": {
             "color": "#2a3f5f"
            },
            "marker": {
             "line": {
              "color": "#E5ECF6",
              "width": 0.5
             },
             "pattern": {
              "fillmode": "overlay",
              "size": 10,
              "solidity": 0.2
             }
            },
            "type": "bar"
           }
          ],
          "barpolar": [
           {
            "marker": {
             "line": {
              "color": "#E5ECF6",
              "width": 0.5
             },
             "pattern": {
              "fillmode": "overlay",
              "size": 10,
              "solidity": 0.2
             }
            },
            "type": "barpolar"
           }
          ],
          "carpet": [
           {
            "aaxis": {
             "endlinecolor": "#2a3f5f",
             "gridcolor": "white",
             "linecolor": "white",
             "minorgridcolor": "white",
             "startlinecolor": "#2a3f5f"
            },
            "baxis": {
             "endlinecolor": "#2a3f5f",
             "gridcolor": "white",
             "linecolor": "white",
             "minorgridcolor": "white",
             "startlinecolor": "#2a3f5f"
            },
            "type": "carpet"
           }
          ],
          "choropleth": [
           {
            "colorbar": {
             "outlinewidth": 0,
             "ticks": ""
            },
            "type": "choropleth"
           }
          ],
          "contour": [
           {
            "colorbar": {
             "outlinewidth": 0,
             "ticks": ""
            },
            "colorscale": [
             [
              0,
              "#0d0887"
             ],
             [
              0.1111111111111111,
              "#46039f"
             ],
             [
              0.2222222222222222,
              "#7201a8"
             ],
             [
              0.3333333333333333,
              "#9c179e"
             ],
             [
              0.4444444444444444,
              "#bd3786"
             ],
             [
              0.5555555555555556,
              "#d8576b"
             ],
             [
              0.6666666666666666,
              "#ed7953"
             ],
             [
              0.7777777777777778,
              "#fb9f3a"
             ],
             [
              0.8888888888888888,
              "#fdca26"
             ],
             [
              1,
              "#f0f921"
             ]
            ],
            "type": "contour"
           }
          ],
          "contourcarpet": [
           {
            "colorbar": {
             "outlinewidth": 0,
             "ticks": ""
            },
            "type": "contourcarpet"
           }
          ],
          "heatmap": [
           {
            "colorbar": {
             "outlinewidth": 0,
             "ticks": ""
            },
            "colorscale": [
             [
              0,
              "#0d0887"
             ],
             [
              0.1111111111111111,
              "#46039f"
             ],
             [
              0.2222222222222222,
              "#7201a8"
             ],
             [
              0.3333333333333333,
              "#9c179e"
             ],
             [
              0.4444444444444444,
              "#bd3786"
             ],
             [
              0.5555555555555556,
              "#d8576b"
             ],
             [
              0.6666666666666666,
              "#ed7953"
             ],
             [
              0.7777777777777778,
              "#fb9f3a"
             ],
             [
              0.8888888888888888,
              "#fdca26"
             ],
             [
              1,
              "#f0f921"
             ]
            ],
            "type": "heatmap"
           }
          ],
          "histogram": [
           {
            "marker": {
             "pattern": {
              "fillmode": "overlay",
              "size": 10,
              "solidity": 0.2
             }
            },
            "type": "histogram"
           }
          ],
          "histogram2d": [
           {
            "colorbar": {
             "outlinewidth": 0,
             "ticks": ""
            },
            "colorscale": [
             [
              0,
              "#0d0887"
             ],
             [
              0.1111111111111111,
              "#46039f"
             ],
             [
              0.2222222222222222,
              "#7201a8"
             ],
             [
              0.3333333333333333,
              "#9c179e"
             ],
             [
              0.4444444444444444,
              "#bd3786"
             ],
             [
              0.5555555555555556,
              "#d8576b"
             ],
             [
              0.6666666666666666,
              "#ed7953"
             ],
             [
              0.7777777777777778,
              "#fb9f3a"
             ],
             [
              0.8888888888888888,
              "#fdca26"
             ],
             [
              1,
              "#f0f921"
             ]
            ],
            "type": "histogram2d"
           }
          ],
          "histogram2dcontour": [
           {
            "colorbar": {
             "outlinewidth": 0,
             "ticks": ""
            },
            "colorscale": [
             [
              0,
              "#0d0887"
             ],
             [
              0.1111111111111111,
              "#46039f"
             ],
             [
              0.2222222222222222,
              "#7201a8"
             ],
             [
              0.3333333333333333,
              "#9c179e"
             ],
             [
              0.4444444444444444,
              "#bd3786"
             ],
             [
              0.5555555555555556,
              "#d8576b"
             ],
             [
              0.6666666666666666,
              "#ed7953"
             ],
             [
              0.7777777777777778,
              "#fb9f3a"
             ],
             [
              0.8888888888888888,
              "#fdca26"
             ],
             [
              1,
              "#f0f921"
             ]
            ],
            "type": "histogram2dcontour"
           }
          ],
          "mesh3d": [
           {
            "colorbar": {
             "outlinewidth": 0,
             "ticks": ""
            },
            "type": "mesh3d"
           }
          ],
          "parcoords": [
           {
            "line": {
             "colorbar": {
              "outlinewidth": 0,
              "ticks": ""
             }
            },
            "type": "parcoords"
           }
          ],
          "pie": [
           {
            "automargin": true,
            "type": "pie"
           }
          ],
          "scatter": [
           {
            "fillpattern": {
             "fillmode": "overlay",
             "size": 10,
             "solidity": 0.2
            },
            "type": "scatter"
           }
          ],
          "scatter3d": [
           {
            "line": {
             "colorbar": {
              "outlinewidth": 0,
              "ticks": ""
             }
            },
            "marker": {
             "colorbar": {
              "outlinewidth": 0,
              "ticks": ""
             }
            },
            "type": "scatter3d"
           }
          ],
          "scattercarpet": [
           {
            "marker": {
             "colorbar": {
              "outlinewidth": 0,
              "ticks": ""
             }
            },
            "type": "scattercarpet"
           }
          ],
          "scattergeo": [
           {
            "marker": {
             "colorbar": {
              "outlinewidth": 0,
              "ticks": ""
             }
            },
            "type": "scattergeo"
           }
          ],
          "scattergl": [
           {
            "marker": {
             "colorbar": {
              "outlinewidth": 0,
              "ticks": ""
             }
            },
            "type": "scattergl"
           }
          ],
          "scattermap": [
           {
            "marker": {
             "colorbar": {
              "outlinewidth": 0,
              "ticks": ""
             }
            },
            "type": "scattermap"
           }
          ],
          "scattermapbox": [
           {
            "marker": {
             "colorbar": {
              "outlinewidth": 0,
              "ticks": ""
             }
            },
            "type": "scattermapbox"
           }
          ],
          "scatterpolar": [
           {
            "marker": {
             "colorbar": {
              "outlinewidth": 0,
              "ticks": ""
             }
            },
            "type": "scatterpolar"
           }
          ],
          "scatterpolargl": [
           {
            "marker": {
             "colorbar": {
              "outlinewidth": 0,
              "ticks": ""
             }
            },
            "type": "scatterpolargl"
           }
          ],
          "scatterternary": [
           {
            "marker": {
             "colorbar": {
              "outlinewidth": 0,
              "ticks": ""
             }
            },
            "type": "scatterternary"
           }
          ],
          "surface": [
           {
            "colorbar": {
             "outlinewidth": 0,
             "ticks": ""
            },
            "colorscale": [
             [
              0,
              "#0d0887"
             ],
             [
              0.1111111111111111,
              "#46039f"
             ],
             [
              0.2222222222222222,
              "#7201a8"
             ],
             [
              0.3333333333333333,
              "#9c179e"
             ],
             [
              0.4444444444444444,
              "#bd3786"
             ],
             [
              0.5555555555555556,
              "#d8576b"
             ],
             [
              0.6666666666666666,
              "#ed7953"
             ],
             [
              0.7777777777777778,
              "#fb9f3a"
             ],
             [
              0.8888888888888888,
              "#fdca26"
             ],
             [
              1,
              "#f0f921"
             ]
            ],
            "type": "surface"
           }
          ],
          "table": [
           {
            "cells": {
             "fill": {
              "color": "#EBF0F8"
             },
             "line": {
              "color": "white"
             }
            },
            "header": {
             "fill": {
              "color": "#C8D4E3"
             },
             "line": {
              "color": "white"
             }
            },
            "type": "table"
           }
          ]
         },
         "layout": {
          "annotationdefaults": {
           "arrowcolor": "#2a3f5f",
           "arrowhead": 0,
           "arrowwidth": 1
          },
          "autotypenumbers": "strict",
          "coloraxis": {
           "colorbar": {
            "outlinewidth": 0,
            "ticks": ""
           }
          },
          "colorscale": {
           "diverging": [
            [
             0,
             "#8e0152"
            ],
            [
             0.1,
             "#c51b7d"
            ],
            [
             0.2,
             "#de77ae"
            ],
            [
             0.3,
             "#f1b6da"
            ],
            [
             0.4,
             "#fde0ef"
            ],
            [
             0.5,
             "#f7f7f7"
            ],
            [
             0.6,
             "#e6f5d0"
            ],
            [
             0.7,
             "#b8e186"
            ],
            [
             0.8,
             "#7fbc41"
            ],
            [
             0.9,
             "#4d9221"
            ],
            [
             1,
             "#276419"
            ]
           ],
           "sequential": [
            [
             0,
             "#0d0887"
            ],
            [
             0.1111111111111111,
             "#46039f"
            ],
            [
             0.2222222222222222,
             "#7201a8"
            ],
            [
             0.3333333333333333,
             "#9c179e"
            ],
            [
             0.4444444444444444,
             "#bd3786"
            ],
            [
             0.5555555555555556,
             "#d8576b"
            ],
            [
             0.6666666666666666,
             "#ed7953"
            ],
            [
             0.7777777777777778,
             "#fb9f3a"
            ],
            [
             0.8888888888888888,
             "#fdca26"
            ],
            [
             1,
             "#f0f921"
            ]
           ],
           "sequentialminus": [
            [
             0,
             "#0d0887"
            ],
            [
             0.1111111111111111,
             "#46039f"
            ],
            [
             0.2222222222222222,
             "#7201a8"
            ],
            [
             0.3333333333333333,
             "#9c179e"
            ],
            [
             0.4444444444444444,
             "#bd3786"
            ],
            [
             0.5555555555555556,
             "#d8576b"
            ],
            [
             0.6666666666666666,
             "#ed7953"
            ],
            [
             0.7777777777777778,
             "#fb9f3a"
            ],
            [
             0.8888888888888888,
             "#fdca26"
            ],
            [
             1,
             "#f0f921"
            ]
           ]
          },
          "colorway": [
           "#636efa",
           "#EF553B",
           "#00cc96",
           "#ab63fa",
           "#FFA15A",
           "#19d3f3",
           "#FF6692",
           "#B6E880",
           "#FF97FF",
           "#FECB52"
          ],
          "font": {
           "color": "#2a3f5f"
          },
          "geo": {
           "bgcolor": "white",
           "lakecolor": "white",
           "landcolor": "#E5ECF6",
           "showlakes": true,
           "showland": true,
           "subunitcolor": "white"
          },
          "hoverlabel": {
           "align": "left"
          },
          "hovermode": "closest",
          "mapbox": {
           "style": "light"
          },
          "paper_bgcolor": "white",
          "plot_bgcolor": "#E5ECF6",
          "polar": {
           "angularaxis": {
            "gridcolor": "white",
            "linecolor": "white",
            "ticks": ""
           },
           "bgcolor": "#E5ECF6",
           "radialaxis": {
            "gridcolor": "white",
            "linecolor": "white",
            "ticks": ""
           }
          },
          "scene": {
           "xaxis": {
            "backgroundcolor": "#E5ECF6",
            "gridcolor": "white",
            "gridwidth": 2,
            "linecolor": "white",
            "showbackground": true,
            "ticks": "",
            "zerolinecolor": "white"
           },
           "yaxis": {
            "backgroundcolor": "#E5ECF6",
            "gridcolor": "white",
            "gridwidth": 2,
            "linecolor": "white",
            "showbackground": true,
            "ticks": "",
            "zerolinecolor": "white"
           },
           "zaxis": {
            "backgroundcolor": "#E5ECF6",
            "gridcolor": "white",
            "gridwidth": 2,
            "linecolor": "white",
            "showbackground": true,
            "ticks": "",
            "zerolinecolor": "white"
           }
          },
          "shapedefaults": {
           "line": {
            "color": "#2a3f5f"
           }
          },
          "ternary": {
           "aaxis": {
            "gridcolor": "white",
            "linecolor": "white",
            "ticks": ""
           },
           "baxis": {
            "gridcolor": "white",
            "linecolor": "white",
            "ticks": ""
           },
           "bgcolor": "#E5ECF6",
           "caxis": {
            "gridcolor": "white",
            "linecolor": "white",
            "ticks": ""
           }
          },
          "title": {
           "x": 0.05
          },
          "xaxis": {
           "automargin": true,
           "gridcolor": "white",
           "linecolor": "white",
           "ticks": "",
           "title": {
            "standoff": 15
           },
           "zerolinecolor": "white",
           "zerolinewidth": 2
          },
          "yaxis": {
           "automargin": true,
           "gridcolor": "white",
           "linecolor": "white",
           "ticks": "",
           "title": {
            "standoff": 15
           },
           "zerolinecolor": "white",
           "zerolinewidth": 2
          }
         }
        },
        "title": {
         "text": "Évolution du Nombre de Spectateurs au Fil du Temps"
        },
        "xaxis": {
         "anchor": "y",
         "domain": [
          0,
          1
         ],
         "title": {
          "text": "Date"
         }
        },
        "yaxis": {
         "anchor": "x",
         "domain": [
          0,
          1
         ],
         "title": {
          "text": "Nombre de Spectateurs"
         }
        }
       }
      }
     },
     "metadata": {},
     "output_type": "display_data"
    }
   ],
   "source": [
    "# Statistiques globales\n",
    "total_donations_event = donations_evolution['donations'].max()\n",
    "peak_viewers_event = viewers_evolution['viewers'].max()\n",
    "total_streamers = streamers['twitch_login'].nunique()\n",
    "\n",
    "print(f\"Total des dons récoltés : {total_donations_event:,.2f} €\")\n",
    "print(f\"Pic de spectateurs simultanés : {peak_viewers_event:,.0f}\")\n",
    "print(f\"Nombre total de streamers participants : {total_streamers}\")\n",
    "\n",
    "# Évolution des dons\n",
    "fig = px.line(donations_evolution, x='datetime', y='donations', title=\"Évolution du Total des Dons au Fil du Temps\",\n",
    "              labels={'datetime': 'Date', 'donations': 'Dons (en millions €)'})\n",
    "fig.show()\n",
    "\n",
    "# Évolution des spectateurs\n",
    "fig = px.line(viewers_evolution, x='datetime', y='viewers', title=\"Évolution du Nombre de Spectateurs au Fil du Temps\",\n",
    "              labels={'datetime': 'Date', 'viewers': 'Nombre de Spectateurs'})\n",
    "fig.show()"
   ]
  },
  {
   "cell_type": "markdown",
   "id": "f92c271e",
   "metadata": {},
   "source": [
    "### Analyse des Streamers"
   ]
  },
  {
   "cell_type": "code",
   "execution_count": 5,
   "id": "64af88e4",
   "metadata": {},
   "outputs": [
    {
     "data": {
      "application/vnd.plotly.v1+json": {
       "config": {
        "plotlyServerURL": "https://plot.ly"
       },
       "data": [
        {
         "hovertemplate": "Streamer=%{x}<br>Total des Dons (€)=%{marker.color}<extra></extra>",
         "legendgroup": "",
         "marker": {
          "color": {
           "bdata": "uB6Fq/WTNkEK16NwFpkyQUjhepSjnDFBj8L1KG1bIUFI4XqUguQgQSlcj8LQrxlBhetRuGWaGEGuR+F6CIoYQaRwPQr14BRBSOF6FC2vEkE=",
           "dtype": "f8"
          },
          "coloraxis": "coloraxis",
          "pattern": {
           "shape": ""
          }
         },
         "name": "",
         "orientation": "v",
         "showlegend": false,
         "textposition": "auto",
         "type": "bar",
         "x": [
          "Domingo",
          "AntoineDaniel",
          "ZeratoR",
          "AngleDroit",
          "Mastu",
          "Clemovitch",
          "samueletienne",
          "SylvainLyve",
          "Joueur_du_Grenier",
          "mistermv"
         ],
         "xaxis": "x",
         "y": {
          "bdata": "uB6Fq/WTNkEK16NwFpkyQUjhepSjnDFBj8L1KG1bIUFI4XqUguQgQSlcj8LQrxlBhetRuGWaGEGuR+F6CIoYQaRwPQr14BRBSOF6FC2vEkE=",
          "dtype": "f8"
         },
         "yaxis": "y"
        }
       ],
       "layout": {
        "barmode": "relative",
        "coloraxis": {
         "colorbar": {
          "title": {
           "text": "Total des Dons (€)"
          }
         },
         "colorscale": [
          [
           0,
           "#440154"
          ],
          [
           0.1111111111111111,
           "#482878"
          ],
          [
           0.2222222222222222,
           "#3e4989"
          ],
          [
           0.3333333333333333,
           "#31688e"
          ],
          [
           0.4444444444444444,
           "#26828e"
          ],
          [
           0.5555555555555556,
           "#1f9e89"
          ],
          [
           0.6666666666666666,
           "#35b779"
          ],
          [
           0.7777777777777778,
           "#6ece58"
          ],
          [
           0.8888888888888888,
           "#b5de2b"
          ],
          [
           1,
           "#fde725"
          ]
         ]
        },
        "legend": {
         "tracegroupgap": 0
        },
        "template": {
         "data": {
          "bar": [
           {
            "error_x": {
             "color": "#2a3f5f"
            },
            "error_y": {
             "color": "#2a3f5f"
            },
            "marker": {
             "line": {
              "color": "#E5ECF6",
              "width": 0.5
             },
             "pattern": {
              "fillmode": "overlay",
              "size": 10,
              "solidity": 0.2
             }
            },
            "type": "bar"
           }
          ],
          "barpolar": [
           {
            "marker": {
             "line": {
              "color": "#E5ECF6",
              "width": 0.5
             },
             "pattern": {
              "fillmode": "overlay",
              "size": 10,
              "solidity": 0.2
             }
            },
            "type": "barpolar"
           }
          ],
          "carpet": [
           {
            "aaxis": {
             "endlinecolor": "#2a3f5f",
             "gridcolor": "white",
             "linecolor": "white",
             "minorgridcolor": "white",
             "startlinecolor": "#2a3f5f"
            },
            "baxis": {
             "endlinecolor": "#2a3f5f",
             "gridcolor": "white",
             "linecolor": "white",
             "minorgridcolor": "white",
             "startlinecolor": "#2a3f5f"
            },
            "type": "carpet"
           }
          ],
          "choropleth": [
           {
            "colorbar": {
             "outlinewidth": 0,
             "ticks": ""
            },
            "type": "choropleth"
           }
          ],
          "contour": [
           {
            "colorbar": {
             "outlinewidth": 0,
             "ticks": ""
            },
            "colorscale": [
             [
              0,
              "#0d0887"
             ],
             [
              0.1111111111111111,
              "#46039f"
             ],
             [
              0.2222222222222222,
              "#7201a8"
             ],
             [
              0.3333333333333333,
              "#9c179e"
             ],
             [
              0.4444444444444444,
              "#bd3786"
             ],
             [
              0.5555555555555556,
              "#d8576b"
             ],
             [
              0.6666666666666666,
              "#ed7953"
             ],
             [
              0.7777777777777778,
              "#fb9f3a"
             ],
             [
              0.8888888888888888,
              "#fdca26"
             ],
             [
              1,
              "#f0f921"
             ]
            ],
            "type": "contour"
           }
          ],
          "contourcarpet": [
           {
            "colorbar": {
             "outlinewidth": 0,
             "ticks": ""
            },
            "type": "contourcarpet"
           }
          ],
          "heatmap": [
           {
            "colorbar": {
             "outlinewidth": 0,
             "ticks": ""
            },
            "colorscale": [
             [
              0,
              "#0d0887"
             ],
             [
              0.1111111111111111,
              "#46039f"
             ],
             [
              0.2222222222222222,
              "#7201a8"
             ],
             [
              0.3333333333333333,
              "#9c179e"
             ],
             [
              0.4444444444444444,
              "#bd3786"
             ],
             [
              0.5555555555555556,
              "#d8576b"
             ],
             [
              0.6666666666666666,
              "#ed7953"
             ],
             [
              0.7777777777777778,
              "#fb9f3a"
             ],
             [
              0.8888888888888888,
              "#fdca26"
             ],
             [
              1,
              "#f0f921"
             ]
            ],
            "type": "heatmap"
           }
          ],
          "histogram": [
           {
            "marker": {
             "pattern": {
              "fillmode": "overlay",
              "size": 10,
              "solidity": 0.2
             }
            },
            "type": "histogram"
           }
          ],
          "histogram2d": [
           {
            "colorbar": {
             "outlinewidth": 0,
             "ticks": ""
            },
            "colorscale": [
             [
              0,
              "#0d0887"
             ],
             [
              0.1111111111111111,
              "#46039f"
             ],
             [
              0.2222222222222222,
              "#7201a8"
             ],
             [
              0.3333333333333333,
              "#9c179e"
             ],
             [
              0.4444444444444444,
              "#bd3786"
             ],
             [
              0.5555555555555556,
              "#d8576b"
             ],
             [
              0.6666666666666666,
              "#ed7953"
             ],
             [
              0.7777777777777778,
              "#fb9f3a"
             ],
             [
              0.8888888888888888,
              "#fdca26"
             ],
             [
              1,
              "#f0f921"
             ]
            ],
            "type": "histogram2d"
           }
          ],
          "histogram2dcontour": [
           {
            "colorbar": {
             "outlinewidth": 0,
             "ticks": ""
            },
            "colorscale": [
             [
              0,
              "#0d0887"
             ],
             [
              0.1111111111111111,
              "#46039f"
             ],
             [
              0.2222222222222222,
              "#7201a8"
             ],
             [
              0.3333333333333333,
              "#9c179e"
             ],
             [
              0.4444444444444444,
              "#bd3786"
             ],
             [
              0.5555555555555556,
              "#d8576b"
             ],
             [
              0.6666666666666666,
              "#ed7953"
             ],
             [
              0.7777777777777778,
              "#fb9f3a"
             ],
             [
              0.8888888888888888,
              "#fdca26"
             ],
             [
              1,
              "#f0f921"
             ]
            ],
            "type": "histogram2dcontour"
           }
          ],
          "mesh3d": [
           {
            "colorbar": {
             "outlinewidth": 0,
             "ticks": ""
            },
            "type": "mesh3d"
           }
          ],
          "parcoords": [
           {
            "line": {
             "colorbar": {
              "outlinewidth": 0,
              "ticks": ""
             }
            },
            "type": "parcoords"
           }
          ],
          "pie": [
           {
            "automargin": true,
            "type": "pie"
           }
          ],
          "scatter": [
           {
            "fillpattern": {
             "fillmode": "overlay",
             "size": 10,
             "solidity": 0.2
            },
            "type": "scatter"
           }
          ],
          "scatter3d": [
           {
            "line": {
             "colorbar": {
              "outlinewidth": 0,
              "ticks": ""
             }
            },
            "marker": {
             "colorbar": {
              "outlinewidth": 0,
              "ticks": ""
             }
            },
            "type": "scatter3d"
           }
          ],
          "scattercarpet": [
           {
            "marker": {
             "colorbar": {
              "outlinewidth": 0,
              "ticks": ""
             }
            },
            "type": "scattercarpet"
           }
          ],
          "scattergeo": [
           {
            "marker": {
             "colorbar": {
              "outlinewidth": 0,
              "ticks": ""
             }
            },
            "type": "scattergeo"
           }
          ],
          "scattergl": [
           {
            "marker": {
             "colorbar": {
              "outlinewidth": 0,
              "ticks": ""
             }
            },
            "type": "scattergl"
           }
          ],
          "scattermap": [
           {
            "marker": {
             "colorbar": {
              "outlinewidth": 0,
              "ticks": ""
             }
            },
            "type": "scattermap"
           }
          ],
          "scattermapbox": [
           {
            "marker": {
             "colorbar": {
              "outlinewidth": 0,
              "ticks": ""
             }
            },
            "type": "scattermapbox"
           }
          ],
          "scatterpolar": [
           {
            "marker": {
             "colorbar": {
              "outlinewidth": 0,
              "ticks": ""
             }
            },
            "type": "scatterpolar"
           }
          ],
          "scatterpolargl": [
           {
            "marker": {
             "colorbar": {
              "outlinewidth": 0,
              "ticks": ""
             }
            },
            "type": "scatterpolargl"
           }
          ],
          "scatterternary": [
           {
            "marker": {
             "colorbar": {
              "outlinewidth": 0,
              "ticks": ""
             }
            },
            "type": "scatterternary"
           }
          ],
          "surface": [
           {
            "colorbar": {
             "outlinewidth": 0,
             "ticks": ""
            },
            "colorscale": [
             [
              0,
              "#0d0887"
             ],
             [
              0.1111111111111111,
              "#46039f"
             ],
             [
              0.2222222222222222,
              "#7201a8"
             ],
             [
              0.3333333333333333,
              "#9c179e"
             ],
             [
              0.4444444444444444,
              "#bd3786"
             ],
             [
              0.5555555555555556,
              "#d8576b"
             ],
             [
              0.6666666666666666,
              "#ed7953"
             ],
             [
              0.7777777777777778,
              "#fb9f3a"
             ],
             [
              0.8888888888888888,
              "#fdca26"
             ],
             [
              1,
              "#f0f921"
             ]
            ],
            "type": "surface"
           }
          ],
          "table": [
           {
            "cells": {
             "fill": {
              "color": "#EBF0F8"
             },
             "line": {
              "color": "white"
             }
            },
            "header": {
             "fill": {
              "color": "#C8D4E3"
             },
             "line": {
              "color": "white"
             }
            },
            "type": "table"
           }
          ]
         },
         "layout": {
          "annotationdefaults": {
           "arrowcolor": "#2a3f5f",
           "arrowhead": 0,
           "arrowwidth": 1
          },
          "autotypenumbers": "strict",
          "coloraxis": {
           "colorbar": {
            "outlinewidth": 0,
            "ticks": ""
           }
          },
          "colorscale": {
           "diverging": [
            [
             0,
             "#8e0152"
            ],
            [
             0.1,
             "#c51b7d"
            ],
            [
             0.2,
             "#de77ae"
            ],
            [
             0.3,
             "#f1b6da"
            ],
            [
             0.4,
             "#fde0ef"
            ],
            [
             0.5,
             "#f7f7f7"
            ],
            [
             0.6,
             "#e6f5d0"
            ],
            [
             0.7,
             "#b8e186"
            ],
            [
             0.8,
             "#7fbc41"
            ],
            [
             0.9,
             "#4d9221"
            ],
            [
             1,
             "#276419"
            ]
           ],
           "sequential": [
            [
             0,
             "#0d0887"
            ],
            [
             0.1111111111111111,
             "#46039f"
            ],
            [
             0.2222222222222222,
             "#7201a8"
            ],
            [
             0.3333333333333333,
             "#9c179e"
            ],
            [
             0.4444444444444444,
             "#bd3786"
            ],
            [
             0.5555555555555556,
             "#d8576b"
            ],
            [
             0.6666666666666666,
             "#ed7953"
            ],
            [
             0.7777777777777778,
             "#fb9f3a"
            ],
            [
             0.8888888888888888,
             "#fdca26"
            ],
            [
             1,
             "#f0f921"
            ]
           ],
           "sequentialminus": [
            [
             0,
             "#0d0887"
            ],
            [
             0.1111111111111111,
             "#46039f"
            ],
            [
             0.2222222222222222,
             "#7201a8"
            ],
            [
             0.3333333333333333,
             "#9c179e"
            ],
            [
             0.4444444444444444,
             "#bd3786"
            ],
            [
             0.5555555555555556,
             "#d8576b"
            ],
            [
             0.6666666666666666,
             "#ed7953"
            ],
            [
             0.7777777777777778,
             "#fb9f3a"
            ],
            [
             0.8888888888888888,
             "#fdca26"
            ],
            [
             1,
             "#f0f921"
            ]
           ]
          },
          "colorway": [
           "#636efa",
           "#EF553B",
           "#00cc96",
           "#ab63fa",
           "#FFA15A",
           "#19d3f3",
           "#FF6692",
           "#B6E880",
           "#FF97FF",
           "#FECB52"
          ],
          "font": {
           "color": "#2a3f5f"
          },
          "geo": {
           "bgcolor": "white",
           "lakecolor": "white",
           "landcolor": "#E5ECF6",
           "showlakes": true,
           "showland": true,
           "subunitcolor": "white"
          },
          "hoverlabel": {
           "align": "left"
          },
          "hovermode": "closest",
          "mapbox": {
           "style": "light"
          },
          "paper_bgcolor": "white",
          "plot_bgcolor": "#E5ECF6",
          "polar": {
           "angularaxis": {
            "gridcolor": "white",
            "linecolor": "white",
            "ticks": ""
           },
           "bgcolor": "#E5ECF6",
           "radialaxis": {
            "gridcolor": "white",
            "linecolor": "white",
            "ticks": ""
           }
          },
          "scene": {
           "xaxis": {
            "backgroundcolor": "#E5ECF6",
            "gridcolor": "white",
            "gridwidth": 2,
            "linecolor": "white",
            "showbackground": true,
            "ticks": "",
            "zerolinecolor": "white"
           },
           "yaxis": {
            "backgroundcolor": "#E5ECF6",
            "gridcolor": "white",
            "gridwidth": 2,
            "linecolor": "white",
            "showbackground": true,
            "ticks": "",
            "zerolinecolor": "white"
           },
           "zaxis": {
            "backgroundcolor": "#E5ECF6",
            "gridcolor": "white",
            "gridwidth": 2,
            "linecolor": "white",
            "showbackground": true,
            "ticks": "",
            "zerolinecolor": "white"
           }
          },
          "shapedefaults": {
           "line": {
            "color": "#2a3f5f"
           }
          },
          "ternary": {
           "aaxis": {
            "gridcolor": "white",
            "linecolor": "white",
            "ticks": ""
           },
           "baxis": {
            "gridcolor": "white",
            "linecolor": "white",
            "ticks": ""
           },
           "bgcolor": "#E5ECF6",
           "caxis": {
            "gridcolor": "white",
            "linecolor": "white",
            "ticks": ""
           }
          },
          "title": {
           "x": 0.05
          },
          "xaxis": {
           "automargin": true,
           "gridcolor": "white",
           "linecolor": "white",
           "ticks": "",
           "title": {
            "standoff": 15
           },
           "zerolinecolor": "white",
           "zerolinewidth": 2
          },
          "yaxis": {
           "automargin": true,
           "gridcolor": "white",
           "linecolor": "white",
           "ticks": "",
           "title": {
            "standoff": 15
           },
           "zerolinecolor": "white",
           "zerolinewidth": 2
          }
         }
        },
        "title": {
         "text": "Top 10 des Streamers par Total de Dons"
        },
        "xaxis": {
         "anchor": "y",
         "domain": [
          0,
          1
         ],
         "title": {
          "text": "Streamer"
         }
        },
        "yaxis": {
         "anchor": "x",
         "domain": [
          0,
          1
         ],
         "title": {
          "text": "Total des Dons (€)"
         }
        }
       }
      }
     },
     "metadata": {},
     "output_type": "display_data"
    },
    {
     "data": {
      "application/vnd.plotly.v1+json": {
       "config": {
        "plotlyServerURL": "https://plot.ly"
       },
       "data": [
        {
         "hovertemplate": "Streamer=%{x}<br>Spectateurs Moyens=%{marker.color}<extra></extra>",
         "legendgroup": "",
         "marker": {
          "color": {
           "bdata": "Gdvv6FV/6ECiV8b2ex7eQCryWTcY99NALWP7HX1B00Cbk0BcKOfSQOsGU+Rzo9FApshn3eB30UA6CcSFmmfPQEPNSSAuzcpAEBdqTgJsx0A=",
           "dtype": "f8"
          },
          "coloraxis": "coloraxis",
          "pattern": {
           "shape": ""
          }
         },
         "name": "",
         "orientation": "v",
         "showlegend": false,
         "textposition": "auto",
         "type": "bar",
         "x": [
          "Domingo",
          "AntoineDaniel",
          "ZeratoR",
          "byilhann",
          "Joueur_du_Grenier",
          "Mastu",
          "Etoiles",
          "Nico_la",
          "Joyca",
          "SylvainLyve"
         ],
         "xaxis": "x",
         "y": {
          "bdata": "Gdvv6FV/6ECiV8b2ex7eQCryWTcY99NALWP7HX1B00Cbk0BcKOfSQOsGU+Rzo9FApshn3eB30UA6CcSFmmfPQEPNSSAuzcpAEBdqTgJsx0A=",
          "dtype": "f8"
         },
         "yaxis": "y"
        }
       ],
       "layout": {
        "barmode": "relative",
        "coloraxis": {
         "colorbar": {
          "title": {
           "text": "Spectateurs Moyens"
          }
         },
         "colorscale": [
          [
           0,
           "#0d0887"
          ],
          [
           0.1111111111111111,
           "#46039f"
          ],
          [
           0.2222222222222222,
           "#7201a8"
          ],
          [
           0.3333333333333333,
           "#9c179e"
          ],
          [
           0.4444444444444444,
           "#bd3786"
          ],
          [
           0.5555555555555556,
           "#d8576b"
          ],
          [
           0.6666666666666666,
           "#ed7953"
          ],
          [
           0.7777777777777778,
           "#fb9f3a"
          ],
          [
           0.8888888888888888,
           "#fdca26"
          ],
          [
           1,
           "#f0f921"
          ]
         ]
        },
        "legend": {
         "tracegroupgap": 0
        },
        "template": {
         "data": {
          "bar": [
           {
            "error_x": {
             "color": "#2a3f5f"
            },
            "error_y": {
             "color": "#2a3f5f"
            },
            "marker": {
             "line": {
              "color": "#E5ECF6",
              "width": 0.5
             },
             "pattern": {
              "fillmode": "overlay",
              "size": 10,
              "solidity": 0.2
             }
            },
            "type": "bar"
           }
          ],
          "barpolar": [
           {
            "marker": {
             "line": {
              "color": "#E5ECF6",
              "width": 0.5
             },
             "pattern": {
              "fillmode": "overlay",
              "size": 10,
              "solidity": 0.2
             }
            },
            "type": "barpolar"
           }
          ],
          "carpet": [
           {
            "aaxis": {
             "endlinecolor": "#2a3f5f",
             "gridcolor": "white",
             "linecolor": "white",
             "minorgridcolor": "white",
             "startlinecolor": "#2a3f5f"
            },
            "baxis": {
             "endlinecolor": "#2a3f5f",
             "gridcolor": "white",
             "linecolor": "white",
             "minorgridcolor": "white",
             "startlinecolor": "#2a3f5f"
            },
            "type": "carpet"
           }
          ],
          "choropleth": [
           {
            "colorbar": {
             "outlinewidth": 0,
             "ticks": ""
            },
            "type": "choropleth"
           }
          ],
          "contour": [
           {
            "colorbar": {
             "outlinewidth": 0,
             "ticks": ""
            },
            "colorscale": [
             [
              0,
              "#0d0887"
             ],
             [
              0.1111111111111111,
              "#46039f"
             ],
             [
              0.2222222222222222,
              "#7201a8"
             ],
             [
              0.3333333333333333,
              "#9c179e"
             ],
             [
              0.4444444444444444,
              "#bd3786"
             ],
             [
              0.5555555555555556,
              "#d8576b"
             ],
             [
              0.6666666666666666,
              "#ed7953"
             ],
             [
              0.7777777777777778,
              "#fb9f3a"
             ],
             [
              0.8888888888888888,
              "#fdca26"
             ],
             [
              1,
              "#f0f921"
             ]
            ],
            "type": "contour"
           }
          ],
          "contourcarpet": [
           {
            "colorbar": {
             "outlinewidth": 0,
             "ticks": ""
            },
            "type": "contourcarpet"
           }
          ],
          "heatmap": [
           {
            "colorbar": {
             "outlinewidth": 0,
             "ticks": ""
            },
            "colorscale": [
             [
              0,
              "#0d0887"
             ],
             [
              0.1111111111111111,
              "#46039f"
             ],
             [
              0.2222222222222222,
              "#7201a8"
             ],
             [
              0.3333333333333333,
              "#9c179e"
             ],
             [
              0.4444444444444444,
              "#bd3786"
             ],
             [
              0.5555555555555556,
              "#d8576b"
             ],
             [
              0.6666666666666666,
              "#ed7953"
             ],
             [
              0.7777777777777778,
              "#fb9f3a"
             ],
             [
              0.8888888888888888,
              "#fdca26"
             ],
             [
              1,
              "#f0f921"
             ]
            ],
            "type": "heatmap"
           }
          ],
          "histogram": [
           {
            "marker": {
             "pattern": {
              "fillmode": "overlay",
              "size": 10,
              "solidity": 0.2
             }
            },
            "type": "histogram"
           }
          ],
          "histogram2d": [
           {
            "colorbar": {
             "outlinewidth": 0,
             "ticks": ""
            },
            "colorscale": [
             [
              0,
              "#0d0887"
             ],
             [
              0.1111111111111111,
              "#46039f"
             ],
             [
              0.2222222222222222,
              "#7201a8"
             ],
             [
              0.3333333333333333,
              "#9c179e"
             ],
             [
              0.4444444444444444,
              "#bd3786"
             ],
             [
              0.5555555555555556,
              "#d8576b"
             ],
             [
              0.6666666666666666,
              "#ed7953"
             ],
             [
              0.7777777777777778,
              "#fb9f3a"
             ],
             [
              0.8888888888888888,
              "#fdca26"
             ],
             [
              1,
              "#f0f921"
             ]
            ],
            "type": "histogram2d"
           }
          ],
          "histogram2dcontour": [
           {
            "colorbar": {
             "outlinewidth": 0,
             "ticks": ""
            },
            "colorscale": [
             [
              0,
              "#0d0887"
             ],
             [
              0.1111111111111111,
              "#46039f"
             ],
             [
              0.2222222222222222,
              "#7201a8"
             ],
             [
              0.3333333333333333,
              "#9c179e"
             ],
             [
              0.4444444444444444,
              "#bd3786"
             ],
             [
              0.5555555555555556,
              "#d8576b"
             ],
             [
              0.6666666666666666,
              "#ed7953"
             ],
             [
              0.7777777777777778,
              "#fb9f3a"
             ],
             [
              0.8888888888888888,
              "#fdca26"
             ],
             [
              1,
              "#f0f921"
             ]
            ],
            "type": "histogram2dcontour"
           }
          ],
          "mesh3d": [
           {
            "colorbar": {
             "outlinewidth": 0,
             "ticks": ""
            },
            "type": "mesh3d"
           }
          ],
          "parcoords": [
           {
            "line": {
             "colorbar": {
              "outlinewidth": 0,
              "ticks": ""
             }
            },
            "type": "parcoords"
           }
          ],
          "pie": [
           {
            "automargin": true,
            "type": "pie"
           }
          ],
          "scatter": [
           {
            "fillpattern": {
             "fillmode": "overlay",
             "size": 10,
             "solidity": 0.2
            },
            "type": "scatter"
           }
          ],
          "scatter3d": [
           {
            "line": {
             "colorbar": {
              "outlinewidth": 0,
              "ticks": ""
             }
            },
            "marker": {
             "colorbar": {
              "outlinewidth": 0,
              "ticks": ""
             }
            },
            "type": "scatter3d"
           }
          ],
          "scattercarpet": [
           {
            "marker": {
             "colorbar": {
              "outlinewidth": 0,
              "ticks": ""
             }
            },
            "type": "scattercarpet"
           }
          ],
          "scattergeo": [
           {
            "marker": {
             "colorbar": {
              "outlinewidth": 0,
              "ticks": ""
             }
            },
            "type": "scattergeo"
           }
          ],
          "scattergl": [
           {
            "marker": {
             "colorbar": {
              "outlinewidth": 0,
              "ticks": ""
             }
            },
            "type": "scattergl"
           }
          ],
          "scattermap": [
           {
            "marker": {
             "colorbar": {
              "outlinewidth": 0,
              "ticks": ""
             }
            },
            "type": "scattermap"
           }
          ],
          "scattermapbox": [
           {
            "marker": {
             "colorbar": {
              "outlinewidth": 0,
              "ticks": ""
             }
            },
            "type": "scattermapbox"
           }
          ],
          "scatterpolar": [
           {
            "marker": {
             "colorbar": {
              "outlinewidth": 0,
              "ticks": ""
             }
            },
            "type": "scatterpolar"
           }
          ],
          "scatterpolargl": [
           {
            "marker": {
             "colorbar": {
              "outlinewidth": 0,
              "ticks": ""
             }
            },
            "type": "scatterpolargl"
           }
          ],
          "scatterternary": [
           {
            "marker": {
             "colorbar": {
              "outlinewidth": 0,
              "ticks": ""
             }
            },
            "type": "scatterternary"
           }
          ],
          "surface": [
           {
            "colorbar": {
             "outlinewidth": 0,
             "ticks": ""
            },
            "colorscale": [
             [
              0,
              "#0d0887"
             ],
             [
              0.1111111111111111,
              "#46039f"
             ],
             [
              0.2222222222222222,
              "#7201a8"
             ],
             [
              0.3333333333333333,
              "#9c179e"
             ],
             [
              0.4444444444444444,
              "#bd3786"
             ],
             [
              0.5555555555555556,
              "#d8576b"
             ],
             [
              0.6666666666666666,
              "#ed7953"
             ],
             [
              0.7777777777777778,
              "#fb9f3a"
             ],
             [
              0.8888888888888888,
              "#fdca26"
             ],
             [
              1,
              "#f0f921"
             ]
            ],
            "type": "surface"
           }
          ],
          "table": [
           {
            "cells": {
             "fill": {
              "color": "#EBF0F8"
             },
             "line": {
              "color": "white"
             }
            },
            "header": {
             "fill": {
              "color": "#C8D4E3"
             },
             "line": {
              "color": "white"
             }
            },
            "type": "table"
           }
          ]
         },
         "layout": {
          "annotationdefaults": {
           "arrowcolor": "#2a3f5f",
           "arrowhead": 0,
           "arrowwidth": 1
          },
          "autotypenumbers": "strict",
          "coloraxis": {
           "colorbar": {
            "outlinewidth": 0,
            "ticks": ""
           }
          },
          "colorscale": {
           "diverging": [
            [
             0,
             "#8e0152"
            ],
            [
             0.1,
             "#c51b7d"
            ],
            [
             0.2,
             "#de77ae"
            ],
            [
             0.3,
             "#f1b6da"
            ],
            [
             0.4,
             "#fde0ef"
            ],
            [
             0.5,
             "#f7f7f7"
            ],
            [
             0.6,
             "#e6f5d0"
            ],
            [
             0.7,
             "#b8e186"
            ],
            [
             0.8,
             "#7fbc41"
            ],
            [
             0.9,
             "#4d9221"
            ],
            [
             1,
             "#276419"
            ]
           ],
           "sequential": [
            [
             0,
             "#0d0887"
            ],
            [
             0.1111111111111111,
             "#46039f"
            ],
            [
             0.2222222222222222,
             "#7201a8"
            ],
            [
             0.3333333333333333,
             "#9c179e"
            ],
            [
             0.4444444444444444,
             "#bd3786"
            ],
            [
             0.5555555555555556,
             "#d8576b"
            ],
            [
             0.6666666666666666,
             "#ed7953"
            ],
            [
             0.7777777777777778,
             "#fb9f3a"
            ],
            [
             0.8888888888888888,
             "#fdca26"
            ],
            [
             1,
             "#f0f921"
            ]
           ],
           "sequentialminus": [
            [
             0,
             "#0d0887"
            ],
            [
             0.1111111111111111,
             "#46039f"
            ],
            [
             0.2222222222222222,
             "#7201a8"
            ],
            [
             0.3333333333333333,
             "#9c179e"
            ],
            [
             0.4444444444444444,
             "#bd3786"
            ],
            [
             0.5555555555555556,
             "#d8576b"
            ],
            [
             0.6666666666666666,
             "#ed7953"
            ],
            [
             0.7777777777777778,
             "#fb9f3a"
            ],
            [
             0.8888888888888888,
             "#fdca26"
            ],
            [
             1,
             "#f0f921"
            ]
           ]
          },
          "colorway": [
           "#636efa",
           "#EF553B",
           "#00cc96",
           "#ab63fa",
           "#FFA15A",
           "#19d3f3",
           "#FF6692",
           "#B6E880",
           "#FF97FF",
           "#FECB52"
          ],
          "font": {
           "color": "#2a3f5f"
          },
          "geo": {
           "bgcolor": "white",
           "lakecolor": "white",
           "landcolor": "#E5ECF6",
           "showlakes": true,
           "showland": true,
           "subunitcolor": "white"
          },
          "hoverlabel": {
           "align": "left"
          },
          "hovermode": "closest",
          "mapbox": {
           "style": "light"
          },
          "paper_bgcolor": "white",
          "plot_bgcolor": "#E5ECF6",
          "polar": {
           "angularaxis": {
            "gridcolor": "white",
            "linecolor": "white",
            "ticks": ""
           },
           "bgcolor": "#E5ECF6",
           "radialaxis": {
            "gridcolor": "white",
            "linecolor": "white",
            "ticks": ""
           }
          },
          "scene": {
           "xaxis": {
            "backgroundcolor": "#E5ECF6",
            "gridcolor": "white",
            "gridwidth": 2,
            "linecolor": "white",
            "showbackground": true,
            "ticks": "",
            "zerolinecolor": "white"
           },
           "yaxis": {
            "backgroundcolor": "#E5ECF6",
            "gridcolor": "white",
            "gridwidth": 2,
            "linecolor": "white",
            "showbackground": true,
            "ticks": "",
            "zerolinecolor": "white"
           },
           "zaxis": {
            "backgroundcolor": "#E5ECF6",
            "gridcolor": "white",
            "gridwidth": 2,
            "linecolor": "white",
            "showbackground": true,
            "ticks": "",
            "zerolinecolor": "white"
           }
          },
          "shapedefaults": {
           "line": {
            "color": "#2a3f5f"
           }
          },
          "ternary": {
           "aaxis": {
            "gridcolor": "white",
            "linecolor": "white",
            "ticks": ""
           },
           "baxis": {
            "gridcolor": "white",
            "linecolor": "white",
            "ticks": ""
           },
           "bgcolor": "#E5ECF6",
           "caxis": {
            "gridcolor": "white",
            "linecolor": "white",
            "ticks": ""
           }
          },
          "title": {
           "x": 0.05
          },
          "xaxis": {
           "automargin": true,
           "gridcolor": "white",
           "linecolor": "white",
           "ticks": "",
           "title": {
            "standoff": 15
           },
           "zerolinecolor": "white",
           "zerolinewidth": 2
          },
          "yaxis": {
           "automargin": true,
           "gridcolor": "white",
           "linecolor": "white",
           "ticks": "",
           "title": {
            "standoff": 15
           },
           "zerolinecolor": "white",
           "zerolinewidth": 2
          }
         }
        },
        "title": {
         "text": "Top 10 des Streamers par Spectateurs Moyens"
        },
        "xaxis": {
         "anchor": "y",
         "domain": [
          0,
          1
         ],
         "title": {
          "text": "Streamer"
         }
        },
        "yaxis": {
         "anchor": "x",
         "domain": [
          0,
          1
         ],
         "title": {
          "text": "Spectateurs Moyens"
         }
        }
       }
      }
     },
     "metadata": {},
     "output_type": "display_data"
    },
    {
     "data": {
      "application/vnd.plotly.v1+json": {
       "config": {
        "plotlyServerURL": "https://plot.ly"
       },
       "data": [
        {
         "hovertemplate": "<b>%{hovertext}</b><br><br>Spectateurs Moyens=%{marker.color}<br>Total des Dons (€)=%{marker.size}<extra></extra>",
         "hovertext": [
          "Domingo",
          "AntoineDaniel",
          "ZeratoR",
          "AngleDroit",
          "Mastu",
          "Clemovitch",
          "samueletienne",
          "SylvainLyve",
          "Joueur_du_Grenier",
          "mistermv",
          "Joyca",
          "Ponce",
          "zacknani",
          "Etoiles",
          "Shisheyu",
          "JLTomy",
          "HortyUnderscore",
          "byilhann",
          "Nico_la",
          "LittleBigWhale",
          "BagheraJones",
          "m4fgaming",
          "TheGuill84",
          "AlphaCast",
          "Ultia",
          "EnjoyPhoenix",
          "DamDamLive",
          "Gom4rt",
          "Pressea",
          "Rivenzi",
          "AVAMind",
          "helydia",
          "CrocodyleTV",
          "FarodGames",
          "DrFeelgood",
          "TheGreatReview",
          "Linca",
          "ZEVENT",
          "JeanBaptisteShow",
          "Flamby",
          "MahyarS",
          "Jirayalecochon",
          "MoMaN",
          "Alexclick",
          "Lapi",
          "kenbogard",
          "Mynthos",
          "Sundae",
          "Gius",
          "MielCrapouille",
          "chowh1",
          "KennyStream",
          "Trinity",
          "Sol_Hms",
          "CitronViolet",
          "MathoX",
          "SolaryHS",
          "Sturry316",
          "MrDeriv",
          "Sakor_",
          "Recalbox",
          "TipStevens",
          "nogodi",
          "Marco",
          "Splinter",
          "CaptainFRACAS",
          "Saruei",
          "ClubPingouin_Trash",
          "KatChanVT",
          "Julgane",
          "Hctuan",
          "TheHolomovement",
          "RiboDansLaSauce",
          "Flonflon",
          "kammy64",
          "GuimauseTerrier",
          "Redairazor",
          "BARBE___DOUCE",
          "Lynkus_",
          "TogaLock_fr",
          "Sratuke",
          "Anaee",
          "ProTeam",
          "Fausthea",
          "theodort",
          "Malganyr",
          "JarlSpunk",
          "Strey_LoL",
          "mavienormale",
          "TCHOUUKI",
          "JennyyL",
          "La_Capitainerie",
          "Varg31",
          "Huzounet",
          "JardiStream",
          "clem_mlrt",
          "BenZaie",
          "papy_grant",
          "Roi_Louis",
          "Brickmitri",
          "KEMIST_C10H15N",
          "frozencrystal",
          "Laniyelle",
          "Echyr_",
          "KapslockArt",
          "MissCliick_",
          "MaitreArmand",
          "0uahleouff",
          "ElyhOnAir",
          "BastiUi",
          "Antistar",
          "David_Kyden",
          "broocoline",
          "Brybry",
          "LeProtagonisteTV",
          "ChezBubulle",
          "GF_Iguel",
          "MarcelPignol",
          "JawedCS",
          "FlavienAlexzander",
          "Scok",
          "StanRenart",
          "M4LL4URY",
          "Kusa",
          "Just1Chat",
          "nanie_nao",
          "FabDColson",
          "Euphoriasis",
          "ManaRyuujin",
          "Chester_ttv",
          "lepapyofficiel",
          "NakaStream",
          "Nejda",
          "Sgauth",
          "Zimas",
          "HugoAuPerchoir",
          "Lypning",
          "Ouilli",
          "Medalinya",
          "Tamaroush_Askemys",
          "Oliarius",
          "Skerax",
          "2old4stream",
          "Ryuuna_VT",
          "Lalain",
          "Cruelladk",
          "TEHLeadersheep",
          "merci_raph",
          "BCLV4",
          "JessBond",
          "As2piK",
          "Did0us",
          "JackplayPZ",
          "PriscillaLiaud",
          "magarky",
          "Zayphira",
          "LofiMaria_",
          "WarhaDventure",
          "christellelebaillyauteur",
          "Evoxia",
          "Sawpalin",
          "Leocrow_",
          "Doigby",
          "Cailloute",
          "Azghaaar",
          "Les_Archives",
          "Slyders_HS",
          "bouddhiste",
          "F_Bardino",
          "Nyamassis",
          "FalkaLive",
          "Coffee",
          "kwikwiii",
          "SEROTHS",
          "Keeps",
          "VulvyQueen",
          "Morrigh4n",
          "LaTaverneDePatatus",
          "FefeGG",
          "AnaOnAir",
          "eziogdsp",
          "E_Mule",
          "SAPEUH",
          "Shynouh",
          "Tsunadida",
          "LaKalzone",
          "Maricanne",
          "Koala_Cosy",
          "Poachimpa",
          "St0neTV",
          "KAOsvmd",
          "MonkyJV",
          "harumate",
          "BrunoUniversSimu",
          "Teuff_",
          "EYMRYC",
          "GOLRIVER_",
          "ElnoraEleo",
          "SoHarumi",
          "Yannock_",
          "PixelOctet",
          "KaroViper",
          "kyunesswhale",
          "Kahleeya",
          "Menou",
          "BartGeo",
          "Nunakeau",
          "airkagaming",
          "NECOtho",
          "Flaviestch",
          "Fukano",
          "ElizyaTV",
          "ToulouseLastStock",
          "Clara_l_Exploratrice",
          "Noki_Pubg",
          "Petitours",
          "MaryHealthTV",
          "Shakaam",
          "Heillinel",
          "NikoTB_",
          "Lunium",
          "GamesDreamy",
          "NerdFactory",
          "Symphoniya_",
          "olithinoa",
          "Kejinn",
          "Bluestardust_",
          "adyboo",
          "Artemize",
          "Hosarny",
          "Greg16s",
          "MichaelBielli",
          "Koripeluche",
          "franck_miller",
          "MisterPacoThai",
          "JoeLaFritt_",
          "General_Mass",
          "Jidun",
          "Music_Oceane",
          "Windsurfer2105",
          "HammerKick",
          "Lunae",
          "Memez94",
          "CrossWax",
          "Etoile_OW",
          "Boomnasty_",
          "klr_stream",
          "StelliosOW",
          "Yodahkiin_",
          "Peurle_ow",
          "shubbley",
          "Solkarine",
          "Elbe_Poly",
          "evan91380_",
          "Mushu",
          "arnaquemoisitupeux",
          "Elfyaa",
          "Ysadhora",
          "PurpleOfficiel",
          "chaab",
          "EXPAT_MALGRE_LUI",
          "Deavild",
          "Play_MK8",
          "kikitchiwi",
          "Drakeoz_",
          "RavenCross",
          "Natsuko",
          "Estebancano_7",
          "R3YMANN",
          "Mistyee",
          "Elypwet",
          "PetitBiscuit_",
          "Skyzio_",
          "Taelth",
          "BigBadHater_FR",
          "Schkaia",
          "OtsunaTV",
          "Wingo",
          "Verveine_",
          "behop_VeeK",
          "LesGoules",
          "Neru",
          "Kunder_on",
          "MialyMusic",
          "PwnZ_",
          "Thefoxeur",
          "Nykho",
          "saniahasna",
          "DamS_OW",
          "Kensei_FR",
          "Maitreleee",
          "Momos_Vision",
          "MrQuaRate",
          "NihiilTV",
          "Voxioo",
          "MonsieurFoxx",
          "IkerTTVV",
          "DrFrenesy",
          "Meteorann",
          "Chaton_Sauvage_",
          "Welliah",
          "Recharg_ing",
          "LePirateRoux",
          "allmight__one",
          "Nia_c",
          "Ss7even",
          "doxtv75",
          "DeejayMakina",
          "FlynnWinch",
          "Jengo_m",
          "Boitameu",
          "n0tizi",
          "miisterkel",
          "ZEventPlays",
          "Hytanie",
          "SixenTv"
         ],
         "legendgroup": "",
         "marker": {
          "color": {
           "bdata": "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",
           "dtype": "f8"
          },
          "coloraxis": "coloraxis",
          "size": {
           "bdata": "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",
           "dtype": "f8"
          },
          "sizemode": "area",
          "sizeref": 411.0193527777778,
          "symbol": "circle"
         },
         "mode": "markers",
         "name": "",
         "orientation": "v",
         "showlegend": false,
         "type": "scatter",
         "x": {
          "bdata": "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",
          "dtype": "f8"
         },
         "xaxis": "x",
         "y": {
          "bdata": "uB6Fq/WTNkEK16NwFpkyQUjhepSjnDFBj8L1KG1bIUFI4XqUguQgQSlcj8LQrxlBhetRuGWaGEGuR+F6CIoYQaRwPQr14BRBSOF6FC2vEkEfhetRm6ISQa5H4XokyBBBj8L1KHC0CEHNzMzMoJAIQc3MzMxCWwZBFK5H4XJUBkH2KFyPhkwEQTMzMzOR5gNBj8L1KOxPA0FSuB6Fn5MAQdejcD32hABB16NwPY5DAEFmZmZmztj+QDMzMzOryv5AAAAAAFSv/kDD9Shco439QD0K16PM4PxAmpmZmXnD/EAK16NwSZ/5QOxRuB4phflA16NwPTJ4+UCamZmZwfn4QDMzMzP31fhA7FG4Hi3u9EDsUbgeKY7xQK5H4XoEnPBAuB6F60Um8EDD9ShcP5XqQDMzMzNTRupAj8L1KAQj6kCkcD0K1xLpQFK4HoUTC+lAPQrXo6Bt50CamZmZGQPnQB+F61FYleZA4XoUri9T5kDNzMzMLM7lQGZmZmaOduVAXI/C9aiL5ECuR+F6vIrkQI/C9SisEuRArkfhelQW40DsUbgelTThQI/C9SgchuBAPQrXozgs4EBmZmZmVpTeQK5H4Xo0wdpAcT0K17OJ2UDXo3A9WszYQLgeheuhvNhAzczMzKz11kApXI/CZafVQOxRuB7FWdRAPQrXo/Bb0kBmZmZmpv/RQBSuR+G6ONFASOF6FK4P0UBI4XoUXu/QQAAAAAAww9BACtejcI270EBI4XoUTqXQQClcj8JFgtBAPQrXo7Bjz0B7FK5HwaXMQNejcD0qV8xAw/UoXO8hzECamZmZmezLQClcj8I1WMtAAAAAAMCZykBmZmZmZmTJQAAAAABAeshAKVyPwpVRyEBxPQrXA0TIQFyPwvUIIMdA9ihcj2J6xkBmZmZmBtTFQGZmZmZGwMVAzczMzEy8xUAK16NwXezEQPYoXI/i2sRA4XoUrge4xEDNzMzMrC/EQLgehevx9sNAmpmZmbnzw0B7FK5HAezDQOxRuB7l4sNAAAAAAADFw0AAAAAAAKbDQOxRuB7FocNAAAAAAADGwUBxPQrXY7LBQD0K16Pwo8FAMzMzM3MwwUCF61G4/nHAQLgehetxFsBAAAAAAIAJwEAfhetR2AXAQB+F61G47L5AexSuR6HFvkAzMzMzcyG+QOxRuB5Fzr1AKVyPwnXHvUCkcD0KF029QPYoXI/CTL1AFK5H4bq4vEAfhetReHW8QJqZmZlZ7rtAAAAAAABpu0DsUbgehVm7QFyPwvWoXrpApHA9Chc3ukDD9Shczy66QFyPwvWobrlAAAAAAAAjuUAUrkfhuua4QLgehetRq7hAPQrXo/B+uEBxPQrX40K4QM3MzMxMQrhAAAAAAAA4uEAAAAAAAAm4QB+F61F437dAw/UoXE/Ut0CuR+F6lI+3QDMzMzMzj7dAw/UoXA+Et0CkcD0KV3+3QK5H4XpUtLZACtejcP1OtkAAAAAAgEa2QAAAAAAAErZAj8L1KNzitUCkcD0Kl3y1QAAAAAAAXrVAhetRuJ7stEAAAAAAANO0QAAAAADA0rRAH4XrUTibtEAAAAAAAIy0QK5H4XpUg7RAcT0K16NKtEAAAAAAADK0QAAAAAAAELRAXI/C9agMtEAAAAAAAAW0QNejcD3KALRAZmZmZmb4s0C4HoXr0cmzQDMzMzMzsLNAAAAAAACrs0Bcj8L1qOeyQAAAAAAAorJA4XoUrodDskBSuB6FKzSyQAAAAAAAB7JAAAAAAADDsUAzMzMzs7ixQPYoXI9CnrFACtejcP2UsUAfhetROFyxQIXrUbie6rBApHA9ClflsEAAAAAAANmwQLgehesRqLBAAAAAAACJsEA9CtejMGiwQPYoXI9CNLBAAAAAAAAssED2KFyPgiSwQAAAAAAAIrBAFK5H4boEsEC4HoXrkQSwQHsUrkdhw69A16NwPYqvr0B7FK5HYaWvQNejcD0Kpa9ASOF6FK6Rr0BSuB6F61WvQOxRuB4FQK9AAAAAAABAr0AAAAAAAECvQOF6FK7HNa5ACtejcL0GrUAAAAAAAI6sQGZmZmZmYqxAZmZmZmb7q0DsUbgehbyrQAAAAAAAgKtAuB6F61F3q0AAAAAAAGyrQAAAAAAAbKtAFK5H4Xppq0CPwvUo3FmrQM3MzMzMWKtAAAAAAABYq0CF61G4HuKqQI/C9ShcmKpAAAAAAACUqkCkcD0KV4KqQAAAAAAAY6pAAAAAAAAKqkCPwvUoXNKpQClcj8J1jalAFK5H4fp5qUCuR+F6FAGpQHsUrkdh3ahA4XoUrkfPqEAAAAAAALqoQArXo3A9uahA7FG4HgWxqECkcD0KV/6nQAAAAAAA9qdAMzMzMzPep0BxPQrXI96nQIXrUbier6dAAAAAAACYp0CPwvUo3JenQClcj8J1eqdAuB6F69F2p0AfhetROHSnQClcj8J1cadAZmZmZmZwp0AAAAAAAHCnQAAAAAAAcKdAAAAAAABwp0AAAAAAAESmQKRwPQrXCKZACtejcD3gpUB7FK5HYaalQClcj8J1VaVAhetRuB4npUBI4XoUrsCkQAAAAAAAUKRAAAAAAADso0DD9Shcj52jQDMzMzMziKNAKVyPwnXAokCkcD0KV3+iQAAAAAAAZqJA7FG4HoVfokD2KFyPwieiQB+F61E4I6JAAAAAAACVoUCkcD0K14ShQNejcD2KcKFAmpmZmZlhoUAAAAAAADChQFyPwvUoIKFAAAAAAAAKoUDsUbgeBa+gQOxRuB4Fr6BA7FG4HoVBoEC4HoXr0TigQHE9CtejHaBAAAAAAAAGoEAAAAAAAOCfQFK4HoXrpZ9AAAAAAABAn0A9CtejcIedQM3MzMzM/pxAAAAAAABUnEAAAAAAAEicQNejcD0K4JpAj8L1KFy9mkAAAAAAAJCaQAAAAAAAkJpAAAAAAACUmUAAAAAAAHyZQAAAAAAAEJhA4XoUrkfYl0AAAAAAALSXQDMzMzMzcJdAmpmZmZlYlkAAAAAAADiWQAAAAAAAaJVAAAAAAADklED2KFyPwlKUQDMzMzMzc5NAKVyPwvVTk0AAAAAAAMCSQAAAAAAAgJJAAAAAAAAwkkCF61G4HiKSQAAAAAAA2JFAAAAAAADQkUAAAAAAAJSRQHE9CtejMZFA7FG4HoUxkUCuR+F6FEuQQClcj8L1O5BAAAAAAAAskEAAAAAAAByQQFK4HoXrT49AzczMzMxIi0AAAAAAAACJQAAAAAAA+IZAFK5H4XochkAAAAAAAPCFQAAAAAAA4IVAAAAAAADAhEAAAAAAACCBQMP1KFyPcnxAAAAAAACgekApXI/C9VB2QAAAAAAA4HVAAAAAAAAAAAA=",
          "dtype": "f8"
         },
         "yaxis": "y"
        }
       ],
       "layout": {
        "coloraxis": {
         "colorbar": {
          "title": {
           "text": "Spectateurs Moyens"
          }
         },
         "colorscale": [
          [
           0,
           "#0d0887"
          ],
          [
           0.1111111111111111,
           "#46039f"
          ],
          [
           0.2222222222222222,
           "#7201a8"
          ],
          [
           0.3333333333333333,
           "#9c179e"
          ],
          [
           0.4444444444444444,
           "#bd3786"
          ],
          [
           0.5555555555555556,
           "#d8576b"
          ],
          [
           0.6666666666666666,
           "#ed7953"
          ],
          [
           0.7777777777777778,
           "#fb9f3a"
          ],
          [
           0.8888888888888888,
           "#fdca26"
          ],
          [
           1,
           "#f0f921"
          ]
         ]
        },
        "legend": {
         "itemsizing": "constant",
         "tracegroupgap": 0
        },
        "template": {
         "data": {
          "bar": [
           {
            "error_x": {
             "color": "#2a3f5f"
            },
            "error_y": {
             "color": "#2a3f5f"
            },
            "marker": {
             "line": {
              "color": "#E5ECF6",
              "width": 0.5
             },
             "pattern": {
              "fillmode": "overlay",
              "size": 10,
              "solidity": 0.2
             }
            },
            "type": "bar"
           }
          ],
          "barpolar": [
           {
            "marker": {
             "line": {
              "color": "#E5ECF6",
              "width": 0.5
             },
             "pattern": {
              "fillmode": "overlay",
              "size": 10,
              "solidity": 0.2
             }
            },
            "type": "barpolar"
           }
          ],
          "carpet": [
           {
            "aaxis": {
             "endlinecolor": "#2a3f5f",
             "gridcolor": "white",
             "linecolor": "white",
             "minorgridcolor": "white",
             "startlinecolor": "#2a3f5f"
            },
            "baxis": {
             "endlinecolor": "#2a3f5f",
             "gridcolor": "white",
             "linecolor": "white",
             "minorgridcolor": "white",
             "startlinecolor": "#2a3f5f"
            },
            "type": "carpet"
           }
          ],
          "choropleth": [
           {
            "colorbar": {
             "outlinewidth": 0,
             "ticks": ""
            },
            "type": "choropleth"
           }
          ],
          "contour": [
           {
            "colorbar": {
             "outlinewidth": 0,
             "ticks": ""
            },
            "colorscale": [
             [
              0,
              "#0d0887"
             ],
             [
              0.1111111111111111,
              "#46039f"
             ],
             [
              0.2222222222222222,
              "#7201a8"
             ],
             [
              0.3333333333333333,
              "#9c179e"
             ],
             [
              0.4444444444444444,
              "#bd3786"
             ],
             [
              0.5555555555555556,
              "#d8576b"
             ],
             [
              0.6666666666666666,
              "#ed7953"
             ],
             [
              0.7777777777777778,
              "#fb9f3a"
             ],
             [
              0.8888888888888888,
              "#fdca26"
             ],
             [
              1,
              "#f0f921"
             ]
            ],
            "type": "contour"
           }
          ],
          "contourcarpet": [
           {
            "colorbar": {
             "outlinewidth": 0,
             "ticks": ""
            },
            "type": "contourcarpet"
           }
          ],
          "heatmap": [
           {
            "colorbar": {
             "outlinewidth": 0,
             "ticks": ""
            },
            "colorscale": [
             [
              0,
              "#0d0887"
             ],
             [
              0.1111111111111111,
              "#46039f"
             ],
             [
              0.2222222222222222,
              "#7201a8"
             ],
             [
              0.3333333333333333,
              "#9c179e"
             ],
             [
              0.4444444444444444,
              "#bd3786"
             ],
             [
              0.5555555555555556,
              "#d8576b"
             ],
             [
              0.6666666666666666,
              "#ed7953"
             ],
             [
              0.7777777777777778,
              "#fb9f3a"
             ],
             [
              0.8888888888888888,
              "#fdca26"
             ],
             [
              1,
              "#f0f921"
             ]
            ],
            "type": "heatmap"
           }
          ],
          "histogram": [
           {
            "marker": {
             "pattern": {
              "fillmode": "overlay",
              "size": 10,
              "solidity": 0.2
             }
            },
            "type": "histogram"
           }
          ],
          "histogram2d": [
           {
            "colorbar": {
             "outlinewidth": 0,
             "ticks": ""
            },
            "colorscale": [
             [
              0,
              "#0d0887"
             ],
             [
              0.1111111111111111,
              "#46039f"
             ],
             [
              0.2222222222222222,
              "#7201a8"
             ],
             [
              0.3333333333333333,
              "#9c179e"
             ],
             [
              0.4444444444444444,
              "#bd3786"
             ],
             [
              0.5555555555555556,
              "#d8576b"
             ],
             [
              0.6666666666666666,
              "#ed7953"
             ],
             [
              0.7777777777777778,
              "#fb9f3a"
             ],
             [
              0.8888888888888888,
              "#fdca26"
             ],
             [
              1,
              "#f0f921"
             ]
            ],
            "type": "histogram2d"
           }
          ],
          "histogram2dcontour": [
           {
            "colorbar": {
             "outlinewidth": 0,
             "ticks": ""
            },
            "colorscale": [
             [
              0,
              "#0d0887"
             ],
             [
              0.1111111111111111,
              "#46039f"
             ],
             [
              0.2222222222222222,
              "#7201a8"
             ],
             [
              0.3333333333333333,
              "#9c179e"
             ],
             [
              0.4444444444444444,
              "#bd3786"
             ],
             [
              0.5555555555555556,
              "#d8576b"
             ],
             [
              0.6666666666666666,
              "#ed7953"
             ],
             [
              0.7777777777777778,
              "#fb9f3a"
             ],
             [
              0.8888888888888888,
              "#fdca26"
             ],
             [
              1,
              "#f0f921"
             ]
            ],
            "type": "histogram2dcontour"
           }
          ],
          "mesh3d": [
           {
            "colorbar": {
             "outlinewidth": 0,
             "ticks": ""
            },
            "type": "mesh3d"
           }
          ],
          "parcoords": [
           {
            "line": {
             "colorbar": {
              "outlinewidth": 0,
              "ticks": ""
             }
            },
            "type": "parcoords"
           }
          ],
          "pie": [
           {
            "automargin": true,
            "type": "pie"
           }
          ],
          "scatter": [
           {
            "fillpattern": {
             "fillmode": "overlay",
             "size": 10,
             "solidity": 0.2
            },
            "type": "scatter"
           }
          ],
          "scatter3d": [
           {
            "line": {
             "colorbar": {
              "outlinewidth": 0,
              "ticks": ""
             }
            },
            "marker": {
             "colorbar": {
              "outlinewidth": 0,
              "ticks": ""
             }
            },
            "type": "scatter3d"
           }
          ],
          "scattercarpet": [
           {
            "marker": {
             "colorbar": {
              "outlinewidth": 0,
              "ticks": ""
             }
            },
            "type": "scattercarpet"
           }
          ],
          "scattergeo": [
           {
            "marker": {
             "colorbar": {
              "outlinewidth": 0,
              "ticks": ""
             }
            },
            "type": "scattergeo"
           }
          ],
          "scattergl": [
           {
            "marker": {
             "colorbar": {
              "outlinewidth": 0,
              "ticks": ""
             }
            },
            "type": "scattergl"
           }
          ],
          "scattermap": [
           {
            "marker": {
             "colorbar": {
              "outlinewidth": 0,
              "ticks": ""
             }
            },
            "type": "scattermap"
           }
          ],
          "scattermapbox": [
           {
            "marker": {
             "colorbar": {
              "outlinewidth": 0,
              "ticks": ""
             }
            },
            "type": "scattermapbox"
           }
          ],
          "scatterpolar": [
           {
            "marker": {
             "colorbar": {
              "outlinewidth": 0,
              "ticks": ""
             }
            },
            "type": "scatterpolar"
           }
          ],
          "scatterpolargl": [
           {
            "marker": {
             "colorbar": {
              "outlinewidth": 0,
              "ticks": ""
             }
            },
            "type": "scatterpolargl"
           }
          ],
          "scatterternary": [
           {
            "marker": {
             "colorbar": {
              "outlinewidth": 0,
              "ticks": ""
             }
            },
            "type": "scatterternary"
           }
          ],
          "surface": [
           {
            "colorbar": {
             "outlinewidth": 0,
             "ticks": ""
            },
            "colorscale": [
             [
              0,
              "#0d0887"
             ],
             [
              0.1111111111111111,
              "#46039f"
             ],
             [
              0.2222222222222222,
              "#7201a8"
             ],
             [
              0.3333333333333333,
              "#9c179e"
             ],
             [
              0.4444444444444444,
              "#bd3786"
             ],
             [
              0.5555555555555556,
              "#d8576b"
             ],
             [
              0.6666666666666666,
              "#ed7953"
             ],
             [
              0.7777777777777778,
              "#fb9f3a"
             ],
             [
              0.8888888888888888,
              "#fdca26"
             ],
             [
              1,
              "#f0f921"
             ]
            ],
            "type": "surface"
           }
          ],
          "table": [
           {
            "cells": {
             "fill": {
              "color": "#EBF0F8"
             },
             "line": {
              "color": "white"
             }
            },
            "header": {
             "fill": {
              "color": "#C8D4E3"
             },
             "line": {
              "color": "white"
             }
            },
            "type": "table"
           }
          ]
         },
         "layout": {
          "annotationdefaults": {
           "arrowcolor": "#2a3f5f",
           "arrowhead": 0,
           "arrowwidth": 1
          },
          "autotypenumbers": "strict",
          "coloraxis": {
           "colorbar": {
            "outlinewidth": 0,
            "ticks": ""
           }
          },
          "colorscale": {
           "diverging": [
            [
             0,
             "#8e0152"
            ],
            [
             0.1,
             "#c51b7d"
            ],
            [
             0.2,
             "#de77ae"
            ],
            [
             0.3,
             "#f1b6da"
            ],
            [
             0.4,
             "#fde0ef"
            ],
            [
             0.5,
             "#f7f7f7"
            ],
            [
             0.6,
             "#e6f5d0"
            ],
            [
             0.7,
             "#b8e186"
            ],
            [
             0.8,
             "#7fbc41"
            ],
            [
             0.9,
             "#4d9221"
            ],
            [
             1,
             "#276419"
            ]
           ],
           "sequential": [
            [
             0,
             "#0d0887"
            ],
            [
             0.1111111111111111,
             "#46039f"
            ],
            [
             0.2222222222222222,
             "#7201a8"
            ],
            [
             0.3333333333333333,
             "#9c179e"
            ],
            [
             0.4444444444444444,
             "#bd3786"
            ],
            [
             0.5555555555555556,
             "#d8576b"
            ],
            [
             0.6666666666666666,
             "#ed7953"
            ],
            [
             0.7777777777777778,
             "#fb9f3a"
            ],
            [
             0.8888888888888888,
             "#fdca26"
            ],
            [
             1,
             "#f0f921"
            ]
           ],
           "sequentialminus": [
            [
             0,
             "#0d0887"
            ],
            [
             0.1111111111111111,
             "#46039f"
            ],
            [
             0.2222222222222222,
             "#7201a8"
            ],
            [
             0.3333333333333333,
             "#9c179e"
            ],
            [
             0.4444444444444444,
             "#bd3786"
            ],
            [
             0.5555555555555556,
             "#d8576b"
            ],
            [
             0.6666666666666666,
             "#ed7953"
            ],
            [
             0.7777777777777778,
             "#fb9f3a"
            ],
            [
             0.8888888888888888,
             "#fdca26"
            ],
            [
             1,
             "#f0f921"
            ]
           ]
          },
          "colorway": [
           "#636efa",
           "#EF553B",
           "#00cc96",
           "#ab63fa",
           "#FFA15A",
           "#19d3f3",
           "#FF6692",
           "#B6E880",
           "#FF97FF",
           "#FECB52"
          ],
          "font": {
           "color": "#2a3f5f"
          },
          "geo": {
           "bgcolor": "white",
           "lakecolor": "white",
           "landcolor": "#E5ECF6",
           "showlakes": true,
           "showland": true,
           "subunitcolor": "white"
          },
          "hoverlabel": {
           "align": "left"
          },
          "hovermode": "closest",
          "mapbox": {
           "style": "light"
          },
          "paper_bgcolor": "white",
          "plot_bgcolor": "#E5ECF6",
          "polar": {
           "angularaxis": {
            "gridcolor": "white",
            "linecolor": "white",
            "ticks": ""
           },
           "bgcolor": "#E5ECF6",
           "radialaxis": {
            "gridcolor": "white",
            "linecolor": "white",
            "ticks": ""
           }
          },
          "scene": {
           "xaxis": {
            "backgroundcolor": "#E5ECF6",
            "gridcolor": "white",
            "gridwidth": 2,
            "linecolor": "white",
            "showbackground": true,
            "ticks": "",
            "zerolinecolor": "white"
           },
           "yaxis": {
            "backgroundcolor": "#E5ECF6",
            "gridcolor": "white",
            "gridwidth": 2,
            "linecolor": "white",
            "showbackground": true,
            "ticks": "",
            "zerolinecolor": "white"
           },
           "zaxis": {
            "backgroundcolor": "#E5ECF6",
            "gridcolor": "white",
            "gridwidth": 2,
            "linecolor": "white",
            "showbackground": true,
            "ticks": "",
            "zerolinecolor": "white"
           }
          },
          "shapedefaults": {
           "line": {
            "color": "#2a3f5f"
           }
          },
          "ternary": {
           "aaxis": {
            "gridcolor": "white",
            "linecolor": "white",
            "ticks": ""
           },
           "baxis": {
            "gridcolor": "white",
            "linecolor": "white",
            "ticks": ""
           },
           "bgcolor": "#E5ECF6",
           "caxis": {
            "gridcolor": "white",
            "linecolor": "white",
            "ticks": ""
           }
          },
          "title": {
           "x": 0.05
          },
          "xaxis": {
           "automargin": true,
           "gridcolor": "white",
           "linecolor": "white",
           "ticks": "",
           "title": {
            "standoff": 15
           },
           "zerolinecolor": "white",
           "zerolinewidth": 2
          },
          "yaxis": {
           "automargin": true,
           "gridcolor": "white",
           "linecolor": "white",
           "ticks": "",
           "title": {
            "standoff": 15
           },
           "zerolinecolor": "white",
           "zerolinewidth": 2
          }
         }
        },
        "title": {
         "text": "Corrélation entre Spectateurs Moyens et Dons Totals"
        },
        "xaxis": {
         "anchor": "y",
         "domain": [
          0,
          1
         ],
         "title": {
          "text": "Spectateurs Moyens"
         }
        },
        "yaxis": {
         "anchor": "x",
         "domain": [
          0,
          1
         ],
         "title": {
          "text": "Total des Dons (€)"
         }
        }
       }
      }
     },
     "metadata": {},
     "output_type": "display_data"
    }
   ],
   "source": [
    "# Top 10 des streamers par dons\n",
    "top_10_donations = streamers.sort_values(by='total_donations', ascending=False).head(10)\n",
    "\n",
    "fig = px.bar(top_10_donations, x='name', y='total_donations',\n",
    "             title='Top 10 des Streamers par Total de Dons',\n",
    "             labels={'name': 'Streamer', 'total_donations': 'Total des Dons (€)'},\n",
    "             color='total_donations',\n",
    "             color_continuous_scale=px.colors.sequential.Viridis)\n",
    "fig.show()\n",
    "\n",
    "# Top 10 des streamers par spectateurs moyens\n",
    "top_10_avg_viewers = streamers.sort_values(by='avg_viewers_zevent', ascending=False).head(10)\n",
    "\n",
    "fig = px.bar(top_10_avg_viewers, x='name', y='avg_viewers_zevent',\n",
    "             title='Top 10 des Streamers par Spectateurs Moyens',\n",
    "             labels={'name': 'Streamer', 'avg_viewers_zevent': 'Spectateurs Moyens'},\n",
    "             color='avg_viewers_zevent',\n",
    "             color_continuous_scale=px.colors.sequential.Plasma)\n",
    "fig.show()\n",
    "\n",
    "# Corrélation entre les spectateurs et les dons\n",
    "fig = px.scatter(streamers, x='avg_viewers_zevent', y='total_donations',\n",
    "                 title='Corrélation entre Spectateurs Moyens et Dons Totals',\n",
    "                 labels={'avg_viewers_zevent': 'Spectateurs Moyens', 'total_donations': 'Total des Dons (€)'},\n",
    "                 hover_name='name',\n",
    "                 size='total_donations',\n",
    "                 color='avg_viewers_zevent',\n",
    "                 size_max=60)\n",
    "fig.show()"
   ]
  },
  {
   "cell_type": "markdown",
   "id": "08dcfeb5",
   "metadata": {},
   "source": [
    "### Analyse de l'Efficacité des Streamers"
   ]
  },
  {
   "cell_type": "code",
   "execution_count": 6,
   "id": "21ee80ed",
   "metadata": {},
   "outputs": [
    {
     "data": {
      "application/vnd.plotly.v1+json": {
       "config": {
        "plotlyServerURL": "https://plot.ly"
       },
       "data": [
        {
         "hovertemplate": "Streamer=%{x}<br>Dons par Heure (€/h)=%{marker.color}<extra></extra>",
         "legendgroup": "",
         "marker": {
          "color": {
           "bdata": "mCVASqKmQkFXMEvKOEM9QQWX2EouVztBwcOyGfOtMEFJkiRJVJwsQc5ISiU6uSVBdfoyXv0+JUFC34bTgS4kQQh85OuxTiJBc+GuvtmsHkE=",
           "dtype": "f8"
          },
          "coloraxis": "coloraxis",
          "pattern": {
           "shape": ""
          }
         },
         "name": "",
         "orientation": "v",
         "showlegend": false,
         "textposition": "auto",
         "type": "bar",
         "x": [
          "Domingo",
          "AntoineDaniel",
          "ZeratoR",
          "Mastu",
          "AngleDroit",
          "Joueur_du_Grenier",
          "SylvainLyve",
          "Clemovitch",
          "samueletienne",
          "Joyca"
         ],
         "xaxis": "x",
         "y": {
          "bdata": "mCVASqKmQkFXMEvKOEM9QQWX2EouVztBwcOyGfOtMEFJkiRJVJwsQc5ISiU6uSVBdfoyXv0+JUFC34bTgS4kQQh85OuxTiJBc+GuvtmsHkE=",
          "dtype": "f8"
         },
         "yaxis": "y"
        }
       ],
       "layout": {
        "barmode": "relative",
        "coloraxis": {
         "colorbar": {
          "title": {
           "text": "Dons par Heure (€/h)"
          }
         },
         "colorscale": [
          [
           0,
           "#fee838"
          ],
          [
           0.1111111111111111,
           "#e1cc55"
          ],
          [
           0.2222222222222222,
           "#c3b369"
          ],
          [
           0.3333333333333333,
           "#a59c74"
          ],
          [
           0.4444444444444444,
           "#8a8678"
          ],
          [
           0.5555555555555556,
           "#707173"
          ],
          [
           0.6666666666666666,
           "#575d6d"
          ],
          [
           0.7777777777777778,
           "#3b496c"
          ],
          [
           0.8888888888888888,
           "#123570"
          ],
          [
           1,
           "#00224e"
          ]
         ]
        },
        "legend": {
         "tracegroupgap": 0
        },
        "template": {
         "data": {
          "bar": [
           {
            "error_x": {
             "color": "#2a3f5f"
            },
            "error_y": {
             "color": "#2a3f5f"
            },
            "marker": {
             "line": {
              "color": "#E5ECF6",
              "width": 0.5
             },
             "pattern": {
              "fillmode": "overlay",
              "size": 10,
              "solidity": 0.2
             }
            },
            "type": "bar"
           }
          ],
          "barpolar": [
           {
            "marker": {
             "line": {
              "color": "#E5ECF6",
              "width": 0.5
             },
             "pattern": {
              "fillmode": "overlay",
              "size": 10,
              "solidity": 0.2
             }
            },
            "type": "barpolar"
           }
          ],
          "carpet": [
           {
            "aaxis": {
             "endlinecolor": "#2a3f5f",
             "gridcolor": "white",
             "linecolor": "white",
             "minorgridcolor": "white",
             "startlinecolor": "#2a3f5f"
            },
            "baxis": {
             "endlinecolor": "#2a3f5f",
             "gridcolor": "white",
             "linecolor": "white",
             "minorgridcolor": "white",
             "startlinecolor": "#2a3f5f"
            },
            "type": "carpet"
           }
          ],
          "choropleth": [
           {
            "colorbar": {
             "outlinewidth": 0,
             "ticks": ""
            },
            "type": "choropleth"
           }
          ],
          "contour": [
           {
            "colorbar": {
             "outlinewidth": 0,
             "ticks": ""
            },
            "colorscale": [
             [
              0,
              "#0d0887"
             ],
             [
              0.1111111111111111,
              "#46039f"
             ],
             [
              0.2222222222222222,
              "#7201a8"
             ],
             [
              0.3333333333333333,
              "#9c179e"
             ],
             [
              0.4444444444444444,
              "#bd3786"
             ],
             [
              0.5555555555555556,
              "#d8576b"
             ],
             [
              0.6666666666666666,
              "#ed7953"
             ],
             [
              0.7777777777777778,
              "#fb9f3a"
             ],
             [
              0.8888888888888888,
              "#fdca26"
             ],
             [
              1,
              "#f0f921"
             ]
            ],
            "type": "contour"
           }
          ],
          "contourcarpet": [
           {
            "colorbar": {
             "outlinewidth": 0,
             "ticks": ""
            },
            "type": "contourcarpet"
           }
          ],
          "heatmap": [
           {
            "colorbar": {
             "outlinewidth": 0,
             "ticks": ""
            },
            "colorscale": [
             [
              0,
              "#0d0887"
             ],
             [
              0.1111111111111111,
              "#46039f"
             ],
             [
              0.2222222222222222,
              "#7201a8"
             ],
             [
              0.3333333333333333,
              "#9c179e"
             ],
             [
              0.4444444444444444,
              "#bd3786"
             ],
             [
              0.5555555555555556,
              "#d8576b"
             ],
             [
              0.6666666666666666,
              "#ed7953"
             ],
             [
              0.7777777777777778,
              "#fb9f3a"
             ],
             [
              0.8888888888888888,
              "#fdca26"
             ],
             [
              1,
              "#f0f921"
             ]
            ],
            "type": "heatmap"
           }
          ],
          "histogram": [
           {
            "marker": {
             "pattern": {
              "fillmode": "overlay",
              "size": 10,
              "solidity": 0.2
             }
            },
            "type": "histogram"
           }
          ],
          "histogram2d": [
           {
            "colorbar": {
             "outlinewidth": 0,
             "ticks": ""
            },
            "colorscale": [
             [
              0,
              "#0d0887"
             ],
             [
              0.1111111111111111,
              "#46039f"
             ],
             [
              0.2222222222222222,
              "#7201a8"
             ],
             [
              0.3333333333333333,
              "#9c179e"
             ],
             [
              0.4444444444444444,
              "#bd3786"
             ],
             [
              0.5555555555555556,
              "#d8576b"
             ],
             [
              0.6666666666666666,
              "#ed7953"
             ],
             [
              0.7777777777777778,
              "#fb9f3a"
             ],
             [
              0.8888888888888888,
              "#fdca26"
             ],
             [
              1,
              "#f0f921"
             ]
            ],
            "type": "histogram2d"
           }
          ],
          "histogram2dcontour": [
           {
            "colorbar": {
             "outlinewidth": 0,
             "ticks": ""
            },
            "colorscale": [
             [
              0,
              "#0d0887"
             ],
             [
              0.1111111111111111,
              "#46039f"
             ],
             [
              0.2222222222222222,
              "#7201a8"
             ],
             [
              0.3333333333333333,
              "#9c179e"
             ],
             [
              0.4444444444444444,
              "#bd3786"
             ],
             [
              0.5555555555555556,
              "#d8576b"
             ],
             [
              0.6666666666666666,
              "#ed7953"
             ],
             [
              0.7777777777777778,
              "#fb9f3a"
             ],
             [
              0.8888888888888888,
              "#fdca26"
             ],
             [
              1,
              "#f0f921"
             ]
            ],
            "type": "histogram2dcontour"
           }
          ],
          "mesh3d": [
           {
            "colorbar": {
             "outlinewidth": 0,
             "ticks": ""
            },
            "type": "mesh3d"
           }
          ],
          "parcoords": [
           {
            "line": {
             "colorbar": {
              "outlinewidth": 0,
              "ticks": ""
             }
            },
            "type": "parcoords"
           }
          ],
          "pie": [
           {
            "automargin": true,
            "type": "pie"
           }
          ],
          "scatter": [
           {
            "fillpattern": {
             "fillmode": "overlay",
             "size": 10,
             "solidity": 0.2
            },
            "type": "scatter"
           }
          ],
          "scatter3d": [
           {
            "line": {
             "colorbar": {
              "outlinewidth": 0,
              "ticks": ""
             }
            },
            "marker": {
             "colorbar": {
              "outlinewidth": 0,
              "ticks": ""
             }
            },
            "type": "scatter3d"
           }
          ],
          "scattercarpet": [
           {
            "marker": {
             "colorbar": {
              "outlinewidth": 0,
              "ticks": ""
             }
            },
            "type": "scattercarpet"
           }
          ],
          "scattergeo": [
           {
            "marker": {
             "colorbar": {
              "outlinewidth": 0,
              "ticks": ""
             }
            },
            "type": "scattergeo"
           }
          ],
          "scattergl": [
           {
            "marker": {
             "colorbar": {
              "outlinewidth": 0,
              "ticks": ""
             }
            },
            "type": "scattergl"
           }
          ],
          "scattermap": [
           {
            "marker": {
             "colorbar": {
              "outlinewidth": 0,
              "ticks": ""
             }
            },
            "type": "scattermap"
           }
          ],
          "scattermapbox": [
           {
            "marker": {
             "colorbar": {
              "outlinewidth": 0,
              "ticks": ""
             }
            },
            "type": "scattermapbox"
           }
          ],
          "scatterpolar": [
           {
            "marker": {
             "colorbar": {
              "outlinewidth": 0,
              "ticks": ""
             }
            },
            "type": "scatterpolar"
           }
          ],
          "scatterpolargl": [
           {
            "marker": {
             "colorbar": {
              "outlinewidth": 0,
              "ticks": ""
             }
            },
            "type": "scatterpolargl"
           }
          ],
          "scatterternary": [
           {
            "marker": {
             "colorbar": {
              "outlinewidth": 0,
              "ticks": ""
             }
            },
            "type": "scatterternary"
           }
          ],
          "surface": [
           {
            "colorbar": {
             "outlinewidth": 0,
             "ticks": ""
            },
            "colorscale": [
             [
              0,
              "#0d0887"
             ],
             [
              0.1111111111111111,
              "#46039f"
             ],
             [
              0.2222222222222222,
              "#7201a8"
             ],
             [
              0.3333333333333333,
              "#9c179e"
             ],
             [
              0.4444444444444444,
              "#bd3786"
             ],
             [
              0.5555555555555556,
              "#d8576b"
             ],
             [
              0.6666666666666666,
              "#ed7953"
             ],
             [
              0.7777777777777778,
              "#fb9f3a"
             ],
             [
              0.8888888888888888,
              "#fdca26"
             ],
             [
              1,
              "#f0f921"
             ]
            ],
            "type": "surface"
           }
          ],
          "table": [
           {
            "cells": {
             "fill": {
              "color": "#EBF0F8"
             },
             "line": {
              "color": "white"
             }
            },
            "header": {
             "fill": {
              "color": "#C8D4E3"
             },
             "line": {
              "color": "white"
             }
            },
            "type": "table"
           }
          ]
         },
         "layout": {
          "annotationdefaults": {
           "arrowcolor": "#2a3f5f",
           "arrowhead": 0,
           "arrowwidth": 1
          },
          "autotypenumbers": "strict",
          "coloraxis": {
           "colorbar": {
            "outlinewidth": 0,
            "ticks": ""
           }
          },
          "colorscale": {
           "diverging": [
            [
             0,
             "#8e0152"
            ],
            [
             0.1,
             "#c51b7d"
            ],
            [
             0.2,
             "#de77ae"
            ],
            [
             0.3,
             "#f1b6da"
            ],
            [
             0.4,
             "#fde0ef"
            ],
            [
             0.5,
             "#f7f7f7"
            ],
            [
             0.6,
             "#e6f5d0"
            ],
            [
             0.7,
             "#b8e186"
            ],
            [
             0.8,
             "#7fbc41"
            ],
            [
             0.9,
             "#4d9221"
            ],
            [
             1,
             "#276419"
            ]
           ],
           "sequential": [
            [
             0,
             "#0d0887"
            ],
            [
             0.1111111111111111,
             "#46039f"
            ],
            [
             0.2222222222222222,
             "#7201a8"
            ],
            [
             0.3333333333333333,
             "#9c179e"
            ],
            [
             0.4444444444444444,
             "#bd3786"
            ],
            [
             0.5555555555555556,
             "#d8576b"
            ],
            [
             0.6666666666666666,
             "#ed7953"
            ],
            [
             0.7777777777777778,
             "#fb9f3a"
            ],
            [
             0.8888888888888888,
             "#fdca26"
            ],
            [
             1,
             "#f0f921"
            ]
           ],
           "sequentialminus": [
            [
             0,
             "#0d0887"
            ],
            [
             0.1111111111111111,
             "#46039f"
            ],
            [
             0.2222222222222222,
             "#7201a8"
            ],
            [
             0.3333333333333333,
             "#9c179e"
            ],
            [
             0.4444444444444444,
             "#bd3786"
            ],
            [
             0.5555555555555556,
             "#d8576b"
            ],
            [
             0.6666666666666666,
             "#ed7953"
            ],
            [
             0.7777777777777778,
             "#fb9f3a"
            ],
            [
             0.8888888888888888,
             "#fdca26"
            ],
            [
             1,
             "#f0f921"
            ]
           ]
          },
          "colorway": [
           "#636efa",
           "#EF553B",
           "#00cc96",
           "#ab63fa",
           "#FFA15A",
           "#19d3f3",
           "#FF6692",
           "#B6E880",
           "#FF97FF",
           "#FECB52"
          ],
          "font": {
           "color": "#2a3f5f"
          },
          "geo": {
           "bgcolor": "white",
           "lakecolor": "white",
           "landcolor": "#E5ECF6",
           "showlakes": true,
           "showland": true,
           "subunitcolor": "white"
          },
          "hoverlabel": {
           "align": "left"
          },
          "hovermode": "closest",
          "mapbox": {
           "style": "light"
          },
          "paper_bgcolor": "white",
          "plot_bgcolor": "#E5ECF6",
          "polar": {
           "angularaxis": {
            "gridcolor": "white",
            "linecolor": "white",
            "ticks": ""
           },
           "bgcolor": "#E5ECF6",
           "radialaxis": {
            "gridcolor": "white",
            "linecolor": "white",
            "ticks": ""
           }
          },
          "scene": {
           "xaxis": {
            "backgroundcolor": "#E5ECF6",
            "gridcolor": "white",
            "gridwidth": 2,
            "linecolor": "white",
            "showbackground": true,
            "ticks": "",
            "zerolinecolor": "white"
           },
           "yaxis": {
            "backgroundcolor": "#E5ECF6",
            "gridcolor": "white",
            "gridwidth": 2,
            "linecolor": "white",
            "showbackground": true,
            "ticks": "",
            "zerolinecolor": "white"
           },
           "zaxis": {
            "backgroundcolor": "#E5ECF6",
            "gridcolor": "white",
            "gridwidth": 2,
            "linecolor": "white",
            "showbackground": true,
            "ticks": "",
            "zerolinecolor": "white"
           }
          },
          "shapedefaults": {
           "line": {
            "color": "#2a3f5f"
           }
          },
          "ternary": {
           "aaxis": {
            "gridcolor": "white",
            "linecolor": "white",
            "ticks": ""
           },
           "baxis": {
            "gridcolor": "white",
            "linecolor": "white",
            "ticks": ""
           },
           "bgcolor": "#E5ECF6",
           "caxis": {
            "gridcolor": "white",
            "linecolor": "white",
            "ticks": ""
           }
          },
          "title": {
           "x": 0.05
          },
          "xaxis": {
           "automargin": true,
           "gridcolor": "white",
           "linecolor": "white",
           "ticks": "",
           "title": {
            "standoff": 15
           },
           "zerolinecolor": "white",
           "zerolinewidth": 2
          },
          "yaxis": {
           "automargin": true,
           "gridcolor": "white",
           "linecolor": "white",
           "ticks": "",
           "title": {
            "standoff": 15
           },
           "zerolinecolor": "white",
           "zerolinewidth": 2
          }
         }
        },
        "title": {
         "text": "Top 10 des Streamers par Dons par Heure"
        },
        "xaxis": {
         "anchor": "y",
         "domain": [
          0,
          1
         ],
         "title": {
          "text": "Streamer"
         }
        },
        "yaxis": {
         "anchor": "x",
         "domain": [
          0,
          1
         ],
         "title": {
          "text": "Dons par Heure (€/h)"
         }
        }
       }
      }
     },
     "metadata": {},
     "output_type": "display_data"
    },
    {
     "data": {
      "application/vnd.plotly.v1+json": {
       "config": {
        "plotlyServerURL": "https://plot.ly"
       },
       "data": [
        {
         "hovertemplate": "Streamer=%{x}<br>Dons par Follower (€)=%{marker.color}<extra></extra>",
         "legendgroup": "",
         "marker": {
          "color": {
           "bdata": "7h+t8lBmF0DBOPi4RLQVQLOXJGPCdgpADV3z3pVgA0ANB//TeBsDQFkeHvQOYgJASnRrtJ0EAkC38BZBkJkBQLwFO8nmxwBA0cC3DjFHAEA=",
           "dtype": "f8"
          },
          "coloraxis": "coloraxis",
          "pattern": {
           "shape": ""
          }
         },
         "name": "",
         "orientation": "v",
         "showlegend": false,
         "textposition": "auto",
         "type": "bar",
         "x": [
          "Redairazor",
          "TogaLock_fr",
          "KapslockArt",
          "MarcelPignol",
          "papy_grant",
          "Sol_Hms",
          "nanie_nao",
          "Clemovitch",
          "clem_mlrt",
          "AngleDroit"
         ],
         "xaxis": "x",
         "y": {
          "bdata": "7h+t8lBmF0DBOPi4RLQVQLOXJGPCdgpADV3z3pVgA0ANB//TeBsDQFkeHvQOYgJASnRrtJ0EAkC38BZBkJkBQLwFO8nmxwBA0cC3DjFHAEA=",
          "dtype": "f8"
         },
         "yaxis": "y"
        }
       ],
       "layout": {
        "barmode": "relative",
        "coloraxis": {
         "colorbar": {
          "title": {
           "text": "Dons par Follower (€)"
          }
         },
         "colorscale": [
          [
           0,
           "#000004"
          ],
          [
           0.1111111111111111,
           "#1b0c41"
          ],
          [
           0.2222222222222222,
           "#4a0c6b"
          ],
          [
           0.3333333333333333,
           "#781c6d"
          ],
          [
           0.4444444444444444,
           "#a52c60"
          ],
          [
           0.5555555555555556,
           "#cf4446"
          ],
          [
           0.6666666666666666,
           "#ed6925"
          ],
          [
           0.7777777777777778,
           "#fb9b06"
          ],
          [
           0.8888888888888888,
           "#f7d13d"
          ],
          [
           1,
           "#fcffa4"
          ]
         ]
        },
        "legend": {
         "tracegroupgap": 0
        },
        "template": {
         "data": {
          "bar": [
           {
            "error_x": {
             "color": "#2a3f5f"
            },
            "error_y": {
             "color": "#2a3f5f"
            },
            "marker": {
             "line": {
              "color": "#E5ECF6",
              "width": 0.5
             },
             "pattern": {
              "fillmode": "overlay",
              "size": 10,
              "solidity": 0.2
             }
            },
            "type": "bar"
           }
          ],
          "barpolar": [
           {
            "marker": {
             "line": {
              "color": "#E5ECF6",
              "width": 0.5
             },
             "pattern": {
              "fillmode": "overlay",
              "size": 10,
              "solidity": 0.2
             }
            },
            "type": "barpolar"
           }
          ],
          "carpet": [
           {
            "aaxis": {
             "endlinecolor": "#2a3f5f",
             "gridcolor": "white",
             "linecolor": "white",
             "minorgridcolor": "white",
             "startlinecolor": "#2a3f5f"
            },
            "baxis": {
             "endlinecolor": "#2a3f5f",
             "gridcolor": "white",
             "linecolor": "white",
             "minorgridcolor": "white",
             "startlinecolor": "#2a3f5f"
            },
            "type": "carpet"
           }
          ],
          "choropleth": [
           {
            "colorbar": {
             "outlinewidth": 0,
             "ticks": ""
            },
            "type": "choropleth"
           }
          ],
          "contour": [
           {
            "colorbar": {
             "outlinewidth": 0,
             "ticks": ""
            },
            "colorscale": [
             [
              0,
              "#0d0887"
             ],
             [
              0.1111111111111111,
              "#46039f"
             ],
             [
              0.2222222222222222,
              "#7201a8"
             ],
             [
              0.3333333333333333,
              "#9c179e"
             ],
             [
              0.4444444444444444,
              "#bd3786"
             ],
             [
              0.5555555555555556,
              "#d8576b"
             ],
             [
              0.6666666666666666,
              "#ed7953"
             ],
             [
              0.7777777777777778,
              "#fb9f3a"
             ],
             [
              0.8888888888888888,
              "#fdca26"
             ],
             [
              1,
              "#f0f921"
             ]
            ],
            "type": "contour"
           }
          ],
          "contourcarpet": [
           {
            "colorbar": {
             "outlinewidth": 0,
             "ticks": ""
            },
            "type": "contourcarpet"
           }
          ],
          "heatmap": [
           {
            "colorbar": {
             "outlinewidth": 0,
             "ticks": ""
            },
            "colorscale": [
             [
              0,
              "#0d0887"
             ],
             [
              0.1111111111111111,
              "#46039f"
             ],
             [
              0.2222222222222222,
              "#7201a8"
             ],
             [
              0.3333333333333333,
              "#9c179e"
             ],
             [
              0.4444444444444444,
              "#bd3786"
             ],
             [
              0.5555555555555556,
              "#d8576b"
             ],
             [
              0.6666666666666666,
              "#ed7953"
             ],
             [
              0.7777777777777778,
              "#fb9f3a"
             ],
             [
              0.8888888888888888,
              "#fdca26"
             ],
             [
              1,
              "#f0f921"
             ]
            ],
            "type": "heatmap"
           }
          ],
          "histogram": [
           {
            "marker": {
             "pattern": {
              "fillmode": "overlay",
              "size": 10,
              "solidity": 0.2
             }
            },
            "type": "histogram"
           }
          ],
          "histogram2d": [
           {
            "colorbar": {
             "outlinewidth": 0,
             "ticks": ""
            },
            "colorscale": [
             [
              0,
              "#0d0887"
             ],
             [
              0.1111111111111111,
              "#46039f"
             ],
             [
              0.2222222222222222,
              "#7201a8"
             ],
             [
              0.3333333333333333,
              "#9c179e"
             ],
             [
              0.4444444444444444,
              "#bd3786"
             ],
             [
              0.5555555555555556,
              "#d8576b"
             ],
             [
              0.6666666666666666,
              "#ed7953"
             ],
             [
              0.7777777777777778,
              "#fb9f3a"
             ],
             [
              0.8888888888888888,
              "#fdca26"
             ],
             [
              1,
              "#f0f921"
             ]
            ],
            "type": "histogram2d"
           }
          ],
          "histogram2dcontour": [
           {
            "colorbar": {
             "outlinewidth": 0,
             "ticks": ""
            },
            "colorscale": [
             [
              0,
              "#0d0887"
             ],
             [
              0.1111111111111111,
              "#46039f"
             ],
             [
              0.2222222222222222,
              "#7201a8"
             ],
             [
              0.3333333333333333,
              "#9c179e"
             ],
             [
              0.4444444444444444,
              "#bd3786"
             ],
             [
              0.5555555555555556,
              "#d8576b"
             ],
             [
              0.6666666666666666,
              "#ed7953"
             ],
             [
              0.7777777777777778,
              "#fb9f3a"
             ],
             [
              0.8888888888888888,
              "#fdca26"
             ],
             [
              1,
              "#f0f921"
             ]
            ],
            "type": "histogram2dcontour"
           }
          ],
          "mesh3d": [
           {
            "colorbar": {
             "outlinewidth": 0,
             "ticks": ""
            },
            "type": "mesh3d"
           }
          ],
          "parcoords": [
           {
            "line": {
             "colorbar": {
              "outlinewidth": 0,
              "ticks": ""
             }
            },
            "type": "parcoords"
           }
          ],
          "pie": [
           {
            "automargin": true,
            "type": "pie"
           }
          ],
          "scatter": [
           {
            "fillpattern": {
             "fillmode": "overlay",
             "size": 10,
             "solidity": 0.2
            },
            "type": "scatter"
           }
          ],
          "scatter3d": [
           {
            "line": {
             "colorbar": {
              "outlinewidth": 0,
              "ticks": ""
             }
            },
            "marker": {
             "colorbar": {
              "outlinewidth": 0,
              "ticks": ""
             }
            },
            "type": "scatter3d"
           }
          ],
          "scattercarpet": [
           {
            "marker": {
             "colorbar": {
              "outlinewidth": 0,
              "ticks": ""
             }
            },
            "type": "scattercarpet"
           }
          ],
          "scattergeo": [
           {
            "marker": {
             "colorbar": {
              "outlinewidth": 0,
              "ticks": ""
             }
            },
            "type": "scattergeo"
           }
          ],
          "scattergl": [
           {
            "marker": {
             "colorbar": {
              "outlinewidth": 0,
              "ticks": ""
             }
            },
            "type": "scattergl"
           }
          ],
          "scattermap": [
           {
            "marker": {
             "colorbar": {
              "outlinewidth": 0,
              "ticks": ""
             }
            },
            "type": "scattermap"
           }
          ],
          "scattermapbox": [
           {
            "marker": {
             "colorbar": {
              "outlinewidth": 0,
              "ticks": ""
             }
            },
            "type": "scattermapbox"
           }
          ],
          "scatterpolar": [
           {
            "marker": {
             "colorbar": {
              "outlinewidth": 0,
              "ticks": ""
             }
            },
            "type": "scatterpolar"
           }
          ],
          "scatterpolargl": [
           {
            "marker": {
             "colorbar": {
              "outlinewidth": 0,
              "ticks": ""
             }
            },
            "type": "scatterpolargl"
           }
          ],
          "scatterternary": [
           {
            "marker": {
             "colorbar": {
              "outlinewidth": 0,
              "ticks": ""
             }
            },
            "type": "scatterternary"
           }
          ],
          "surface": [
           {
            "colorbar": {
             "outlinewidth": 0,
             "ticks": ""
            },
            "colorscale": [
             [
              0,
              "#0d0887"
             ],
             [
              0.1111111111111111,
              "#46039f"
             ],
             [
              0.2222222222222222,
              "#7201a8"
             ],
             [
              0.3333333333333333,
              "#9c179e"
             ],
             [
              0.4444444444444444,
              "#bd3786"
             ],
             [
              0.5555555555555556,
              "#d8576b"
             ],
             [
              0.6666666666666666,
              "#ed7953"
             ],
             [
              0.7777777777777778,
              "#fb9f3a"
             ],
             [
              0.8888888888888888,
              "#fdca26"
             ],
             [
              1,
              "#f0f921"
             ]
            ],
            "type": "surface"
           }
          ],
          "table": [
           {
            "cells": {
             "fill": {
              "color": "#EBF0F8"
             },
             "line": {
              "color": "white"
             }
            },
            "header": {
             "fill": {
              "color": "#C8D4E3"
             },
             "line": {
              "color": "white"
             }
            },
            "type": "table"
           }
          ]
         },
         "layout": {
          "annotationdefaults": {
           "arrowcolor": "#2a3f5f",
           "arrowhead": 0,
           "arrowwidth": 1
          },
          "autotypenumbers": "strict",
          "coloraxis": {
           "colorbar": {
            "outlinewidth": 0,
            "ticks": ""
           }
          },
          "colorscale": {
           "diverging": [
            [
             0,
             "#8e0152"
            ],
            [
             0.1,
             "#c51b7d"
            ],
            [
             0.2,
             "#de77ae"
            ],
            [
             0.3,
             "#f1b6da"
            ],
            [
             0.4,
             "#fde0ef"
            ],
            [
             0.5,
             "#f7f7f7"
            ],
            [
             0.6,
             "#e6f5d0"
            ],
            [
             0.7,
             "#b8e186"
            ],
            [
             0.8,
             "#7fbc41"
            ],
            [
             0.9,
             "#4d9221"
            ],
            [
             1,
             "#276419"
            ]
           ],
           "sequential": [
            [
             0,
             "#0d0887"
            ],
            [
             0.1111111111111111,
             "#46039f"
            ],
            [
             0.2222222222222222,
             "#7201a8"
            ],
            [
             0.3333333333333333,
             "#9c179e"
            ],
            [
             0.4444444444444444,
             "#bd3786"
            ],
            [
             0.5555555555555556,
             "#d8576b"
            ],
            [
             0.6666666666666666,
             "#ed7953"
            ],
            [
             0.7777777777777778,
             "#fb9f3a"
            ],
            [
             0.8888888888888888,
             "#fdca26"
            ],
            [
             1,
             "#f0f921"
            ]
           ],
           "sequentialminus": [
            [
             0,
             "#0d0887"
            ],
            [
             0.1111111111111111,
             "#46039f"
            ],
            [
             0.2222222222222222,
             "#7201a8"
            ],
            [
             0.3333333333333333,
             "#9c179e"
            ],
            [
             0.4444444444444444,
             "#bd3786"
            ],
            [
             0.5555555555555556,
             "#d8576b"
            ],
            [
             0.6666666666666666,
             "#ed7953"
            ],
            [
             0.7777777777777778,
             "#fb9f3a"
            ],
            [
             0.8888888888888888,
             "#fdca26"
            ],
            [
             1,
             "#f0f921"
            ]
           ]
          },
          "colorway": [
           "#636efa",
           "#EF553B",
           "#00cc96",
           "#ab63fa",
           "#FFA15A",
           "#19d3f3",
           "#FF6692",
           "#B6E880",
           "#FF97FF",
           "#FECB52"
          ],
          "font": {
           "color": "#2a3f5f"
          },
          "geo": {
           "bgcolor": "white",
           "lakecolor": "white",
           "landcolor": "#E5ECF6",
           "showlakes": true,
           "showland": true,
           "subunitcolor": "white"
          },
          "hoverlabel": {
           "align": "left"
          },
          "hovermode": "closest",
          "mapbox": {
           "style": "light"
          },
          "paper_bgcolor": "white",
          "plot_bgcolor": "#E5ECF6",
          "polar": {
           "angularaxis": {
            "gridcolor": "white",
            "linecolor": "white",
            "ticks": ""
           },
           "bgcolor": "#E5ECF6",
           "radialaxis": {
            "gridcolor": "white",
            "linecolor": "white",
            "ticks": ""
           }
          },
          "scene": {
           "xaxis": {
            "backgroundcolor": "#E5ECF6",
            "gridcolor": "white",
            "gridwidth": 2,
            "linecolor": "white",
            "showbackground": true,
            "ticks": "",
            "zerolinecolor": "white"
           },
           "yaxis": {
            "backgroundcolor": "#E5ECF6",
            "gridcolor": "white",
            "gridwidth": 2,
            "linecolor": "white",
            "showbackground": true,
            "ticks": "",
            "zerolinecolor": "white"
           },
           "zaxis": {
            "backgroundcolor": "#E5ECF6",
            "gridcolor": "white",
            "gridwidth": 2,
            "linecolor": "white",
            "showbackground": true,
            "ticks": "",
            "zerolinecolor": "white"
           }
          },
          "shapedefaults": {
           "line": {
            "color": "#2a3f5f"
           }
          },
          "ternary": {
           "aaxis": {
            "gridcolor": "white",
            "linecolor": "white",
            "ticks": ""
           },
           "baxis": {
            "gridcolor": "white",
            "linecolor": "white",
            "ticks": ""
           },
           "bgcolor": "#E5ECF6",
           "caxis": {
            "gridcolor": "white",
            "linecolor": "white",
            "ticks": ""
           }
          },
          "title": {
           "x": 0.05
          },
          "xaxis": {
           "automargin": true,
           "gridcolor": "white",
           "linecolor": "white",
           "ticks": "",
           "title": {
            "standoff": 15
           },
           "zerolinecolor": "white",
           "zerolinewidth": 2
          },
          "yaxis": {
           "automargin": true,
           "gridcolor": "white",
           "linecolor": "white",
           "ticks": "",
           "title": {
            "standoff": 15
           },
           "zerolinecolor": "white",
           "zerolinewidth": 2
          }
         }
        },
        "title": {
         "text": "Top 10 des Streamers par Dons par Follower"
        },
        "xaxis": {
         "anchor": "y",
         "domain": [
          0,
          1
         ],
         "title": {
          "text": "Streamer"
         }
        },
        "yaxis": {
         "anchor": "x",
         "domain": [
          0,
          1
         ],
         "title": {
          "text": "Dons par Follower (€)"
         }
        }
       }
      }
     },
     "metadata": {},
     "output_type": "display_data"
    }
   ],
   "source": [
    "# Top 10 des streamers par dons par heure\n",
    "top_10_donations_per_hour = streamers.sort_values(by='donations_per_hour', ascending=False).head(10)\n",
    "\n",
    "fig = px.bar(top_10_donations_per_hour, x='name', y='donations_per_hour',\n",
    "             title='Top 10 des Streamers par Dons par Heure',\n",
    "             labels={'name': 'Streamer', 'donations_per_hour': 'Dons par Heure (€/h)'},\n",
    "             color='donations_per_hour',\n",
    "             color_continuous_scale=px.colors.sequential.Cividis_r)\n",
    "fig.show()\n",
    "\n",
    "# Top 10 des streamers par dons par follower\n",
    "top_10_donations_per_follower = streamers.sort_values(by='donations_per_follower', ascending=False).head(10)\n",
    "\n",
    "fig = px.bar(top_10_donations_per_follower, x='name', y='donations_per_follower',\n",
    "             title='Top 10 des Streamers par Dons par Follower',\n",
    "             labels={'name': 'Streamer', 'donations_per_follower': 'Dons par Follower (€)'},\n",
    "             color='donations_per_follower',\n",
    "             color_continuous_scale=px.colors.sequential.Inferno)\n",
    "fig.show()"
   ]
  },
  {
   "cell_type": "markdown",
   "id": "0243da1e",
   "metadata": {},
   "source": [
    "### Analyse des Objectifs de Dons"
   ]
  },
  {
   "cell_type": "code",
   "execution_count": 7,
   "id": "959a720e",
   "metadata": {},
   "outputs": [
    {
     "data": {
      "application/vnd.plotly.v1+json": {
       "config": {
        "plotlyServerURL": "https://plot.ly"
       },
       "data": [
        {
         "domain": {
          "x": [
           0,
           1
          ],
          "y": [
           0,
           1
          ]
         },
         "hovertemplate": "accomplished=%{label}<br>Nombre d'Objectifs=%{value}<extra></extra>",
         "labels": [
          false,
          true
         ],
         "legendgroup": "",
         "name": "",
         "showlegend": true,
         "type": "pie",
         "values": {
          "bdata": "AxM/Ag==",
          "dtype": "i2"
         }
        }
       ],
       "layout": {
        "legend": {
         "tracegroupgap": 0
        },
        "template": {
         "data": {
          "bar": [
           {
            "error_x": {
             "color": "#2a3f5f"
            },
            "error_y": {
             "color": "#2a3f5f"
            },
            "marker": {
             "line": {
              "color": "#E5ECF6",
              "width": 0.5
             },
             "pattern": {
              "fillmode": "overlay",
              "size": 10,
              "solidity": 0.2
             }
            },
            "type": "bar"
           }
          ],
          "barpolar": [
           {
            "marker": {
             "line": {
              "color": "#E5ECF6",
              "width": 0.5
             },
             "pattern": {
              "fillmode": "overlay",
              "size": 10,
              "solidity": 0.2
             }
            },
            "type": "barpolar"
           }
          ],
          "carpet": [
           {
            "aaxis": {
             "endlinecolor": "#2a3f5f",
             "gridcolor": "white",
             "linecolor": "white",
             "minorgridcolor": "white",
             "startlinecolor": "#2a3f5f"
            },
            "baxis": {
             "endlinecolor": "#2a3f5f",
             "gridcolor": "white",
             "linecolor": "white",
             "minorgridcolor": "white",
             "startlinecolor": "#2a3f5f"
            },
            "type": "carpet"
           }
          ],
          "choropleth": [
           {
            "colorbar": {
             "outlinewidth": 0,
             "ticks": ""
            },
            "type": "choropleth"
           }
          ],
          "contour": [
           {
            "colorbar": {
             "outlinewidth": 0,
             "ticks": ""
            },
            "colorscale": [
             [
              0,
              "#0d0887"
             ],
             [
              0.1111111111111111,
              "#46039f"
             ],
             [
              0.2222222222222222,
              "#7201a8"
             ],
             [
              0.3333333333333333,
              "#9c179e"
             ],
             [
              0.4444444444444444,
              "#bd3786"
             ],
             [
              0.5555555555555556,
              "#d8576b"
             ],
             [
              0.6666666666666666,
              "#ed7953"
             ],
             [
              0.7777777777777778,
              "#fb9f3a"
             ],
             [
              0.8888888888888888,
              "#fdca26"
             ],
             [
              1,
              "#f0f921"
             ]
            ],
            "type": "contour"
           }
          ],
          "contourcarpet": [
           {
            "colorbar": {
             "outlinewidth": 0,
             "ticks": ""
            },
            "type": "contourcarpet"
           }
          ],
          "heatmap": [
           {
            "colorbar": {
             "outlinewidth": 0,
             "ticks": ""
            },
            "colorscale": [
             [
              0,
              "#0d0887"
             ],
             [
              0.1111111111111111,
              "#46039f"
             ],
             [
              0.2222222222222222,
              "#7201a8"
             ],
             [
              0.3333333333333333,
              "#9c179e"
             ],
             [
              0.4444444444444444,
              "#bd3786"
             ],
             [
              0.5555555555555556,
              "#d8576b"
             ],
             [
              0.6666666666666666,
              "#ed7953"
             ],
             [
              0.7777777777777778,
              "#fb9f3a"
             ],
             [
              0.8888888888888888,
              "#fdca26"
             ],
             [
              1,
              "#f0f921"
             ]
            ],
            "type": "heatmap"
           }
          ],
          "histogram": [
           {
            "marker": {
             "pattern": {
              "fillmode": "overlay",
              "size": 10,
              "solidity": 0.2
             }
            },
            "type": "histogram"
           }
          ],
          "histogram2d": [
           {
            "colorbar": {
             "outlinewidth": 0,
             "ticks": ""
            },
            "colorscale": [
             [
              0,
              "#0d0887"
             ],
             [
              0.1111111111111111,
              "#46039f"
             ],
             [
              0.2222222222222222,
              "#7201a8"
             ],
             [
              0.3333333333333333,
              "#9c179e"
             ],
             [
              0.4444444444444444,
              "#bd3786"
             ],
             [
              0.5555555555555556,
              "#d8576b"
             ],
             [
              0.6666666666666666,
              "#ed7953"
             ],
             [
              0.7777777777777778,
              "#fb9f3a"
             ],
             [
              0.8888888888888888,
              "#fdca26"
             ],
             [
              1,
              "#f0f921"
             ]
            ],
            "type": "histogram2d"
           }
          ],
          "histogram2dcontour": [
           {
            "colorbar": {
             "outlinewidth": 0,
             "ticks": ""
            },
            "colorscale": [
             [
              0,
              "#0d0887"
             ],
             [
              0.1111111111111111,
              "#46039f"
             ],
             [
              0.2222222222222222,
              "#7201a8"
             ],
             [
              0.3333333333333333,
              "#9c179e"
             ],
             [
              0.4444444444444444,
              "#bd3786"
             ],
             [
              0.5555555555555556,
              "#d8576b"
             ],
             [
              0.6666666666666666,
              "#ed7953"
             ],
             [
              0.7777777777777778,
              "#fb9f3a"
             ],
             [
              0.8888888888888888,
              "#fdca26"
             ],
             [
              1,
              "#f0f921"
             ]
            ],
            "type": "histogram2dcontour"
           }
          ],
          "mesh3d": [
           {
            "colorbar": {
             "outlinewidth": 0,
             "ticks": ""
            },
            "type": "mesh3d"
           }
          ],
          "parcoords": [
           {
            "line": {
             "colorbar": {
              "outlinewidth": 0,
              "ticks": ""
             }
            },
            "type": "parcoords"
           }
          ],
          "pie": [
           {
            "automargin": true,
            "type": "pie"
           }
          ],
          "scatter": [
           {
            "fillpattern": {
             "fillmode": "overlay",
             "size": 10,
             "solidity": 0.2
            },
            "type": "scatter"
           }
          ],
          "scatter3d": [
           {
            "line": {
             "colorbar": {
              "outlinewidth": 0,
              "ticks": ""
             }
            },
            "marker": {
             "colorbar": {
              "outlinewidth": 0,
              "ticks": ""
             }
            },
            "type": "scatter3d"
           }
          ],
          "scattercarpet": [
           {
            "marker": {
             "colorbar": {
              "outlinewidth": 0,
              "ticks": ""
             }
            },
            "type": "scattercarpet"
           }
          ],
          "scattergeo": [
           {
            "marker": {
             "colorbar": {
              "outlinewidth": 0,
              "ticks": ""
             }
            },
            "type": "scattergeo"
           }
          ],
          "scattergl": [
           {
            "marker": {
             "colorbar": {
              "outlinewidth": 0,
              "ticks": ""
             }
            },
            "type": "scattergl"
           }
          ],
          "scattermap": [
           {
            "marker": {
             "colorbar": {
              "outlinewidth": 0,
              "ticks": ""
             }
            },
            "type": "scattermap"
           }
          ],
          "scattermapbox": [
           {
            "marker": {
             "colorbar": {
              "outlinewidth": 0,
              "ticks": ""
             }
            },
            "type": "scattermapbox"
           }
          ],
          "scatterpolar": [
           {
            "marker": {
             "colorbar": {
              "outlinewidth": 0,
              "ticks": ""
             }
            },
            "type": "scatterpolar"
           }
          ],
          "scatterpolargl": [
           {
            "marker": {
             "colorbar": {
              "outlinewidth": 0,
              "ticks": ""
             }
            },
            "type": "scatterpolargl"
           }
          ],
          "scatterternary": [
           {
            "marker": {
             "colorbar": {
              "outlinewidth": 0,
              "ticks": ""
             }
            },
            "type": "scatterternary"
           }
          ],
          "surface": [
           {
            "colorbar": {
             "outlinewidth": 0,
             "ticks": ""
            },
            "colorscale": [
             [
              0,
              "#0d0887"
             ],
             [
              0.1111111111111111,
              "#46039f"
             ],
             [
              0.2222222222222222,
              "#7201a8"
             ],
             [
              0.3333333333333333,
              "#9c179e"
             ],
             [
              0.4444444444444444,
              "#bd3786"
             ],
             [
              0.5555555555555556,
              "#d8576b"
             ],
             [
              0.6666666666666666,
              "#ed7953"
             ],
             [
              0.7777777777777778,
              "#fb9f3a"
             ],
             [
              0.8888888888888888,
              "#fdca26"
             ],
             [
              1,
              "#f0f921"
             ]
            ],
            "type": "surface"
           }
          ],
          "table": [
           {
            "cells": {
             "fill": {
              "color": "#EBF0F8"
             },
             "line": {
              "color": "white"
             }
            },
            "header": {
             "fill": {
              "color": "#C8D4E3"
             },
             "line": {
              "color": "white"
             }
            },
            "type": "table"
           }
          ]
         },
         "layout": {
          "annotationdefaults": {
           "arrowcolor": "#2a3f5f",
           "arrowhead": 0,
           "arrowwidth": 1
          },
          "autotypenumbers": "strict",
          "coloraxis": {
           "colorbar": {
            "outlinewidth": 0,
            "ticks": ""
           }
          },
          "colorscale": {
           "diverging": [
            [
             0,
             "#8e0152"
            ],
            [
             0.1,
             "#c51b7d"
            ],
            [
             0.2,
             "#de77ae"
            ],
            [
             0.3,
             "#f1b6da"
            ],
            [
             0.4,
             "#fde0ef"
            ],
            [
             0.5,
             "#f7f7f7"
            ],
            [
             0.6,
             "#e6f5d0"
            ],
            [
             0.7,
             "#b8e186"
            ],
            [
             0.8,
             "#7fbc41"
            ],
            [
             0.9,
             "#4d9221"
            ],
            [
             1,
             "#276419"
            ]
           ],
           "sequential": [
            [
             0,
             "#0d0887"
            ],
            [
             0.1111111111111111,
             "#46039f"
            ],
            [
             0.2222222222222222,
             "#7201a8"
            ],
            [
             0.3333333333333333,
             "#9c179e"
            ],
            [
             0.4444444444444444,
             "#bd3786"
            ],
            [
             0.5555555555555556,
             "#d8576b"
            ],
            [
             0.6666666666666666,
             "#ed7953"
            ],
            [
             0.7777777777777778,
             "#fb9f3a"
            ],
            [
             0.8888888888888888,
             "#fdca26"
            ],
            [
             1,
             "#f0f921"
            ]
           ],
           "sequentialminus": [
            [
             0,
             "#0d0887"
            ],
            [
             0.1111111111111111,
             "#46039f"
            ],
            [
             0.2222222222222222,
             "#7201a8"
            ],
            [
             0.3333333333333333,
             "#9c179e"
            ],
            [
             0.4444444444444444,
             "#bd3786"
            ],
            [
             0.5555555555555556,
             "#d8576b"
            ],
            [
             0.6666666666666666,
             "#ed7953"
            ],
            [
             0.7777777777777778,
             "#fb9f3a"
            ],
            [
             0.8888888888888888,
             "#fdca26"
            ],
            [
             1,
             "#f0f921"
            ]
           ]
          },
          "colorway": [
           "#636efa",
           "#EF553B",
           "#00cc96",
           "#ab63fa",
           "#FFA15A",
           "#19d3f3",
           "#FF6692",
           "#B6E880",
           "#FF97FF",
           "#FECB52"
          ],
          "font": {
           "color": "#2a3f5f"
          },
          "geo": {
           "bgcolor": "white",
           "lakecolor": "white",
           "landcolor": "#E5ECF6",
           "showlakes": true,
           "showland": true,
           "subunitcolor": "white"
          },
          "hoverlabel": {
           "align": "left"
          },
          "hovermode": "closest",
          "mapbox": {
           "style": "light"
          },
          "paper_bgcolor": "white",
          "plot_bgcolor": "#E5ECF6",
          "polar": {
           "angularaxis": {
            "gridcolor": "white",
            "linecolor": "white",
            "ticks": ""
           },
           "bgcolor": "#E5ECF6",
           "radialaxis": {
            "gridcolor": "white",
            "linecolor": "white",
            "ticks": ""
           }
          },
          "scene": {
           "xaxis": {
            "backgroundcolor": "#E5ECF6",
            "gridcolor": "white",
            "gridwidth": 2,
            "linecolor": "white",
            "showbackground": true,
            "ticks": "",
            "zerolinecolor": "white"
           },
           "yaxis": {
            "backgroundcolor": "#E5ECF6",
            "gridcolor": "white",
            "gridwidth": 2,
            "linecolor": "white",
            "showbackground": true,
            "ticks": "",
            "zerolinecolor": "white"
           },
           "zaxis": {
            "backgroundcolor": "#E5ECF6",
            "gridcolor": "white",
            "gridwidth": 2,
            "linecolor": "white",
            "showbackground": true,
            "ticks": "",
            "zerolinecolor": "white"
           }
          },
          "shapedefaults": {
           "line": {
            "color": "#2a3f5f"
           }
          },
          "ternary": {
           "aaxis": {
            "gridcolor": "white",
            "linecolor": "white",
            "ticks": ""
           },
           "baxis": {
            "gridcolor": "white",
            "linecolor": "white",
            "ticks": ""
           },
           "bgcolor": "#E5ECF6",
           "caxis": {
            "gridcolor": "white",
            "linecolor": "white",
            "ticks": ""
           }
          },
          "title": {
           "x": 0.05
          },
          "xaxis": {
           "automargin": true,
           "gridcolor": "white",
           "linecolor": "white",
           "ticks": "",
           "title": {
            "standoff": 15
           },
           "zerolinecolor": "white",
           "zerolinewidth": 2
          },
          "yaxis": {
           "automargin": true,
           "gridcolor": "white",
           "linecolor": "white",
           "ticks": "",
           "title": {
            "standoff": 15
           },
           "zerolinecolor": "white",
           "zerolinewidth": 2
          }
         }
        },
        "title": {
         "text": "Proportion des Objectifs de Dons Atteints"
        }
       }
      }
     },
     "metadata": {},
     "output_type": "display_data"
    },
    {
     "name": "stderr",
     "output_type": "stream",
     "text": [
      "C:\\Users\\Linwë\\AppData\\Local\\Temp\\ipykernel_19720\\4246866410.py:15: FutureWarning:\n",
      "\n",
      "A value is trying to be set on a copy of a DataFrame or Series through chained assignment using an inplace method.\n",
      "The behavior will change in pandas 3.0. This inplace method will never work because the intermediate object on which we are setting values always behaves as a copy.\n",
      "\n",
      "For example, when doing 'df[col].method(value, inplace=True)', try using 'df.method({col: value}, inplace=True)' or df[col] = df[col].method(value) instead, to perform the operation inplace on the original object.\n",
      "\n",
      "\n",
      "\n"
     ]
    },
    {
     "data": {
      "application/vnd.plotly.v1+json": {
       "config": {
        "plotlyServerURL": "https://plot.ly"
       },
       "data": [
        {
         "hovertemplate": "<b>%{hovertext}</b><br><br>Nombre d'Objectifs=%{marker.color}<br>Total des Dons (€)=%{marker.size}<extra></extra>",
         "hovertext": [
          "Domingo",
          "AntoineDaniel",
          "ZeratoR",
          "AngleDroit",
          "Mastu",
          "Clemovitch",
          "samueletienne",
          "SylvainLyve",
          "Joueur_du_Grenier",
          "mistermv",
          "Joyca",
          "Ponce",
          "zacknani",
          "Etoiles",
          "Shisheyu",
          "JLTomy",
          "HortyUnderscore",
          "byilhann",
          "Nico_la",
          "LittleBigWhale",
          "BagheraJones",
          "m4fgaming",
          "TheGuill84",
          "AlphaCast",
          "Ultia",
          "EnjoyPhoenix",
          "DamDamLive",
          "Gom4rt",
          "Pressea",
          "Rivenzi",
          "AVAMind",
          "helydia",
          "CrocodyleTV",
          "FarodGames",
          "DrFeelgood",
          "TheGreatReview",
          "Linca",
          "ZEVENT",
          "JeanBaptisteShow",
          "Flamby",
          "MahyarS",
          "Jirayalecochon",
          "MoMaN",
          "Alexclick",
          "Lapi",
          "kenbogard",
          "Mynthos",
          "Sundae",
          "Gius",
          "MielCrapouille",
          "chowh1",
          "KennyStream",
          "Trinity",
          "Sol_Hms",
          "CitronViolet",
          "MathoX",
          "SolaryHS",
          "Sturry316",
          "MrDeriv",
          "Sakor_",
          "Recalbox",
          "TipStevens",
          "nogodi",
          "Marco",
          "Splinter",
          "CaptainFRACAS",
          "Saruei",
          "ClubPingouin_Trash",
          "KatChanVT",
          "Julgane",
          "Hctuan",
          "TheHolomovement",
          "RiboDansLaSauce",
          "Flonflon",
          "kammy64",
          "GuimauseTerrier",
          "Redairazor",
          "BARBE___DOUCE",
          "Lynkus_",
          "TogaLock_fr",
          "Sratuke",
          "Anaee",
          "ProTeam",
          "Fausthea",
          "theodort",
          "Malganyr",
          "JarlSpunk",
          "Strey_LoL",
          "mavienormale",
          "TCHOUUKI",
          "JennyyL",
          "La_Capitainerie",
          "Varg31",
          "Huzounet",
          "JardiStream",
          "clem_mlrt",
          "BenZaie",
          "papy_grant",
          "Roi_Louis",
          "Brickmitri",
          "KEMIST_C10H15N",
          "frozencrystal",
          "Laniyelle",
          "Echyr_",
          "KapslockArt",
          "MissCliick_",
          "MaitreArmand",
          "0uahleouff",
          "ElyhOnAir",
          "BastiUi",
          "Antistar",
          "David_Kyden",
          "broocoline",
          "Brybry",
          "LeProtagonisteTV",
          "ChezBubulle",
          "GF_Iguel",
          "MarcelPignol",
          "JawedCS",
          "FlavienAlexzander",
          "Scok",
          "StanRenart",
          "M4LL4URY",
          "Kusa",
          "Just1Chat",
          "nanie_nao",
          "FabDColson",
          "Euphoriasis",
          "ManaRyuujin",
          "Chester_ttv",
          "lepapyofficiel",
          "NakaStream",
          "Nejda",
          "Sgauth",
          "Zimas",
          "HugoAuPerchoir",
          "Lypning",
          "Ouilli",
          "Medalinya",
          "Tamaroush_Askemys",
          "Oliarius",
          "Skerax",
          "2old4stream",
          "Ryuuna_VT",
          "Lalain",
          "Cruelladk",
          "TEHLeadersheep",
          "merci_raph",
          "BCLV4",
          "JessBond",
          "As2piK",
          "Did0us",
          "JackplayPZ",
          "PriscillaLiaud",
          "magarky",
          "Zayphira",
          "LofiMaria_",
          "WarhaDventure",
          "christellelebaillyauteur",
          "Evoxia",
          "Sawpalin",
          "Leocrow_",
          "Doigby",
          "Cailloute",
          "Azghaaar",
          "Les_Archives",
          "Slyders_HS",
          "bouddhiste",
          "F_Bardino",
          "Nyamassis",
          "FalkaLive",
          "Coffee",
          "kwikwiii",
          "SEROTHS",
          "Keeps",
          "VulvyQueen",
          "Morrigh4n",
          "LaTaverneDePatatus",
          "FefeGG",
          "AnaOnAir",
          "eziogdsp",
          "E_Mule",
          "SAPEUH",
          "Shynouh",
          "Tsunadida",
          "LaKalzone",
          "Maricanne",
          "Koala_Cosy",
          "Poachimpa",
          "St0neTV",
          "KAOsvmd",
          "MonkyJV",
          "harumate",
          "BrunoUniversSimu",
          "Teuff_",
          "EYMRYC",
          "GOLRIVER_",
          "ElnoraEleo",
          "SoHarumi",
          "Yannock_",
          "PixelOctet",
          "KaroViper",
          "kyunesswhale",
          "Kahleeya",
          "Menou",
          "BartGeo",
          "Nunakeau",
          "airkagaming",
          "NECOtho",
          "Flaviestch",
          "Fukano",
          "ElizyaTV",
          "ToulouseLastStock",
          "Clara_l_Exploratrice",
          "Noki_Pubg",
          "Petitours",
          "MaryHealthTV",
          "Shakaam",
          "Heillinel",
          "NikoTB_",
          "Lunium",
          "GamesDreamy",
          "NerdFactory",
          "Symphoniya_",
          "olithinoa",
          "Kejinn",
          "Bluestardust_",
          "adyboo",
          "Artemize",
          "Hosarny",
          "Greg16s",
          "MichaelBielli",
          "Koripeluche",
          "franck_miller",
          "MisterPacoThai",
          "JoeLaFritt_",
          "General_Mass",
          "Jidun",
          "Music_Oceane",
          "Windsurfer2105",
          "HammerKick",
          "Lunae",
          "Memez94",
          "CrossWax",
          "Etoile_OW",
          "Boomnasty_",
          "klr_stream",
          "StelliosOW",
          "Yodahkiin_",
          "Peurle_ow",
          "shubbley",
          "Solkarine",
          "Elbe_Poly",
          "evan91380_",
          "Mushu",
          "arnaquemoisitupeux",
          "Elfyaa",
          "Ysadhora",
          "PurpleOfficiel",
          "chaab",
          "EXPAT_MALGRE_LUI",
          "Deavild",
          "Play_MK8",
          "kikitchiwi",
          "Drakeoz_",
          "RavenCross",
          "Natsuko",
          "Estebancano_7",
          "R3YMANN",
          "Mistyee",
          "Elypwet",
          "PetitBiscuit_",
          "Skyzio_",
          "Taelth",
          "BigBadHater_FR",
          "Schkaia",
          "OtsunaTV",
          "Wingo",
          "Verveine_",
          "behop_VeeK",
          "LesGoules",
          "Neru",
          "Kunder_on",
          "MialyMusic",
          "PwnZ_",
          "Thefoxeur",
          "Nykho",
          "saniahasna",
          "DamS_OW",
          "Kensei_FR",
          "Maitreleee",
          "Momos_Vision",
          "MrQuaRate",
          "NihiilTV",
          "Voxioo",
          "MonsieurFoxx",
          "IkerTTVV",
          "DrFrenesy",
          "Meteorann",
          "Chaton_Sauvage_",
          "Welliah",
          "Recharg_ing",
          "LePirateRoux",
          "allmight__one",
          "Nia_c",
          "Ss7even",
          "doxtv75",
          "DeejayMakina",
          "FlynnWinch",
          "Jengo_m",
          "Boitameu",
          "n0tizi",
          "miisterkel",
          "ZEventPlays",
          "Hytanie",
          "SixenTv"
         ],
         "legendgroup": "",
         "marker": {
          "color": {
           "bdata": "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",
           "dtype": "f8"
          },
          "coloraxis": "coloraxis",
          "size": {
           "bdata": "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",
           "dtype": "f8"
          },
          "sizemode": "area",
          "sizeref": 411.0193527777778,
          "symbol": "circle"
         },
         "mode": "markers",
         "name": "",
         "orientation": "v",
         "showlegend": false,
         "type": "scatter",
         "x": {
          "bdata": "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",
          "dtype": "f8"
         },
         "xaxis": "x",
         "y": {
          "bdata": "uB6Fq/WTNkEK16NwFpkyQUjhepSjnDFBj8L1KG1bIUFI4XqUguQgQSlcj8LQrxlBhetRuGWaGEGuR+F6CIoYQaRwPQr14BRBSOF6FC2vEkEfhetRm6ISQa5H4XokyBBBj8L1KHC0CEHNzMzMoJAIQc3MzMxCWwZBFK5H4XJUBkH2KFyPhkwEQTMzMzOR5gNBj8L1KOxPA0FSuB6Fn5MAQdejcD32hABB16NwPY5DAEFmZmZmztj+QDMzMzOryv5AAAAAAFSv/kDD9Shco439QD0K16PM4PxAmpmZmXnD/EAK16NwSZ/5QOxRuB4phflA16NwPTJ4+UCamZmZwfn4QDMzMzP31fhA7FG4Hi3u9EDsUbgeKY7xQK5H4XoEnPBAuB6F60Um8EDD9ShcP5XqQDMzMzNTRupAj8L1KAQj6kCkcD0K1xLpQFK4HoUTC+lAPQrXo6Bt50CamZmZGQPnQB+F61FYleZA4XoUri9T5kDNzMzMLM7lQGZmZmaOduVAXI/C9aiL5ECuR+F6vIrkQI/C9SisEuRArkfhelQW40DsUbgelTThQI/C9SgchuBAPQrXozgs4EBmZmZmVpTeQK5H4Xo0wdpAcT0K17OJ2UDXo3A9WszYQLgeheuhvNhAzczMzKz11kApXI/CZafVQOxRuB7FWdRAPQrXo/Bb0kBmZmZmpv/RQBSuR+G6ONFASOF6FK4P0UBI4XoUXu/QQAAAAAAww9BACtejcI270EBI4XoUTqXQQClcj8JFgtBAPQrXo7Bjz0B7FK5HwaXMQNejcD0qV8xAw/UoXO8hzECamZmZmezLQClcj8I1WMtAAAAAAMCZykBmZmZmZmTJQAAAAABAeshAKVyPwpVRyEBxPQrXA0TIQFyPwvUIIMdA9ihcj2J6xkBmZmZmBtTFQGZmZmZGwMVAzczMzEy8xUAK16NwXezEQPYoXI/i2sRA4XoUrge4xEDNzMzMrC/EQLgehevx9sNAmpmZmbnzw0B7FK5HAezDQOxRuB7l4sNAAAAAAADFw0AAAAAAAKbDQOxRuB7FocNAAAAAAADGwUBxPQrXY7LBQD0K16Pwo8FAMzMzM3MwwUCF61G4/nHAQLgehetxFsBAAAAAAIAJwEAfhetR2AXAQB+F61G47L5AexSuR6HFvkAzMzMzcyG+QOxRuB5Fzr1AKVyPwnXHvUCkcD0KF029QPYoXI/CTL1AFK5H4bq4vEAfhetReHW8QJqZmZlZ7rtAAAAAAABpu0DsUbgehVm7QFyPwvWoXrpApHA9Chc3ukDD9Shczy66QFyPwvWobrlAAAAAAAAjuUAUrkfhuua4QLgehetRq7hAPQrXo/B+uEBxPQrX40K4QM3MzMxMQrhAAAAAAAA4uEAAAAAAAAm4QB+F61F437dAw/UoXE/Ut0CuR+F6lI+3QDMzMzMzj7dAw/UoXA+Et0CkcD0KV3+3QK5H4XpUtLZACtejcP1OtkAAAAAAgEa2QAAAAAAAErZAj8L1KNzitUCkcD0Kl3y1QAAAAAAAXrVAhetRuJ7stEAAAAAAANO0QAAAAADA0rRAH4XrUTibtEAAAAAAAIy0QK5H4XpUg7RAcT0K16NKtEAAAAAAADK0QAAAAAAAELRAXI/C9agMtEAAAAAAAAW0QNejcD3KALRAZmZmZmb4s0C4HoXr0cmzQDMzMzMzsLNAAAAAAACrs0Bcj8L1qOeyQAAAAAAAorJA4XoUrodDskBSuB6FKzSyQAAAAAAAB7JAAAAAAADDsUAzMzMzs7ixQPYoXI9CnrFACtejcP2UsUAfhetROFyxQIXrUbie6rBApHA9ClflsEAAAAAAANmwQLgehesRqLBAAAAAAACJsEA9CtejMGiwQPYoXI9CNLBAAAAAAAAssED2KFyPgiSwQAAAAAAAIrBAFK5H4boEsEC4HoXrkQSwQHsUrkdhw69A16NwPYqvr0B7FK5HYaWvQNejcD0Kpa9ASOF6FK6Rr0BSuB6F61WvQOxRuB4FQK9AAAAAAABAr0AAAAAAAECvQOF6FK7HNa5ACtejcL0GrUAAAAAAAI6sQGZmZmZmYqxAZmZmZmb7q0DsUbgehbyrQAAAAAAAgKtAuB6F61F3q0AAAAAAAGyrQAAAAAAAbKtAFK5H4Xppq0CPwvUo3FmrQM3MzMzMWKtAAAAAAABYq0CF61G4HuKqQI/C9ShcmKpAAAAAAACUqkCkcD0KV4KqQAAAAAAAY6pAAAAAAAAKqkCPwvUoXNKpQClcj8J1jalAFK5H4fp5qUCuR+F6FAGpQHsUrkdh3ahA4XoUrkfPqEAAAAAAALqoQArXo3A9uahA7FG4HgWxqECkcD0KV/6nQAAAAAAA9qdAMzMzMzPep0BxPQrXI96nQIXrUbier6dAAAAAAACYp0CPwvUo3JenQClcj8J1eqdAuB6F69F2p0AfhetROHSnQClcj8J1cadAZmZmZmZwp0AAAAAAAHCnQAAAAAAAcKdAAAAAAABwp0AAAAAAAESmQKRwPQrXCKZACtejcD3gpUB7FK5HYaalQClcj8J1VaVAhetRuB4npUBI4XoUrsCkQAAAAAAAUKRAAAAAAADso0DD9Shcj52jQDMzMzMziKNAKVyPwnXAokCkcD0KV3+iQAAAAAAAZqJA7FG4HoVfokD2KFyPwieiQB+F61E4I6JAAAAAAACVoUCkcD0K14ShQNejcD2KcKFAmpmZmZlhoUAAAAAAADChQFyPwvUoIKFAAAAAAAAKoUDsUbgeBa+gQOxRuB4Fr6BA7FG4HoVBoEC4HoXr0TigQHE9CtejHaBAAAAAAAAGoEAAAAAAAOCfQFK4HoXrpZ9AAAAAAABAn0A9CtejcIedQM3MzMzM/pxAAAAAAABUnEAAAAAAAEicQNejcD0K4JpAj8L1KFy9mkAAAAAAAJCaQAAAAAAAkJpAAAAAAACUmUAAAAAAAHyZQAAAAAAAEJhA4XoUrkfYl0AAAAAAALSXQDMzMzMzcJdAmpmZmZlYlkAAAAAAADiWQAAAAAAAaJVAAAAAAADklED2KFyPwlKUQDMzMzMzc5NAKVyPwvVTk0AAAAAAAMCSQAAAAAAAgJJAAAAAAAAwkkCF61G4HiKSQAAAAAAA2JFAAAAAAADQkUAAAAAAAJSRQHE9CtejMZFA7FG4HoUxkUCuR+F6FEuQQClcj8L1O5BAAAAAAAAskEAAAAAAAByQQFK4HoXrT49AzczMzMxIi0AAAAAAAACJQAAAAAAA+IZAFK5H4XochkAAAAAAAPCFQAAAAAAA4IVAAAAAAADAhEAAAAAAACCBQMP1KFyPcnxAAAAAAACgekApXI/C9VB2QAAAAAAA4HVAAAAAAAAAAAA=",
          "dtype": "f8"
         },
         "yaxis": "y"
        }
       ],
       "layout": {
        "coloraxis": {
         "colorbar": {
          "title": {
           "text": "Nombre d'Objectifs"
          }
         },
         "colorscale": [
          [
           0,
           "#0d0887"
          ],
          [
           0.1111111111111111,
           "#46039f"
          ],
          [
           0.2222222222222222,
           "#7201a8"
          ],
          [
           0.3333333333333333,
           "#9c179e"
          ],
          [
           0.4444444444444444,
           "#bd3786"
          ],
          [
           0.5555555555555556,
           "#d8576b"
          ],
          [
           0.6666666666666666,
           "#ed7953"
          ],
          [
           0.7777777777777778,
           "#fb9f3a"
          ],
          [
           0.8888888888888888,
           "#fdca26"
          ],
          [
           1,
           "#f0f921"
          ]
         ]
        },
        "legend": {
         "itemsizing": "constant",
         "tracegroupgap": 0
        },
        "template": {
         "data": {
          "bar": [
           {
            "error_x": {
             "color": "#2a3f5f"
            },
            "error_y": {
             "color": "#2a3f5f"
            },
            "marker": {
             "line": {
              "color": "#E5ECF6",
              "width": 0.5
             },
             "pattern": {
              "fillmode": "overlay",
              "size": 10,
              "solidity": 0.2
             }
            },
            "type": "bar"
           }
          ],
          "barpolar": [
           {
            "marker": {
             "line": {
              "color": "#E5ECF6",
              "width": 0.5
             },
             "pattern": {
              "fillmode": "overlay",
              "size": 10,
              "solidity": 0.2
             }
            },
            "type": "barpolar"
           }
          ],
          "carpet": [
           {
            "aaxis": {
             "endlinecolor": "#2a3f5f",
             "gridcolor": "white",
             "linecolor": "white",
             "minorgridcolor": "white",
             "startlinecolor": "#2a3f5f"
            },
            "baxis": {
             "endlinecolor": "#2a3f5f",
             "gridcolor": "white",
             "linecolor": "white",
             "minorgridcolor": "white",
             "startlinecolor": "#2a3f5f"
            },
            "type": "carpet"
           }
          ],
          "choropleth": [
           {
            "colorbar": {
             "outlinewidth": 0,
             "ticks": ""
            },
            "type": "choropleth"
           }
          ],
          "contour": [
           {
            "colorbar": {
             "outlinewidth": 0,
             "ticks": ""
            },
            "colorscale": [
             [
              0,
              "#0d0887"
             ],
             [
              0.1111111111111111,
              "#46039f"
             ],
             [
              0.2222222222222222,
              "#7201a8"
             ],
             [
              0.3333333333333333,
              "#9c179e"
             ],
             [
              0.4444444444444444,
              "#bd3786"
             ],
             [
              0.5555555555555556,
              "#d8576b"
             ],
             [
              0.6666666666666666,
              "#ed7953"
             ],
             [
              0.7777777777777778,
              "#fb9f3a"
             ],
             [
              0.8888888888888888,
              "#fdca26"
             ],
             [
              1,
              "#f0f921"
             ]
            ],
            "type": "contour"
           }
          ],
          "contourcarpet": [
           {
            "colorbar": {
             "outlinewidth": 0,
             "ticks": ""
            },
            "type": "contourcarpet"
           }
          ],
          "heatmap": [
           {
            "colorbar": {
             "outlinewidth": 0,
             "ticks": ""
            },
            "colorscale": [
             [
              0,
              "#0d0887"
             ],
             [
              0.1111111111111111,
              "#46039f"
             ],
             [
              0.2222222222222222,
              "#7201a8"
             ],
             [
              0.3333333333333333,
              "#9c179e"
             ],
             [
              0.4444444444444444,
              "#bd3786"
             ],
             [
              0.5555555555555556,
              "#d8576b"
             ],
             [
              0.6666666666666666,
              "#ed7953"
             ],
             [
              0.7777777777777778,
              "#fb9f3a"
             ],
             [
              0.8888888888888888,
              "#fdca26"
             ],
             [
              1,
              "#f0f921"
             ]
            ],
            "type": "heatmap"
           }
          ],
          "histogram": [
           {
            "marker": {
             "pattern": {
              "fillmode": "overlay",
              "size": 10,
              "solidity": 0.2
             }
            },
            "type": "histogram"
           }
          ],
          "histogram2d": [
           {
            "colorbar": {
             "outlinewidth": 0,
             "ticks": ""
            },
            "colorscale": [
             [
              0,
              "#0d0887"
             ],
             [
              0.1111111111111111,
              "#46039f"
             ],
             [
              0.2222222222222222,
              "#7201a8"
             ],
             [
              0.3333333333333333,
              "#9c179e"
             ],
             [
              0.4444444444444444,
              "#bd3786"
             ],
             [
              0.5555555555555556,
              "#d8576b"
             ],
             [
              0.6666666666666666,
              "#ed7953"
             ],
             [
              0.7777777777777778,
              "#fb9f3a"
             ],
             [
              0.8888888888888888,
              "#fdca26"
             ],
             [
              1,
              "#f0f921"
             ]
            ],
            "type": "histogram2d"
           }
          ],
          "histogram2dcontour": [
           {
            "colorbar": {
             "outlinewidth": 0,
             "ticks": ""
            },
            "colorscale": [
             [
              0,
              "#0d0887"
             ],
             [
              0.1111111111111111,
              "#46039f"
             ],
             [
              0.2222222222222222,
              "#7201a8"
             ],
             [
              0.3333333333333333,
              "#9c179e"
             ],
             [
              0.4444444444444444,
              "#bd3786"
             ],
             [
              0.5555555555555556,
              "#d8576b"
             ],
             [
              0.6666666666666666,
              "#ed7953"
             ],
             [
              0.7777777777777778,
              "#fb9f3a"
             ],
             [
              0.8888888888888888,
              "#fdca26"
             ],
             [
              1,
              "#f0f921"
             ]
            ],
            "type": "histogram2dcontour"
           }
          ],
          "mesh3d": [
           {
            "colorbar": {
             "outlinewidth": 0,
             "ticks": ""
            },
            "type": "mesh3d"
           }
          ],
          "parcoords": [
           {
            "line": {
             "colorbar": {
              "outlinewidth": 0,
              "ticks": ""
             }
            },
            "type": "parcoords"
           }
          ],
          "pie": [
           {
            "automargin": true,
            "type": "pie"
           }
          ],
          "scatter": [
           {
            "fillpattern": {
             "fillmode": "overlay",
             "size": 10,
             "solidity": 0.2
            },
            "type": "scatter"
           }
          ],
          "scatter3d": [
           {
            "line": {
             "colorbar": {
              "outlinewidth": 0,
              "ticks": ""
             }
            },
            "marker": {
             "colorbar": {
              "outlinewidth": 0,
              "ticks": ""
             }
            },
            "type": "scatter3d"
           }
          ],
          "scattercarpet": [
           {
            "marker": {
             "colorbar": {
              "outlinewidth": 0,
              "ticks": ""
             }
            },
            "type": "scattercarpet"
           }
          ],
          "scattergeo": [
           {
            "marker": {
             "colorbar": {
              "outlinewidth": 0,
              "ticks": ""
             }
            },
            "type": "scattergeo"
           }
          ],
          "scattergl": [
           {
            "marker": {
             "colorbar": {
              "outlinewidth": 0,
              "ticks": ""
             }
            },
            "type": "scattergl"
           }
          ],
          "scattermap": [
           {
            "marker": {
             "colorbar": {
              "outlinewidth": 0,
              "ticks": ""
             }
            },
            "type": "scattermap"
           }
          ],
          "scattermapbox": [
           {
            "marker": {
             "colorbar": {
              "outlinewidth": 0,
              "ticks": ""
             }
            },
            "type": "scattermapbox"
           }
          ],
          "scatterpolar": [
           {
            "marker": {
             "colorbar": {
              "outlinewidth": 0,
              "ticks": ""
             }
            },
            "type": "scatterpolar"
           }
          ],
          "scatterpolargl": [
           {
            "marker": {
             "colorbar": {
              "outlinewidth": 0,
              "ticks": ""
             }
            },
            "type": "scatterpolargl"
           }
          ],
          "scatterternary": [
           {
            "marker": {
             "colorbar": {
              "outlinewidth": 0,
              "ticks": ""
             }
            },
            "type": "scatterternary"
           }
          ],
          "surface": [
           {
            "colorbar": {
             "outlinewidth": 0,
             "ticks": ""
            },
            "colorscale": [
             [
              0,
              "#0d0887"
             ],
             [
              0.1111111111111111,
              "#46039f"
             ],
             [
              0.2222222222222222,
              "#7201a8"
             ],
             [
              0.3333333333333333,
              "#9c179e"
             ],
             [
              0.4444444444444444,
              "#bd3786"
             ],
             [
              0.5555555555555556,
              "#d8576b"
             ],
             [
              0.6666666666666666,
              "#ed7953"
             ],
             [
              0.7777777777777778,
              "#fb9f3a"
             ],
             [
              0.8888888888888888,
              "#fdca26"
             ],
             [
              1,
              "#f0f921"
             ]
            ],
            "type": "surface"
           }
          ],
          "table": [
           {
            "cells": {
             "fill": {
              "color": "#EBF0F8"
             },
             "line": {
              "color": "white"
             }
            },
            "header": {
             "fill": {
              "color": "#C8D4E3"
             },
             "line": {
              "color": "white"
             }
            },
            "type": "table"
           }
          ]
         },
         "layout": {
          "annotationdefaults": {
           "arrowcolor": "#2a3f5f",
           "arrowhead": 0,
           "arrowwidth": 1
          },
          "autotypenumbers": "strict",
          "coloraxis": {
           "colorbar": {
            "outlinewidth": 0,
            "ticks": ""
           }
          },
          "colorscale": {
           "diverging": [
            [
             0,
             "#8e0152"
            ],
            [
             0.1,
             "#c51b7d"
            ],
            [
             0.2,
             "#de77ae"
            ],
            [
             0.3,
             "#f1b6da"
            ],
            [
             0.4,
             "#fde0ef"
            ],
            [
             0.5,
             "#f7f7f7"
            ],
            [
             0.6,
             "#e6f5d0"
            ],
            [
             0.7,
             "#b8e186"
            ],
            [
             0.8,
             "#7fbc41"
            ],
            [
             0.9,
             "#4d9221"
            ],
            [
             1,
             "#276419"
            ]
           ],
           "sequential": [
            [
             0,
             "#0d0887"
            ],
            [
             0.1111111111111111,
             "#46039f"
            ],
            [
             0.2222222222222222,
             "#7201a8"
            ],
            [
             0.3333333333333333,
             "#9c179e"
            ],
            [
             0.4444444444444444,
             "#bd3786"
            ],
            [
             0.5555555555555556,
             "#d8576b"
            ],
            [
             0.6666666666666666,
             "#ed7953"
            ],
            [
             0.7777777777777778,
             "#fb9f3a"
            ],
            [
             0.8888888888888888,
             "#fdca26"
            ],
            [
             1,
             "#f0f921"
            ]
           ],
           "sequentialminus": [
            [
             0,
             "#0d0887"
            ],
            [
             0.1111111111111111,
             "#46039f"
            ],
            [
             0.2222222222222222,
             "#7201a8"
            ],
            [
             0.3333333333333333,
             "#9c179e"
            ],
            [
             0.4444444444444444,
             "#bd3786"
            ],
            [
             0.5555555555555556,
             "#d8576b"
            ],
            [
             0.6666666666666666,
             "#ed7953"
            ],
            [
             0.7777777777777778,
             "#fb9f3a"
            ],
            [
             0.8888888888888888,
             "#fdca26"
            ],
            [
             1,
             "#f0f921"
            ]
           ]
          },
          "colorway": [
           "#636efa",
           "#EF553B",
           "#00cc96",
           "#ab63fa",
           "#FFA15A",
           "#19d3f3",
           "#FF6692",
           "#B6E880",
           "#FF97FF",
           "#FECB52"
          ],
          "font": {
           "color": "#2a3f5f"
          },
          "geo": {
           "bgcolor": "white",
           "lakecolor": "white",
           "landcolor": "#E5ECF6",
           "showlakes": true,
           "showland": true,
           "subunitcolor": "white"
          },
          "hoverlabel": {
           "align": "left"
          },
          "hovermode": "closest",
          "mapbox": {
           "style": "light"
          },
          "paper_bgcolor": "white",
          "plot_bgcolor": "#E5ECF6",
          "polar": {
           "angularaxis": {
            "gridcolor": "white",
            "linecolor": "white",
            "ticks": ""
           },
           "bgcolor": "#E5ECF6",
           "radialaxis": {
            "gridcolor": "white",
            "linecolor": "white",
            "ticks": ""
           }
          },
          "scene": {
           "xaxis": {
            "backgroundcolor": "#E5ECF6",
            "gridcolor": "white",
            "gridwidth": 2,
            "linecolor": "white",
            "showbackground": true,
            "ticks": "",
            "zerolinecolor": "white"
           },
           "yaxis": {
            "backgroundcolor": "#E5ECF6",
            "gridcolor": "white",
            "gridwidth": 2,
            "linecolor": "white",
            "showbackground": true,
            "ticks": "",
            "zerolinecolor": "white"
           },
           "zaxis": {
            "backgroundcolor": "#E5ECF6",
            "gridcolor": "white",
            "gridwidth": 2,
            "linecolor": "white",
            "showbackground": true,
            "ticks": "",
            "zerolinecolor": "white"
           }
          },
          "shapedefaults": {
           "line": {
            "color": "#2a3f5f"
           }
          },
          "ternary": {
           "aaxis": {
            "gridcolor": "white",
            "linecolor": "white",
            "ticks": ""
           },
           "baxis": {
            "gridcolor": "white",
            "linecolor": "white",
            "ticks": ""
           },
           "bgcolor": "#E5ECF6",
           "caxis": {
            "gridcolor": "white",
            "linecolor": "white",
            "ticks": ""
           }
          },
          "title": {
           "x": 0.05
          },
          "xaxis": {
           "automargin": true,
           "gridcolor": "white",
           "linecolor": "white",
           "ticks": "",
           "title": {
            "standoff": 15
           },
           "zerolinecolor": "white",
           "zerolinewidth": 2
          },
          "yaxis": {
           "automargin": true,
           "gridcolor": "white",
           "linecolor": "white",
           "ticks": "",
           "title": {
            "standoff": 15
           },
           "zerolinecolor": "white",
           "zerolinewidth": 2
          }
         }
        },
        "title": {
         "text": "Nombre d'Objectifs par Streamer vs. Dons Totals"
        },
        "xaxis": {
         "anchor": "y",
         "domain": [
          0,
          1
         ],
         "title": {
          "text": "Nombre d'Objectifs"
         }
        },
        "yaxis": {
         "anchor": "x",
         "domain": [
          0,
          1
         ],
         "title": {
          "text": "Total des Dons (€)"
         }
        }
       }
      }
     },
     "metadata": {},
     "output_type": "display_data"
    }
   ],
   "source": [
    "# Analyse des objectifs de dons\n",
    "accomplished_goals = donation_goals['accomplished'].value_counts()\n",
    "\n",
    "fig = px.pie(accomplished_goals, values=accomplished_goals.values, names=accomplished_goals.index,\n",
    "             title='Proportion des Objectifs de Dons Atteints',\n",
    "             labels={'names': 'Statut', 'values': 'Nombre d\\'Objectifs'},\n",
    "             color_discrete_map={True: 'green', False: 'red'})\n",
    "fig.show()\n",
    "\n",
    "# Relation entre les objectifs et les dons totaux\n",
    "goals_per_streamer = donation_goals.groupby('streamer_name')['id'].count().reset_index()\n",
    "goals_per_streamer.rename(columns={'id': 'goal_count'}, inplace=True)\n",
    "\n",
    "streamers_with_goals = pd.merge(streamers, goals_per_streamer, left_on='name', right_on='streamer_name', how='left')\n",
    "streamers_with_goals['goal_count'].fillna(0, inplace=True)\n",
    "\n",
    "fig = px.scatter(streamers_with_goals, x='goal_count', y='total_donations',\n",
    "                 title='Nombre d\\'Objectifs par Streamer vs. Dons Totals',\n",
    "                 labels={'goal_count': 'Nombre d\\'Objectifs', 'total_donations': 'Total des Dons (€)'},\n",
    "                 hover_name='name',\n",
    "                 size='total_donations',\n",
    "                 color='goal_count',\n",
    "                 size_max=60)\n",
    "fig.show()"
   ]
  },
  {
   "cell_type": "markdown",
   "id": "0b5af191",
   "metadata": {},
   "source": [
    "## 6. Conclusion et Rapport d'Analyse\n",
    "\n",
    "### Principales Conclusions\n",
    "\n",
    "1.  **Performance Globale de l'Événement :**\n",
    "    *   Le ZEvent 2025 a été un immense succès, récoltant un total de **16,17 millions d'euros**.\n",
    "    *   L'événement a attiré un pic de **752 185 spectateurs simultanés**, démontrant son incroyable portée et son engagement communautaire.\n",
    "\n",
    "2.  **Performance des Streamers :**\n",
    "    *   **Leaders en Dons :** Des streamers comme **Domingo, AntoineDaniel, et ZeratoR** ont été les plus grands collecteurs de fonds, contribuant de manière significative au total.\n",
    "    *   **Leaders en Audience :** Les mêmes noms dominent également les classements d'audience, indiquant une forte corrélation entre la popularité (mesurée par les spectateurs) et la capacité à générer des dons.\n",
    "    *   **Corrélation Spectateurs-Dons :** L'analyse confirme une corrélation positive claire entre le nombre moyen de spectateurs et le total des dons. Les streamers avec une plus grande audience ont tendance à récolter plus de dons, bien qu'il existe des exceptions notables.\n",
    "\n",
    "3.  **Efficacité des Streamers :**\n",
    "    *   **Dons par Heure :** Certains streamers plus petits ont montré une efficacité remarquable en termes de dons par heure, suggérant un public très engagé et généreux.\n",
    "    *   **Dons par Follower :** Cette métrique révèle des \"champions cachés\" qui, bien qu'ayant moins de followers, parviennent à mobiliser leur communauté de manière extrêmement efficace. Des streamers comme **AngleDroit** se démarquent ici.\n",
    "\n",
    "4.  **Analyse Temporelle :**\n",
    "    *   L'évolution des dons et des spectateurs montre des pics clairs pendant les événements clés du planning, en particulier lors des sessions de jeux populaires, des défis et des concerts.\n",
    "    *   Les dernières heures de l'événement (\"le rush final\") voient une augmentation exponentielle des dons, une tendance classique mais toujours impressionnante.\n",
    "\n",
    "5.  **Objectifs de Dons :**\n",
    "    *   Une grande partie des objectifs de dons n'a pas été atteinte, ce qui pourrait indiquer qu'ils étaient très ambitieux ou que la dynamique des dons était concentrée sur d'autres aspects.\n",
    "    *   Il existe une corrélation positive entre le nombre d'objectifs fixés par un streamer et le montant total des dons qu'il a récoltés, suggérant que les objectifs, même s'ils ne sont pas tous atteints, agissent comme un puissant moteur d'incitation.\n",
    "\n",
    "### Recommandations et Perspectives\n",
    "\n",
    "*   **Pour les Organisateurs :** Mettre en avant les \"champions de l'efficacité\" pourrait être une stratégie intéressante pour les futures éditions, afin de valoriser différentes formes de succès.\n",
    "*   **Pour les Streamers :** Fixer de nombreux objectifs de dons, même ambitieux, semble être une stratégie payante pour stimuler les dons.\n",
    "*   **Analyse Future :** Une analyse plus approfondie pourrait inclure une analyse de sentiment des discussions sur les réseaux sociaux, ou une modélisation prédictive pour estimer les dons potentiels basés sur les caractéristiques des streamers.\n",
    "\n",
    "Ce notebook a fourni une analyse complète des données du ZEvent 2025, révélant des aperçus clés sur la performance de l'événement, l'impact des streamers, et les dynamiques d'engagement de la communauté."
   ]
  },
  {
   "cell_type": "markdown",
   "id": "dd57ee07",
   "metadata": {},
   "source": [
    "# Analyse complète du ZEvent 2025\n",
    "Ce notebook propose une analyse structurée : chargement, nettoyage, exploration et visualisations interactives."
   ]
  },
  {
   "cell_type": "markdown",
   "id": "1081d8a0",
   "metadata": {},
   "source": [
    "## 1. Importation et configuration\n",
    "```python\n",
    "import pandas as pd\n",
    "import matplotlib.pyplot as plt\n",
    "import seaborn as sns\n",
    "import plotly.express as px\n",
    "from datetime import datetime\n",
    "\n",
    "# Styles et options\n",
    "sns.set_theme(style='whitegrid')\n",
    "pd.options.display.max_columns = None\n",
    "pd.options.display.max_rows = 100\n",
    "```"
   ]
  },
  {
   "cell_type": "code",
   "execution_count": null,
   "id": "a10cb6f7",
   "metadata": {},
   "outputs": [],
   "source": [
    "# 2. Chargement et aperçu des fichiers de données\n",
    "import glob\n",
    "file_list = glob.glob('../data/clean/**/**/*.csv', recursive=True)\n",
    "\n",
    "# Lire les 10 premières lignes de chaque fichier\n",
    "preview = {}\n",
    "for f in file_list:\n",
    "    preview[f] = pd.read_csv(f, nrows=10)\n",
    "# Afficher un dataframe combiné de noms de fichiers et dimensions\n",
    "pd.DataFrame({'file': list(preview.keys()), 'rows': [df.shape[0] for df in preview.values()], 'cols': [df.shape[1] for df in preview.values()]})"
   ]
  },
  {
   "cell_type": "markdown",
   "id": "bd69f68d",
   "metadata": {},
   "source": [
    "## 3. Nettoyage et préparation des données\n",
    "```python\n",
    "# Convertir datetime dans les objets preview\n",
    "for name, df in preview.items():\n",
    "    for col in df.columns:\n",
    "        if 'date' in col.lower() or 'time' in col.lower():\n",
    "            df[col] = pd.to_datetime(df[col], errors='coerce')\n",
    "```"
   ]
  },
  {
   "cell_type": "code",
   "execution_count": null,
   "id": "8fea9eaf",
   "metadata": {},
   "outputs": [],
   "source": [
    "# Charger l'intégralité des jeux de données pour analyse\n",
    "donation_goals = pd.read_csv('../data/clean/events/donation_goals.csv')\n",
    "event_schedule = pd.read_csv('../data/clean/events/event_schedule.csv')\n",
    "streamers_data = pd.read_csv('../data/clean/streamers/streamers_data.csv')\n",
    "streamers_detailed_stats = pd.read_csv('../data/clean/streamers/streamers_detailed_stats.csv')\n",
    "donations_evolution = pd.read_csv('../data/clean/temporal/donations_evolution.csv')\n",
    "viewers_evolution = pd.read_csv('../data/clean/temporal/viewers_evolution.csv')\n",
    "\n",
    "# Conversion des dates dans les DataFrames principaux\n",
    "for df in [donation_goals, event_schedule, donations_evolution, viewers_evolution]:\n",
    "    for col in df.columns:\n",
    "        if 'date' in col.lower() or 'time' in col.lower() or 'datetime' in col.lower():\n",
    "            df[col] = pd.to_datetime(df[col], errors='coerce')"
   ]
  },
  {
   "cell_type": "markdown",
   "id": "867e679e",
   "metadata": {},
   "source": [
    "## 5. Analyse temporelle des dons et spectateurs\n",
    "```python\n",
    "# Tracé des évolutions temporelles\n",
    "plt.figure(figsize=(12,6))\n",
    "sns.lineplot(data=donations_evolution, x='datetime', y='donations', label='Dons')\n",
    "sns.lineplot(data=viewers_evolution, x='datetime', y='viewers', label='Viewers')\n",
    "plt.title('Évolution des dons et viewers au fil du temps')\n",
    "plt.xlabel('Date')\n",
    "plt.ylabel('Valeur')\n",
    "plt.legend()\n",
    "plt.show()\n",
    "```"
   ]
  },
  {
   "cell_type": "markdown",
   "id": "c2502aa7",
   "metadata": {},
   "source": [
    "## 6. Comparaison des performances des streamers\n",
    "```python\n",
    "top_streamers = streamers_detailed_stats.nlargest(10, 'total_donations')\n",
    "fig = px.bar(top_streamers, x='name', y='total_donations', title='Top 10 des streamers par dons totaux', color='total_donations', color_continuous_scale='Viridis')\n",
    "fig.show()\n",
    "```"
   ]
  },
  {
   "cell_type": "markdown",
   "id": "689cdeec",
   "metadata": {},
   "source": [
    "## 7. Corrélation planning vs activité\n",
    "```python\n",
    "fig, ax1 = plt.subplots(figsize=(14,6))\n",
    "ax1.plot(donations_evolution['datetime'], donations_evolution['donations'], color='tab:blue', label='Dons')\n",
    "ax1.set_ylabel('Dons', color='tab:blue')\n",
    "ax2 = ax1.twinx()\n",
    "ax2.plot(viewers_evolution['datetime'], viewers_evolution['viewers'], color='tab:green', label='Viewers')\n",
    "ax3 = ax1.twinx()\n",
    "ax3.spines['right'].set_position(('axes', 1.1))\n",
    "ax3.plot(event_schedule['start'], event_schedule['event'], color='tab:red', linestyle='--', label='Planning')\n",
    "ax3.set_ylabel('Événement', color='tab:red')\n",
    "ax1.set_xlabel('Date')\n",
    "ax1.set_title('Corrélation entre planning et activité')\n",
    "fig.legend()\n",
    "plt.show()\n",
    "```"
   ]
  },
  {
   "cell_type": "markdown",
   "id": "55a46fe6",
   "metadata": {},
   "source": [
    "## 8. Visualisations interactives avec Plotly Express\n",
    "Explorez dynamiquement les données avec des graphiques interactifs."
   ]
  },
  {
   "cell_type": "code",
   "execution_count": null,
   "id": "4d0b08ab",
   "metadata": {},
   "outputs": [],
   "source": [
    "# Graphique interactif: évolution cumulative des dons\n",
    "fig = px.area(donations_evolution, x='datetime', y='donations', title='Dons évolutifs', labels={'donations':'Montant (€)','datetime':'Date'})\n",
    "fig.update_layout(hovermode='x')\n",
    "fig.show()\n",
    "\n",
    "# Scatter interactif: donations vs viewers\n",
    "fig = px.scatter(donations_evolution.merge(viewers_evolution, on='datetime'), x='viewers', y='donations', color='donations', size='viewers', title='Dons vs Viewers')\n",
    "fig.show()\n",
    "\n",
    "# Bar interactif: top streamers\n",
    "fig = px.bar(top_streamers, x='name', y='total_donations', title='Top Streamers (Interactif)', labels={'total_donations':'Dons totaux (€)'}, hover_data=['avg_viewers'])\n",
    "fig.show()"
   ]
  },
  {
   "cell_type": "markdown",
   "id": "90d7f08c",
   "metadata": {},
   "source": [
    "## 4. Analyse descriptive des données\n",
    "```python\n",
    "# Statistiques de base sur les dons et viewers\n",
    "print(\"Statistiques des dons :\")\n",
    "print(donations_evolution['donations'].describe())\n",
    "print(\"\\nStatistiques des viewers :\")\n",
    "print(viewers_evolution['viewers'].describe())\n",
    "\n",
    "# Statistiques par streamer\n",
    "print(\"\\nTop 10 des streamers par donations totales :\")\n",
    "print(streamers_detailed_stats[['name','total_donations','avg_viewers']].sort_values('total_donations', ascending=False).head(10))\n",
    "```"
   ]
  }
 ],
 "metadata": {
  "kernelspec": {
   "display_name": ".venv (3.13.1)",
   "language": "python",
   "name": "python3"
  },
  "language_info": {
   "codemirror_mode": {
    "name": "ipython",
    "version": 3
   },
   "file_extension": ".py",
   "mimetype": "text/x-python",
   "name": "python",
   "nbconvert_exporter": "python",
   "pygments_lexer": "ipython3",
   "version": "3.13.1"
  }
 },
 "nbformat": 4,
 "nbformat_minor": 5
}
