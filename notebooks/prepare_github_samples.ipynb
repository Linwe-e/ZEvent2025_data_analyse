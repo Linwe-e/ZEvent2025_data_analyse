{
 "cells": [
  {
   "cell_type": "markdown",
   "id": "4d9b32d4",
   "metadata": {},
   "source": [
    "# Préparation des échantillons de données pour GitHub\n",
    "\n",
    "Ce notebook crée des échantillons de données à partir des fichiers CSV pour partager sur GitHub sans exposer l'intégralité des données."
   ]
  },
  {
   "cell_type": "code",
   "execution_count": null,
   "id": "6448fd82",
   "metadata": {},
   "outputs": [],
   "source": [
    "# Script pour générer des échantillons de données pour GitHub\n",
    "import pandas as pd\n",
    "import os\n",
    "import glob\n",
    "\n",
    "# Création des répertoires pour les échantillons\n",
    "os.makedirs('data/sample/streamers', exist_ok=True)\n",
    "os.makedirs('data/sample/events', exist_ok=True)\n",
    "os.makedirs('data/sample/temporal', exist_ok=True)\n",
    "\n",
    "# Fonction pour créer un échantillon\n",
    "def create_sample(file_path, output_dir, n_rows=10):\n",
    "    try:\n",
    "        # Lire les n premières lignes du fichier CSV\n",
    "        df = pd.read_csv(file_path, nrows=n_rows)\n",
    "        \n",
    "        # Créer le chemin de sortie\n",
    "        filename = os.path.basename(file_path)\n",
    "        output_path = os.path.join(output_dir, filename)\n",
    "        \n",
    "        # Sauvegarder l'échantillon\n",
    "        df.to_csv(output_path, index=False)\n",
    "        print(f\"Échantillon créé : {output_path}\")\n",
    "    except Exception as e:\n",
    "        print(f\"Erreur lors de la création de l'échantillon pour {file_path}: {e}\")\n",
    "\n",
    "# Créer des échantillons pour les streamers\n",
    "for csv_file in glob.glob('data/clean/streamers/*.csv'):\n",
    "    create_sample(csv_file, 'data/sample/streamers')\n",
    "\n",
    "# Créer des échantillons pour les événements\n",
    "for csv_file in glob.glob('data/clean/events/*.csv'):\n",
    "    create_sample(csv_file, 'data/sample/events')\n",
    "\n",
    "# Créer des échantillons pour les données temporelles\n",
    "for csv_file in glob.glob('data/clean/temporal/*.csv'):\n",
    "    create_sample(csv_file, 'data/sample/temporal')\n",
    "\n",
    "print(\"Tous les échantillons ont été créés avec succès !\")"
   ]
  }
 ],
 "metadata": {
  "language_info": {
   "name": "python"
  }
 },
 "nbformat": 4,
 "nbformat_minor": 5
}
