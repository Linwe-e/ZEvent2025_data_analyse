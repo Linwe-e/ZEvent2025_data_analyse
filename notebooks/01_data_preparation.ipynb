{
 "cells": [
  {
   "cell_type": "markdown",
   "id": "8e0b32db",
   "metadata": {},
   "source": [
    "# ZEvent 2025 - Data Preparation\n",
    "\n",
    "Ce notebook combine l'extraction et le nettoyage des données ZEvent 2025.\n",
    "\n",
    "## Sources de données\n",
    "- **API ZEvent** : Statistiques officielles, goals, événements\n",
    "- **SullyGnome** : Métriques Twitch complémentaires\n",
    "\n",
    "## Outputs\n",
    "- Données consolidées dans `data/clean/`\n",
    "- Datasets prêts pour analyse"
   ]
  },
  {
   "cell_type": "markdown",
   "id": "76b8ad5f",
   "metadata": {},
   "source": [
    "## 1. Setup et Configuration"
   ]
  },
  {
   "cell_type": "code",
   "execution_count": 2,
   "id": "e41e6669",
   "metadata": {},
   "outputs": [
    {
     "name": "stdout",
     "output_type": "stream",
     "text": [
      "📁 Projet : c:\\Users\\Linwë\\Documents\\ZEvent2025_data_analyse\n",
      "📊 Données raw : c:\\Users\\Linwë\\Documents\\ZEvent2025_data_analyse\\data\\raw\n",
      "✨ Données clean : c:\\Users\\Linwë\\Documents\\ZEvent2025_data_analyse\\data\\clean\n"
     ]
    }
   ],
   "source": [
    "import pandas as pd\n",
    "import numpy as np\n",
    "import requests\n",
    "import json\n",
    "import glob\n",
    "from pathlib import Path\n",
    "from tqdm import tqdm\n",
    "import warnings\n",
    "warnings.filterwarnings('ignore')\n",
    "\n",
    "# Configuration des chemins\n",
    "project_root = Path.cwd().parent  # Remonter depuis notebooks/\n",
    "data_dir = project_root / 'data'\n",
    "raw_dir = data_dir / 'raw'\n",
    "clean_dir = data_dir / 'clean'\n",
    "\n",
    "print(f\"📁 Projet : {project_root}\")\n",
    "print(f\"📊 Données raw : {raw_dir}\")\n",
    "print(f\"✨ Données clean : {clean_dir}\")"
   ]
  },
  {
   "cell_type": "markdown",
   "id": "d1640417",
   "metadata": {},
   "source": [
    "## 2. Extraction API ZEvent\n",
    "\n",
    "Récupération des données depuis l'API officielle ZEvent."
   ]
  },
  {
   "cell_type": "code",
   "execution_count": 7,
   "id": "f3093019",
   "metadata": {},
   "outputs": [
    {
     "name": "stdout",
     "output_type": "stream",
     "text": [
      "📁 statistics: Données chargées depuis all_statistics.json (5 éléments)\n",
      "📁 donation_goals: Données chargées depuis donation_goals.json (5442 éléments)\n",
      "📁 event_schedule: Données chargées depuis event_schedule.json (57 éléments)\n"
     ]
    }
   ],
   "source": [
    "# API ZEvent - URLs et mapping des fichiers\n",
    "BASE_URL = \"https://zevent-api.gdoc.fr\"\n",
    "endpoints = {\n",
    "    'statistics': f\"{BASE_URL}/statistics\",\n",
    "    'donation_goals': f\"{BASE_URL}/donation_goals\", \n",
    "    'event_schedule': f\"{BASE_URL}/event_schedule\"\n",
    "}\n",
    "\n",
    "# Mapping pour les noms de fichiers alternatifs\n",
    "file_mapping = {\n",
    "    'statistics': ['statistics.json', 'all_statistics.json', 'individual_streamer_stats.json'],\n",
    "    'donation_goals': ['donation_goals.json'],\n",
    "    'event_schedule': ['event_schedule.json']\n",
    "}\n",
    "\n",
    "def fetch_zevent_data(endpoint_name, url):\n",
    "    \"\"\"Récupère les données d'un endpoint ZEvent ou charge depuis cache\"\"\"\n",
    "    # Vérifier les fichiers possibles pour cet endpoint\n",
    "    possible_files = file_mapping.get(endpoint_name, [f\"{endpoint_name}.json\"])\n",
    "    \n",
    "    for filename in possible_files:\n",
    "        raw_file = raw_dir / 'zevent_api' / filename\n",
    "        if raw_file.exists():\n",
    "            try:\n",
    "                with open(raw_file, 'r', encoding='utf-8') as f:\n",
    "                    data = json.load(f)\n",
    "                print(f\"📁 {endpoint_name}: Données chargées depuis {filename} ({len(data)} éléments)\")\n",
    "                return data\n",
    "            except Exception as e:\n",
    "                print(f\"⚠️ Erreur lecture {filename}: {e}\")\n",
    "                continue\n",
    "    \n",
    "    # Sinon, essayer de récupérer depuis l'API\n",
    "    try:\n",
    "        response = requests.get(url, timeout=10)\n",
    "        response.raise_for_status()\n",
    "        \n",
    "        # Sauvegarde raw\n",
    "        raw_file = raw_dir / 'zevent_api' / f\"{endpoint_name}.json\"\n",
    "        raw_file.parent.mkdir(parents=True, exist_ok=True)\n",
    "        \n",
    "        with open(raw_file, 'w', encoding='utf-8') as f:\n",
    "            json.dump(response.json(), f, indent=2, ensure_ascii=False)\n",
    "        \n",
    "        print(f\"✅ {endpoint_name}: {len(response.json())} éléments (nouveau)\")\n",
    "        return response.json()\n",
    "    \n",
    "    except Exception as e:\n",
    "        print(f\"❌ API {endpoint_name} indisponible: {e}\")\n",
    "        print(f\"   → Aucune donnée trouvée pour {endpoint_name}\")\n",
    "        return None\n",
    "\n",
    "# Extraction des données\n",
    "zevent_data = {}\n",
    "for name, url in endpoints.items():\n",
    "    zevent_data[name] = fetch_zevent_data(name, url)"
   ]
  },
  {
   "cell_type": "code",
   "execution_count": 5,
   "id": "41c484c8",
   "metadata": {},
   "outputs": [
    {
     "name": "stdout",
     "output_type": "stream",
     "text": [
      "📁 Vérification dossier API : c:\\Users\\Linwë\\Documents\\ZEvent2025_data_analyse\\data\\raw\\zevent_api\n",
      "📄 Fichiers JSON trouvés: 4\n",
      "   ✅ all_statistics.json: 5 éléments\n",
      "   ✅ donation_goals.json: 5442 éléments\n",
      "   ✅ event_schedule.json: 57 éléments\n",
      "   ✅ individual_streamer_stats.json: 319 éléments\n"
     ]
    }
   ],
   "source": [
    "# Diagnostic des données existantes\n",
    "zevent_api_dir = raw_dir / 'zevent_api'\n",
    "print(f\"📁 Vérification dossier API : {zevent_api_dir}\")\n",
    "\n",
    "if zevent_api_dir.exists():\n",
    "    existing_files = list(zevent_api_dir.glob('*.json'))\n",
    "    print(f\"📄 Fichiers JSON trouvés: {len(existing_files)}\")\n",
    "    for file in existing_files:\n",
    "        try:\n",
    "            with open(file, 'r', encoding='utf-8') as f:\n",
    "                data = json.load(f)\n",
    "            print(f\"   ✅ {file.name}: {len(data)} éléments\")\n",
    "        except Exception as e:\n",
    "            print(f\"   ❌ {file.name}: Erreur lecture - {e}\")\n",
    "else:\n",
    "    print(\"⚠️ Dossier zevent_api inexistant\")\n",
    "    zevent_api_dir.mkdir(parents=True, exist_ok=True)\n",
    "    print(\"✅ Dossier créé\")"
   ]
  },
  {
   "cell_type": "markdown",
   "id": "39f4eb43",
   "metadata": {},
   "source": [
    "## 3. Traitement SullyGnome\n",
    "\n",
    "Consolidation des fichiers CSV SullyGnome."
   ]
  },
  {
   "cell_type": "code",
   "execution_count": 9,
   "id": "4c472e60",
   "metadata": {},
   "outputs": [
    {
     "name": "stdout",
     "output_type": "stream",
     "text": [
      "📁 Fichiers SullyGnome trouvés: 5\n",
      "   ZEVENT - most watched Twitch channels - SullyGnome - page 1.csv: 100 streamers\n",
      "   ZEVENT - most watched Twitch channels - SullyGnome - page 2.csv: 100 streamers\n",
      "   ZEVENT - most watched Twitch channels - SullyGnome - page 3.csv: 100 streamers\n",
      "   ZEVENT - most watched Twitch channels - SullyGnome - page 4.csv: 100 streamers\n",
      "   ZEVENT - most watched Twitch channels - SullyGnome - page 5.csv: 63 streamers\n",
      "\n",
      "📊 Total SullyGnome: 463 streamers\n",
      "✨ Après dédoublonnage: 463 streamers uniques\n"
     ]
    }
   ],
   "source": [
    "# Chargement et consolidation SullyGnome\n",
    "sullygnome_dir = raw_dir / 'sullygnome'\n",
    "csv_files = list(sullygnome_dir.glob('*.csv'))\n",
    "\n",
    "print(f\"📁 Fichiers SullyGnome trouvés: {len(csv_files)}\")\n",
    "\n",
    "# Consolidation\n",
    "all_pages = []\n",
    "for csv_file in csv_files:\n",
    "    df = pd.read_csv(csv_file)\n",
    "    all_pages.append(df)\n",
    "    print(f\"   {csv_file.name}: {len(df)} streamers\")\n",
    "\n",
    "if all_pages:\n",
    "    df_sullygnome = pd.concat(all_pages, ignore_index=True)\n",
    "    print(f\"\\n📊 Total SullyGnome: {len(df_sullygnome)} streamers\")\n",
    "    \n",
    "    # Nettoyage basique\n",
    "    df_sullygnome = df_sullygnome.drop_duplicates(subset=['Channel'])\n",
    "    df_sullygnome['Channel'] = df_sullygnome['Channel'].str.lower().str.strip()\n",
    "    \n",
    "    print(f\"✨ Après dédoublonnage: {len(df_sullygnome)} streamers uniques\")\n",
    "else:\n",
    "    print(\"⚠️ Aucun fichier SullyGnome trouvé\")\n",
    "    df_sullygnome = pd.DataFrame()"
   ]
  },
  {
   "cell_type": "markdown",
   "id": "3357bdb9",
   "metadata": {},
   "source": [
    "## 4. Nettoyage et Enrichissement\n",
    "\n",
    "Préparation des datasets finaux."
   ]
  },
  {
   "cell_type": "code",
   "execution_count": 16,
   "id": "2e9f4cbf",
   "metadata": {},
   "outputs": [
    {
     "name": "stdout",
     "output_type": "stream",
     "text": [
      "📊 Type de données: <class 'dict'>\n",
      "📊 Clés disponibles: ['0uahleouff', '2old4stream', 'adyboo', 'airkagaming', 'alexclick', 'allmight__one', 'alphacast', 'anaee', 'anaonair', 'angledroit', 'antistar', 'antoinedaniel', 'arnaquemoisitupeux', 'artemize', 'as2pik', 'avamind', 'azghaaar', 'bagherajones', 'barbe___douce', 'bartgeo', 'bastiui', 'bclv4', 'behop_veek', 'benzaie', 'bigbadhater_fr', 'bluestardust_', 'boitameu', 'boomnasty_', 'bouddhiste', 'brickmitri', 'broocoline', 'brunouniverssimu', 'brybry', 'byilhann', 'cailloute', 'captainfracas', 'chaab', 'chaton_sauvage_', 'chester_ttv', 'chezbubulle', 'chowh1', 'christellelebaillyauteur', 'citronviolet', 'clara_l_exploratrice', 'clem_mlrt', 'clemovitch', 'clubpingouin_trash', 'coffee', 'crocodyletv', 'crosswax', 'cruelladk', 'damdamlive', 'dams_ow', 'david_kyden', 'deavild', 'deejaymakina', 'did0us', 'doigby', 'domingo', 'doxtv75', 'drakeoz_', 'drfeelgood', 'drfrenesy', 'echyr_', 'elbe_poly', 'elfyaa', 'elizyatv', 'elnoraeleo', 'elyhonair', 'elypwet', 'e_mule', 'enjoyphoenix', 'estebancano_7', 'etoile_ow', 'etoiles', 'euphoriasis', 'evan91380_', 'evoxia', 'expat_malgre_lui', 'eymryc', 'eziogdsp', 'fabdcolson', 'falkalive', 'farodgames', 'fausthea', 'f_bardino', 'fefegg', 'flamby', 'flavienalexzander', 'flaviestch', 'flonflon', 'flynnwinch', 'franck_miller', 'frozencrystal', 'fukano', 'gamesdreamy', 'general_mass', 'gf_iguel', 'gius', 'golriver_', 'gom4rt', 'greg16s', 'guimauseterrier', 'hammerkick', 'harumate', 'hctuan', 'heillinel', 'helydia', 'hortyunderscore', 'hosarny', 'hugoauperchoir', 'huzounet', 'hytanie', 'ikerttvv', 'imsofresh', 'jackplaypz', 'jardistream', 'jarlspunk', 'jawedcs', 'jeanbaptisteshow', 'jengo_m', 'jennyyl', 'jessbond', 'jidun', 'jilanocast', 'jirayalecochon', 'jltomy', 'joelafritt_', 'joueur_du_grenier', 'joyca', 'julgane', 'just1chat', 'kahleeya', 'kammy64', 'kaosvmd', 'kapslockart', 'karoviper', 'katchanvt', 'keeps', 'kejinn', 'kemist_c10h15n', 'kenbogard', 'kennystream', 'kensei_fr', 'kikitchiwi', 'klr_stream', 'koala_cosy', 'koripeluche', 'kunder_on', 'kusa', 'kwikwiii', 'kyunesswhale', 'la_capitainerie', 'lakalzone', 'lalain', 'laniyelle', 'lapi', 'latavernedepatatus', 'leocrow_', 'lepapyofficiel', 'lepirateroux', 'leprotagonistetv', 'les_archives', 'lesgoules', 'linca', 'littlebigwhale', 'lofimaria_', 'lunae', 'lunium', 'lynkus_', 'lypning', 'm4fgaming', 'm4ll4ury', 'magarky', 'mahyars', 'maitrearmand', 'maitreleee', 'malganyr', 'manaryuujin', 'marcelpignol', 'marco', 'maricanne', 'maryhealthtv', 'mastu', 'mathox', 'mavienormale', 'medalinya', 'memez94', 'menou', 'merci_raph', 'meteorann', 'mialymusic', 'michaelbielli', 'mielcrapouille', 'miisterkel', 'misscliick_', 'mistermv', 'misterpacothai', 'mistyee', 'moman', 'momos_vision', 'monkyjv', 'monsieurfoxx', 'morrigh4n', 'mrderiv', 'mrquarate', 'mushu', 'music_oceane', 'mynthos', 'n0tizi', 'nakastream', 'nanie_nao', 'natsuko', 'necotho', 'nejda', 'nerdfactory', 'neru', 'nia_c', 'nico_la', 'nihiiltv', 'nikotb_', 'nogodi', 'noki_pubg', 'nunakeau', 'nyamassis', 'nykho', 'oliarius', 'olithinoa', 'otsunatv', 'ouilli', 'papy_grant', 'petitbiscuit_', 'petitours', 'peurle_ow', 'pixeloctet', 'play_mk8', 'poachimpa', 'ponce', 'pressea', 'priscillaliaud', 'proteam', 'purpleofficiel', 'pwnz_', 'r3ymann', 'ravencross', 'rbcop_', 'recalbox', 'recharg_ing', 'redairazor', 'ribodanslasauce', 'rivenzi', 'roi_louis', 'ryuuna_vt', 'sakor_', 'samueletienne', 'saniahasna', 'sapeuh', 'saruei', 'sawpalin', 'schkaia', 'scok', 'seroths', 'sgauth', 'shakaam', 'shisheyu', 'shubbley', 'shynouh', 'skerax', 'skyzio_', 'slyders_hs', 'soharumi', 'solaryhs', 'sol_hms', 'solkarine', 'splinter', 'sratuke', 'ss7even', 'st0netv', 'stanrenart', 'stelliosow', 'strey_lol', 'sturry316', 'sundae', 'swifiiii', 'sylvainlyve', 'symphoniya_', 'taelth', 'tamaroush_', 'tchouuki', 'tehleadersheep', 'teuff_', 'thefoxeur', 'thegreatreview', 'theguill84', 'theholomovement', 'theodort', 'tipstevens', 'togalock_fr', 'toulouselaststock', 'trinity', 'tsunadida', 'ultia', 'varg31', 'verveine_', 'voxioo', 'vulvyqueen', 'warhadventure', 'welliah', 'windsurfer2105', 'wingo', 'yannock_', 'yodahkiin_', 'ysadhora', 'zacknani', 'zayphira', 'zerator', 'zevent', 'zeventplays', 'zimas']\n",
      "📊 Streamers ZEvent: 319 streamers\n",
      "📋 Colonnes: ['donation', 'pools', 'times', 'viewers', 'viewers_max']\n",
      "💾 Sauvegarde: streamers_data.csv\n",
      "💾 Sauvegarde: sullygnome_consolidated.csv\n"
     ]
    }
   ],
   "source": [
    "# Traitement des données streamers ZEvent\n",
    "streamers_dir = clean_dir / 'streamers'\n",
    "streamers_dir.mkdir(exist_ok=True)\n",
    "\n",
    "# Chargement et analyse du fichier individual_streamer_stats\n",
    "try:\n",
    "    with open(raw_dir / 'zevent_api' / 'individual_streamer_stats.json', 'r', encoding='utf-8') as f:\n",
    "        streamer_stats = json.load(f)\n",
    "    \n",
    "    print(f\"📊 Type de données: {type(streamer_stats)}\")\n",
    "    if isinstance(streamer_stats, dict):\n",
    "        print(f\"📊 Clés disponibles: {list(streamer_stats.keys())}\")\n",
    "        # Si c'est un dict, prendre les valeurs ou une clé spécifique\n",
    "        if 'streamers' in streamer_stats:\n",
    "            streamer_list = streamer_stats['streamers']\n",
    "        elif isinstance(list(streamer_stats.values())[0], list):\n",
    "            streamer_list = list(streamer_stats.values())[0]\n",
    "        else:\n",
    "            streamer_list = list(streamer_stats.values())\n",
    "    elif isinstance(streamer_stats, list):\n",
    "        streamer_list = streamer_stats\n",
    "    else:\n",
    "        streamer_list = []\n",
    "    \n",
    "    if streamer_list and len(streamer_list) > 0:\n",
    "        df_zevent = pd.DataFrame(streamer_list)\n",
    "        print(f\"📊 Streamers ZEvent: {len(df_zevent)} streamers\")\n",
    "        print(f\"📋 Colonnes: {list(df_zevent.columns)}\")\n",
    "        \n",
    "        # Nettoyage username pour matching\n",
    "        username_col = None\n",
    "        for col in ['username', 'name', 'channel', 'streamer']:\n",
    "            if col in df_zevent.columns:\n",
    "                username_col = col\n",
    "                break\n",
    "        \n",
    "        if username_col:\n",
    "            df_zevent['username_clean'] = df_zevent[username_col].str.lower().str.strip()\n",
    "            print(f\"✅ Colonne username_clean créée depuis {username_col}\")\n",
    "        \n",
    "        # Sauvegarde streamers base\n",
    "        df_zevent.to_csv(streamers_dir / 'streamers_data.csv', index=False)\n",
    "        print(f\"💾 Sauvegarde: streamers_data.csv\")\n",
    "        \n",
    "        # Enrichissement avec SullyGnome si disponible\n",
    "        if not df_sullygnome.empty and 'username_clean' in df_zevent.columns:\n",
    "            # Matching par username\n",
    "            df_enriched = df_zevent.merge(\n",
    "                df_sullygnome.rename(columns={'Channel': 'username_clean'}),\n",
    "                on='username_clean',\n",
    "                how='left'\n",
    "            )\n",
    "            \n",
    "            # Sauvegarde enrichie\n",
    "            df_enriched.to_csv(streamers_dir / 'zevent_sullygnome_enriched.csv', index=False)\n",
    "            print(f\"💾 Sauvegarde: zevent_sullygnome_enriched.csv\")\n",
    "            \n",
    "            # Stats de matching\n",
    "            sullygnome_cols = [col for col in df_enriched.columns if col in df_sullygnome.columns]\n",
    "            if sullygnome_cols:\n",
    "                matched = df_enriched.dropna(subset=[sullygnome_cols[0]]).shape[0]\n",
    "                print(f\"🔗 Matching réussi: {matched}/{len(df_zevent)} streamers\")\n",
    "        \n",
    "        # Sauvegarde SullyGnome consolidé\n",
    "        if not df_sullygnome.empty:\n",
    "            df_sullygnome.to_csv(streamers_dir / 'sullygnome_consolidated.csv', index=False)\n",
    "            print(f\"💾 Sauvegarde: sullygnome_consolidated.csv\")\n",
    "            \n",
    "    else:\n",
    "        print(\"❌ Aucune donnée streamer trouvée\")\n",
    "        \n",
    "except Exception as e:\n",
    "    print(f\"❌ Erreur traitement streamers: {e}\")\n",
    "    # Utiliser les données existantes si le fichier CSV existe déjà\n",
    "    existing_streamers = streamers_dir / 'streamers_data.csv'\n",
    "    if existing_streamers.exists():\n",
    "        print(\"   → Utilisation des données existantes\")\n",
    "    else:\n",
    "        print(\"   → Aucune donnée disponible\")"
   ]
  },
  {
   "cell_type": "markdown",
   "id": "20c45b16",
   "metadata": {},
   "source": [
    "## 5. Sauvegarde Données Événements"
   ]
  },
  {
   "cell_type": "code",
   "execution_count": 17,
   "id": "d947c626",
   "metadata": {},
   "outputs": [
    {
     "name": "stdout",
     "output_type": "stream",
     "text": [
      "💾 Goals sauvegardés: 5442 objectifs\n",
      "💾 Planning sauvegardé: 57 événements\n"
     ]
    }
   ],
   "source": [
    "# Sauvegarde goals et événements\n",
    "events_dir = clean_dir / 'events'\n",
    "events_dir.mkdir(exist_ok=True)\n",
    "\n",
    "# Donation goals\n",
    "if zevent_data.get('donation_goals'):\n",
    "    df_goals = pd.DataFrame(zevent_data['donation_goals'])\n",
    "    df_goals.to_csv(events_dir / 'donation_goals.csv', index=False)\n",
    "    print(f\"💾 Goals sauvegardés: {len(df_goals)} objectifs\")\n",
    "\n",
    "# Event schedule  \n",
    "if zevent_data.get('event_schedule'):\n",
    "    df_schedule = pd.DataFrame(zevent_data['event_schedule'])\n",
    "    df_schedule.to_csv(events_dir / 'event_schedule.csv', index=False)\n",
    "    print(f\"💾 Planning sauvegardé: {len(df_schedule)} événements\")"
   ]
  },
  {
   "cell_type": "markdown",
   "id": "28ec7547",
   "metadata": {},
   "source": [
    "## 6. Résumé des Données Préparées"
   ]
  },
  {
   "cell_type": "code",
   "execution_count": 18,
   "id": "7d312f2e",
   "metadata": {},
   "outputs": [
    {
     "name": "stdout",
     "output_type": "stream",
     "text": [
      "\n",
      "==================================================\n",
      "📊 RÉSUMÉ DES DONNÉES PRÉPARÉES\n",
      "==================================================\n",
      "✅ events\\donation_goals.csv: 5442 lignes, 10 colonnes\n",
      "✅ events\\event_schedule.csv: 57 lignes, 7 colonnes\n",
      "✅ streamers\\streamers_data.csv: 319 lignes, 5 colonnes\n",
      "✅ streamers\\streamers_detailed_stats.csv: 326 lignes, 15 colonnes\n",
      "✅ streamers\\sullygnome_consolidated.csv: 463 lignes, 12 colonnes\n",
      "✅ streamers\\sullygnome_raw_consolidated.csv: 463 lignes, 15 colonnes\n",
      "✅ streamers\\sullygnome_zevent_consolidated.csv: 463 lignes, 19 colonnes\n",
      "✅ streamers\\zevent_sullygnome_enriched.csv: 316 lignes, 26 colonnes\n",
      "✅ temporal\\donations_evolution.csv: 110 lignes, 3 colonnes\n",
      "✅ temporal\\viewers_evolution.csv: 111 lignes, 3 colonnes\n",
      "\n",
      "📁 Tous les fichiers dans: c:\\Users\\Linwë\\Documents\\ZEvent2025_data_analyse\\data\\clean\n",
      "✨ Données prêtes pour l'analyse !\n"
     ]
    }
   ],
   "source": [
    "# Résumé final\n",
    "print(\"\\n\" + \"=\"*50)\n",
    "print(\"📊 RÉSUMÉ DES DONNÉES PRÉPARÉES\")\n",
    "print(\"=\"*50)\n",
    "\n",
    "# Vérification des fichiers créés\n",
    "clean_files = list(clean_dir.rglob('*.csv'))\n",
    "for file in clean_files:\n",
    "    df_check = pd.read_csv(file)\n",
    "    relative_path = file.relative_to(clean_dir)\n",
    "    print(f\"✅ {relative_path}: {len(df_check)} lignes, {len(df_check.columns)} colonnes\")\n",
    "\n",
    "print(f\"\\n📁 Tous les fichiers dans: {clean_dir}\")\n",
    "print(\"✨ Données prêtes pour l'analyse !\")"
   ]
  }
 ],
 "metadata": {
  "kernelspec": {
   "display_name": ".venv (3.13.1)",
   "language": "python",
   "name": "python3"
  },
  "language_info": {
   "codemirror_mode": {
    "name": "ipython",
    "version": 3
   },
   "file_extension": ".py",
   "mimetype": "text/x-python",
   "name": "python",
   "nbconvert_exporter": "python",
   "pygments_lexer": "ipython3",
   "version": "3.13.1"
  }
 },
 "nbformat": 4,
 "nbformat_minor": 5
}
